{
 "cells": [
  {
   "cell_type": "code",
   "execution_count": 30,
   "metadata": {
    "ExecuteTime": {
     "end_time": "2017-06-11T17:33:38.199438Z",
     "start_time": "2017-06-11T17:33:38.044099Z"
    }
   },
   "outputs": [
    {
     "name": "stdout",
     "output_type": "stream",
     "text": [
      "Linux claritytrec 4.4.0-28-generic #47-Ubuntu SMP Fri Jun 24 10:09:13 UTC 2016 x86_64 x86_64 x86_64 GNU/Linux\r\n"
     ]
    }
   ],
   "source": [
    "!uname -a"
   ]
  },
  {
   "cell_type": "code",
   "execution_count": null,
   "metadata": {
    "ExecuteTime": {
     "start_time": "2017-06-09T19:23:16.449Z"
    },
    "collapsed": true
   },
   "outputs": [],
   "source": [
    "import pandas as pd\n",
    "import gzip as gz\n",
    "import json\n",
    "\n",
    "\n",
    "fname = '/home/alawlor/data/amazon_reviews/aggressive_dedup.json.gz'\n",
    "\n",
    "def _gen():\n",
    "    with gz.open(fname, 'rb') as f:\n",
    "        for i,line in enumerate(f):\n",
    "            obj = json.loads(line)\n",
    "            #print(obj)\n",
    "            yield dict(reviewerID=obj['reviewerID'], asin=obj['asin'], reviewText=obj['reviewText'])\n",
    "            #return\n",
    "            \n",
    "df = pd.DataFrame(_gen())\n",
    "df.to_csv(\"userItemReview\", sep=',', encoding='utf-8')\n",
    "print(\"Done!\")"
   ]
  },
  {
   "cell_type": "code",
   "execution_count": null,
   "metadata": {
    "ExecuteTime": {
     "end_time": "2017-06-10T02:46:23.972268Z",
     "start_time": "2017-06-10T02:46:23.918074Z"
    },
    "collapsed": true
   },
   "outputs": [],
   "source": [
    "df.head(1000)"
   ]
  },
  {
   "cell_type": "code",
   "execution_count": null,
   "metadata": {
    "ExecuteTime": {
     "start_time": "2017-06-09T17:32:19.793Z"
    },
    "collapsed": true
   },
   "outputs": [],
   "source": [
    "df.to_pickle(\"userItemReview.pkl\")\n",
    "print(\"Done!\")"
   ]
  },
  {
   "cell_type": "markdown",
   "metadata": {},
   "source": [
    "# Load Data"
   ]
  },
  {
   "cell_type": "markdown",
   "metadata": {},
   "source": [
    "## Read Data"
   ]
  },
  {
   "cell_type": "code",
   "execution_count": null,
   "metadata": {
    "ExecuteTime": {
     "end_time": "2017-06-08T22:24:24.885948Z",
     "start_time": "2017-06-08T22:24:24.333973Z"
    },
    "collapsed": true
   },
   "outputs": [],
   "source": []
  },
  {
   "cell_type": "code",
   "execution_count": 9,
   "metadata": {
    "ExecuteTime": {
     "end_time": "2017-06-09T00:00:33.347860Z",
     "start_time": "2017-06-08T23:59:17.668442Z"
    },
    "collapsed": true
   },
   "outputs": [],
   "source": [
    "import pandas as pd\n",
    "dataset=[]\n",
    "dataset = pd.read_pickle(\"userItemRating.pkl\")"
   ]
  },
  {
   "cell_type": "markdown",
   "metadata": {},
   "source": [
    "The dataset we dealing with is loaded here, through reading from a pickle file stored on the disk."
   ]
  },
  {
   "cell_type": "markdown",
   "metadata": {},
   "source": [
    "## Dataset Report"
   ]
  },
  {
   "cell_type": "code",
   "execution_count": 19,
   "metadata": {
    "ExecuteTime": {
     "end_time": "2017-06-07T14:23:53.270922Z",
     "start_time": "2017-06-07T14:15:00.713917Z"
    }
   },
   "outputs": [
    {
     "name": "stdout",
     "output_type": "stream",
     "text": [
      "#Users:  21137702         #Items:  9857286         #Reviews:  83091702         Density:  3.9878840878490306e-07 %\n",
      "Mean reviews per User:  3.930971398877702    Mean reviews per Item:  8.429470545949464    Mean Rating (Overall):  4.160582605468835\n",
      "Dataset Size:  83091702         #Duplicate Records:  255200\n"
     ]
    }
   ],
   "source": [
    "def data_report(df=None):\n",
    "    users = df.reviewerID.unique()\n",
    "    items= df.asin.unique()\n",
    "    ratings= df.overall.unique()\n",
    "    n_users= len(users)\n",
    "    n_items= len(items)\n",
    "    n_reviews= len(df)\n",
    "    density = ((n_reviews)/(n_users*n_items))\n",
    "    meanReviewsPerUser=df['reviewerID'].value_counts().mean()\n",
    "    meanReviewsPerItem=df['asin'].value_counts().mean()\n",
    "    meanRating=df['overall'].mean()\n",
    "    print(\"#Users: \",n_users,\"        #Items: \",n_items,\"        #Reviews: \",n_reviews,\"        Density: \",density,\"%\")\n",
    "    print(\"Mean reviews per User: \",meanReviewsPerUser,\"   Mean reviews per Item: \",meanReviewsPerItem,\"   Mean Rating (Overall): \",meanRating)\n",
    "    print(\"Dataset Size: \",len(df),\"        #Duplicate Records: \",((len(df))-(len(dataset.drop_duplicates(subset=['asin', 'reviewerID'])))))\n",
    "\n",
    "data_report(dataset)"
   ]
  },
  {
   "cell_type": "markdown",
   "metadata": {},
   "source": [
    "The above information obtained as a product of initial computation on the dataset, to get a deeper insight on it.<br/><br/>\n",
    "The following are the observations:<br/>\n",
    "<ul>\n",
    "<li>Total number of unique users in the dataset is: <b>21,137,702.</b> .</li>\n",
    "<li>Total number of unique items in the dataset is: <b>9,857,286</b> .</li>\n",
    "<li>Total Reviews/Ratings present in the dataset is: <b>83,091,702</b> .</li>\n",
    "<li>Number of duplicate reviews present in the dataset is: <b>255,200</b> .</li>\n",
    "<li>Density of the dataset is the number of cells of the item-user matrix that is populated with data.<br/>\n",
    "Density of the dataset here is: <b>~3.987884%</b> .</li>\n",
    "<li>The mean number of reviews given per user in the datset is: <b>3.93097%</b> .</li>\n",
    "<li>The mean number of reviews received per item in the dataset is: <b>8.42947</b> .</li>\n",
    "</ul>"
   ]
  },
  {
   "cell_type": "markdown",
   "metadata": {
    "ExecuteTime": {
     "end_time": "2017-05-27T18:45:19.104377Z",
     "start_time": "2017-05-27T18:37:14.661340Z"
    }
   },
   "source": [
    "## After removing duplicate data"
   ]
  },
  {
   "cell_type": "code",
   "execution_count": 4,
   "metadata": {
    "ExecuteTime": {
     "end_time": "2017-06-07T02:14:03.158782Z",
     "start_time": "2017-06-07T02:14:03.144259Z"
    },
    "collapsed": true
   },
   "outputs": [],
   "source": [
    "dataset= dataset.drop_duplicates(subset=['asin', 'reviewerID'], keep=\"last\")\n",
    "#data_report(dataset)"
   ]
  },
  {
   "cell_type": "markdown",
   "metadata": {},
   "source": [
    "# Plots"
   ]
  },
  {
   "cell_type": "markdown",
   "metadata": {},
   "source": [
    "## Loading libraries and pre-computing data\n",
    "\n",
    "After loading the dataset, we conduct various computations over it."
   ]
  },
  {
   "cell_type": "code",
   "execution_count": 5,
   "metadata": {
    "ExecuteTime": {
     "end_time": "2017-06-08T23:38:58.811224Z",
     "start_time": "2017-06-08T23:38:58.747864Z"
    },
    "collapsed": true
   },
   "outputs": [],
   "source": [
    "#Load the libraries required\n",
    "import matplotlib.pyplot as plt\n",
    "%matplotlib inline\n",
    "import seaborn as sns\n",
    "import numpy as np\n",
    "import plotly as py\n",
    "import pandas as pd\n",
    "\n",
    "#Pickle store/load function\n",
    "\n",
    "def storePickle(df=None,name=\"temp.pkl\"):\n",
    "    df.to_pickle(name)\n",
    "    \n",
    "def loadPickle(name=\"temp.pkl\"):\n",
    "    df=pd.read_pickle(name)\n",
    "    return df\n",
    "\n",
    "#Grouping func\n",
    "\n",
    "def groupingData(df=None,cols=['n_occurences','n_members']):\n",
    "    df_Temp=pd.DataFrame(columns=cols)\n",
    "    colName=list(df)\n",
    "    df_Temp[cols[0]]=df.groupby(colName[0]).groups.keys()\n",
    "    df_Temp[cols[1]]=df.groupby(colName[0]).size()\n",
    "    df_Temp=df_Temp.fillna(0)\n",
    "    return df_Temp\n",
    "\n",
    "#Pre-compute the data to be used in plotting\n",
    "def preCompute(df=None):\n",
    "    df_grpRevUser = dataset[['reviewerID']].groupby('reviewerID', sort=False).agg({'reviewerID': 'count'})\n",
    "    df_grpRevItem = dataset[['asin']].groupby('asin', sort=False).agg({'asin': 'count'})\n",
    "    df_grpRateUser= dataset.groupby(['reviewerID'],sort=False).agg({'overall': 'mean'})\n",
    "    df_grpRateItem= dataset.groupby(['asin'],sort=False).agg({'overall': 'mean'})\n",
    "    storePickle(df_grpRevUser,name=\"grpRevUser.pkl\")\n",
    "    storePickle(df_grpRevItem,name=\"grpRevItem.pkl\")\n",
    "    storePickle(df_grpRateUser,name=\"grpRateUser.pkl\")\n",
    "    storePickle(df_grpRateItem,name=\"grpRateItem.pkl\")\n",
    "    return df_grpRevUser,df_grpRevItem,df_grpRateUser,df_grpRateItem\n",
    "\n",
    "def loadPreCompute():\n",
    "    df_grpRevUser=loadPickle(name=\"grpRevUser.pkl\")\n",
    "    df_grpRevItem=loadPickle(name=\"grpRevItem.pkl\")\n",
    "    df_grpRateUser=loadPickle(name=\"grpRateUser.pkl\")\n",
    "    df_grpRateItem=loadPickle(name=\"grpRateItem.pkl\")\n",
    "    return df_grpRevUser,df_grpRevItem,df_grpRateUser,df_grpRateItem"
   ]
  },
  {
   "cell_type": "markdown",
   "metadata": {},
   "source": [
    "Here in the function \"preCompute\", we pass a dataframe (which would be our dataset), and we group the data by reviewers or items.<br/>\n",
    "On the groups generated we calculated the number of occurences of that element (which signifies number of reviews/ratings against them) and mean of the total ratings against them.<br/>\n",
    "These values corresponding to their groups are stored in their respective dataframes, which are then returend back to the callee and even stored on the disk in the form of pickle files, that can be utilized to load later instead of undergoing all these process again."
   ]
  },
  {
   "cell_type": "code",
   "execution_count": 8,
   "metadata": {
    "ExecuteTime": {
     "end_time": "2017-06-07T02:22:03.576025Z",
     "start_time": "2017-06-07T02:14:38.041047Z"
    }
   },
   "outputs": [
    {
     "name": "stdout",
     "output_type": "stream",
     "text": [
      "CPU times: user 4min 18s, sys: 1min 47s, total: 6min 5s\n",
      "Wall time: 7min 21s\n"
     ]
    }
   ],
   "source": [
    "##Execute this to compute and store the groups as pickle\n",
    "    \n",
    "%time df_grpRevUser,df_grpRevItem,df_grpRateUser,df_grpRateItem = preCompute(dataset)"
   ]
  },
  {
   "cell_type": "code",
   "execution_count": 6,
   "metadata": {
    "ExecuteTime": {
     "end_time": "2017-06-08T23:39:35.108916Z",
     "start_time": "2017-06-08T23:39:06.279314Z"
    }
   },
   "outputs": [
    {
     "name": "stdout",
     "output_type": "stream",
     "text": [
      "CPU times: user 19.7 s, sys: 5.34 s, total: 25.1 s\n",
      "Wall time: 28.8 s\n"
     ]
    }
   ],
   "source": [
    "##Execute this if the pre-computed files are already stored and just need to load it from pickle files.\n",
    "\n",
    "%time df_grpRevUser,df_grpRevItem,df_grpRateUser,df_grpRateItem= loadPreCompute()"
   ]
  },
  {
   "cell_type": "markdown",
   "metadata": {},
   "source": [
    "## Plotting function\n",
    "We define a generic plotting function here, that can be utilized to visualize histogram plots."
   ]
  },
  {
   "cell_type": "code",
   "execution_count": 16,
   "metadata": {
    "ExecuteTime": {
     "end_time": "2017-06-09T00:24:43.381250Z",
     "start_time": "2017-06-09T00:24:43.211750Z"
    },
    "collapsed": true
   },
   "outputs": [],
   "source": [
    "import numpy as np\n",
    "import matplotlib as mlib\n",
    "import matplotlib.pyplot as plt\n",
    "\n",
    "\n",
    "\n",
    "def plotting(df=None,nbins=1,xmin=None,xmax=None, density=False, xlabel='', ylabel='', logscale=False, cumulative=None ):\n",
    "    if xmin==None:\n",
    "        xmin=df.min()\n",
    "    if xmax==None:\n",
    "        xmax=(df.max())+1\n",
    "        \n",
    "    if density:\n",
    "        normed = True\n",
    "        if cumulative==None:\n",
    "            cumulative=True\n",
    "    else:\n",
    "        normed = False\n",
    "        if cumulative==None:\n",
    "            cumulative=False\n",
    "    \n",
    "    bins=np.arange(xmin,xmax,nbins)\n",
    "    \n",
    "    df.hist(bins=bins, normed=normed, cumulative=cumulative, figsize=(10,7))\n",
    "    mean_val = df.mean().values[0]\n",
    "    plt.axvline(x=mean_val, color='r', label='Mean of {} = {}'.format(xlabel,mean_val), alpha=0.6)\n",
    "    plt.xlabel(xlabel)\n",
    "    plt.ylabel(ylabel)\n",
    "    if logscale:\n",
    "        plt.yscale('log')\n",
    "    #y_formatter = plt.ticker.ScalarFormatter(useOffset=False)\n",
    "    #plt.yaxis.set_major_formatter(y_formatter)\n",
    "    plt.legend()\n",
    "    return\n"
   ]
  },
  {
   "cell_type": "markdown",
   "metadata": {},
   "source": [
    "## Creating Plots"
   ]
  },
  {
   "cell_type": "code",
   "execution_count": 7,
   "metadata": {
    "ExecuteTime": {
     "end_time": "2017-06-08T12:12:25.730306Z",
     "start_time": "2017-06-08T12:12:20.519103Z"
    }
   },
   "outputs": [
    {
     "data": {
      "image/png": "[encoded data removed]",
      "text/plain": [
       "<matplotlib.figure.Figure at 0x7f81f374c860>"
      ]
     },
     "metadata": {},
     "output_type": "display_data"
    }
   ],
   "source": [
    "#Call the plotting function\n",
    "plotting(df_grpRevUser, xmin=1, xmax=50, density=False, logscale=True, xlabel=\"Reviews\", ylabel=\"Users\")"
   ]
  },
  {
   "cell_type": "markdown",
   "metadata": {},
   "source": [
    "In the histogram above, we can clearly see the following: <br/>\n",
    "<ul>\n",
    "<li>Maximum number of users just reviewed only 1 item. The number of users being above 7,000,000.</li>\n",
    "<li>The mean number of reviews per user in the dataset is 3.93097</li>\n",
    "</ul>"
   ]
  },
  {
   "cell_type": "code",
   "execution_count": 8,
   "metadata": {
    "ExecuteTime": {
     "end_time": "2017-06-08T12:12:44.909379Z",
     "start_time": "2017-06-08T12:12:42.284653Z"
    }
   },
   "outputs": [
    {
     "data": {
      "image/png": "[encoded data removed]",
      "text/plain": [
       "<matplotlib.figure.Figure at 0x7f81f187c668>"
      ]
     },
     "metadata": {},
     "output_type": "display_data"
    }
   ],
   "source": [
    "#Call the plotting function\n",
    "\n",
    "plotting(df_grpRevUser, xmin=1, xmax=50, density=True, logscale=False, xlabel=\"Reviews\", ylabel=\"Users\")"
   ]
  },
  {
   "cell_type": "markdown",
   "metadata": {},
   "source": [
    "Here in the graph above we can infer the following:<br/>\n",
    "<ul>\n",
    "<li>100% of the users has been reached when the number of Reviews is about 48.</li>\n",
    "<li>A threshold of upto 48 reviews per user can be set as minimum threshold to consider all the users present in the dataset. Helping us to extract a sample of the entire dataset, saving time and memory complexities.</li>\n",
    "</ul>"
   ]
  },
  {
   "cell_type": "code",
   "execution_count": 9,
   "metadata": {
    "ExecuteTime": {
     "end_time": "2017-06-08T12:12:48.354811Z",
     "start_time": "2017-06-08T12:12:44.912625Z"
    }
   },
   "outputs": [
    {
     "data": {
      "image/png": "[encoded data removed]",
      "text/plain": [
       "<matplotlib.figure.Figure at 0x7f81f18b50b8>"
      ]
     },
     "metadata": {},
     "output_type": "display_data"
    }
   ],
   "source": [
    "#Call the plotting function\n",
    "\n",
    "plotting(df_grpRevUser, xmin=1, xmax=50, density=True, logscale=True, xlabel=\"Reviews\", ylabel=\"Users\", cumulative=-1)"
   ]
  },
  {
   "cell_type": "markdown",
   "metadata": {},
   "source": [
    "<ul>\n",
    "<li>Here through the graph above we can infer that as we consider setting a threshold on minimum number of reviews per user, as this number increases we see that number of users satisfying this threshold declines gradually.</li>\n",
    "<li>At minimum reviews of 50, we lose more than 98% of user profile.</li>"
   ]
  },
  {
   "cell_type": "code",
   "execution_count": 10,
   "metadata": {
    "ExecuteTime": {
     "end_time": "2017-06-08T12:12:50.389228Z",
     "start_time": "2017-06-08T12:12:48.357673Z"
    }
   },
   "outputs": [
    {
     "data": {
      "image/png": "[encoded data removed]",
      "text/plain": [
       "<matplotlib.figure.Figure at 0x7f81f11029b0>"
      ]
     },
     "metadata": {},
     "output_type": "display_data"
    }
   ],
   "source": [
    "#Call the plotting function\n",
    "\n",
    "plotting(df_grpRevItem, xmin=1, xmax=40, density=False, logscale=True, xlabel=\"Reviews\", ylabel=\"Items\")"
   ]
  },
  {
   "cell_type": "markdown",
   "metadata": {},
   "source": [
    "In the histogram above, we can clearly see the following: <br/>\n",
    "<ul>\n",
    "<li>Maximum number of items received just 1 review. The number of such items being above 6,700,000.</li>\n",
    "<li>The mean number of reviews per item in the dataset is 8.42947</li>\n",
    "</ul>"
   ]
  },
  {
   "cell_type": "code",
   "execution_count": 11,
   "metadata": {
    "ExecuteTime": {
     "end_time": "2017-06-08T12:12:51.596913Z",
     "start_time": "2017-06-08T12:12:50.392867Z"
    }
   },
   "outputs": [
    {
     "data": {
      "image/png": "[encoded data removed]",
      "text/plain": [
       "<matplotlib.figure.Figure at 0x7f81f1805048>"
      ]
     },
     "metadata": {},
     "output_type": "display_data"
    }
   ],
   "source": [
    "#Call the plotting function\n",
    "\n",
    "plotting(df_grpRevItem, xmin=1, xmax=40, density=True, logscale=False, xlabel=\"Reviews\", ylabel=\"Items\")"
   ]
  },
  {
   "cell_type": "markdown",
   "metadata": {},
   "source": [
    "Here in the graph above we can infer the following:<br/>\n",
    "<ul>\n",
    "<li>100% of the items has been reached when the number of Reviews is about 38.</li>\n",
    "<li>A threshold of upto 38 reviews per item can be set as minimum threshold to consider all the users present in the dataset. Helping us to extract a sample of the entire dataset, saving time and memory complexities.</li>\n",
    "</ul>"
   ]
  },
  {
   "cell_type": "code",
   "execution_count": 12,
   "metadata": {
    "ExecuteTime": {
     "end_time": "2017-06-08T12:12:52.935894Z",
     "start_time": "2017-06-08T12:12:51.600441Z"
    }
   },
   "outputs": [
    {
     "data": {
      "image/png": "[encoded data removed]",
      "text/plain": [
       "<matplotlib.figure.Figure at 0x7f81f10b62b0>"
      ]
     },
     "metadata": {},
     "output_type": "display_data"
    }
   ],
   "source": [
    "# Call the plotting function\n",
    "plotting(df_grpRevItem, xmin=1, xmax=40, density=True, logscale=False, xlabel=\"Reviews\", ylabel=\"Items\", cumulative=-1)"
   ]
  },
  {
   "cell_type": "markdown",
   "metadata": {},
   "source": [
    "<ul>\n",
    "<li>Here through the graph above we can infer that as we consider setting a threshold on minimum number of reviews per item, as this number increases we see that number of items satisfying this threshold declines gradually.</li>\n",
    "<li>At minimum reviews of 38-39, we lose about 98-99% of item profiles.</li>"
   ]
  },
  {
   "cell_type": "code",
   "execution_count": 13,
   "metadata": {
    "ExecuteTime": {
     "end_time": "2017-06-08T12:13:00.198805Z",
     "start_time": "2017-06-08T12:12:52.939177Z"
    }
   },
   "outputs": [
    {
     "data": {
      "image/png": "[encoded data removed]",
      "text/plain": [
       "<matplotlib.figure.Figure at 0x7f81f199bc88>"
      ]
     },
     "metadata": {},
     "output_type": "display_data"
    }
   ],
   "source": [
    "#Call the plotting function\n",
    "\n",
    "plotting(df_grpRateUser, density=False, logscale=True, xlabel=\"Ratings\", ylabel=\"Users\")"
   ]
  },
  {
   "cell_type": "markdown",
   "metadata": {},
   "source": [
    "Here fromt he histogram above, we can infer the following:<br/>\n",
    "<ul>\n",
    "<li>A paramount of users gave items a maximum rating, i.e. 4-5 \"stars\".</li>\n",
    "<li>If we compute the mean of the total ratings given by a user then the mean computed is 4.0735.</li>\n",
    "<li>The mean being inclined to the positive side infers that most of the items were good, and these users liked it.</li>\n",
    "\n",
    "Average rating per user\n",
    "\n",
    "$$\n",
    "<R_{U}> = \\frac{1}{|R_{U}|}\\sum_{R_{i} \\in U} Rating(R_{i}) \n",
    "$$"
   ]
  },
  {
   "cell_type": "code",
   "execution_count": 14,
   "metadata": {
    "ExecuteTime": {
     "end_time": "2017-06-08T12:13:05.073840Z",
     "start_time": "2017-06-08T12:13:00.202488Z"
    }
   },
   "outputs": [
    {
     "data": {
      "image/png": "[encoded data removed]",
      "text/plain": [
       "<matplotlib.figure.Figure at 0x7f81f180b278>"
      ]
     },
     "metadata": {},
     "output_type": "display_data"
    }
   ],
   "source": [
    "#Call the plotting function\n",
    "\n",
    "plotting(df_grpRateUser, density=True, logscale=False, xlabel=\"Ratings\", ylabel=\"Users\")"
   ]
  },
  {
   "cell_type": "markdown",
   "metadata": {},
   "source": [
    "Here in the graph above we can infer the following:<br/>\n",
    "<ul>\n",
    "<li>100% of the users has been reached when we consider mean rating of 4.0 .</li>\n",
    "<li>A threshold of upto 38 reviews per item can be set as minimum threshold to consider all the users present in the dataset. Helping us to extract a sample of the entire dataset without any leftover user, which saves us from time and memory complexities.</li>\n",
    "</ul>"
   ]
  },
  {
   "cell_type": "code",
   "execution_count": 15,
   "metadata": {
    "ExecuteTime": {
     "end_time": "2017-06-08T12:13:10.259178Z",
     "start_time": "2017-06-08T12:13:05.078323Z"
    }
   },
   "outputs": [
    {
     "data": {
      "image/png": "[encoded data removed]",
      "text/plain": [
       "<matplotlib.figure.Figure at 0x7f81f1918c18>"
      ]
     },
     "metadata": {},
     "output_type": "display_data"
    }
   ],
   "source": [
    "#Call the plotting function\n",
    "\n",
    "plotting(df_grpRateUser, density=True, logscale=False, xlabel=\"Ratings\", ylabel=\"Users\",cumulative=-1)"
   ]
  },
  {
   "cell_type": "markdown",
   "metadata": {},
   "source": [
    "<ul>\n",
    "<li>Here through the graph above we can infer that as we consider setting a threshold on mean rating by a user; as we increase the threshold we see that number of items satisfying this threshold declines gradually.</li>\n",
    "<li>At minimum mean rating of 4.0, we lose about 70% of the user profiles.</li>"
   ]
  },
  {
   "cell_type": "code",
   "execution_count": 16,
   "metadata": {
    "ExecuteTime": {
     "end_time": "2017-06-08T12:13:12.926399Z",
     "start_time": "2017-06-08T12:13:10.266136Z"
    }
   },
   "outputs": [
    {
     "data": {
      "image/png": "[encoded data removed]",
      "text/plain": [
       "<matplotlib.figure.Figure at 0x7f81f18afdd8>"
      ]
     },
     "metadata": {},
     "output_type": "display_data"
    }
   ],
   "source": [
    "#Call the plotting function\n",
    "\n",
    "plotting(df_grpRateItem, density=False, logscale=False, xlabel=\"Ratings\", ylabel=\"Item\")"
   ]
  },
  {
   "cell_type": "markdown",
   "metadata": {},
   "source": [
    "Here fromt he histogram above, we can infer the following:<br/>\n",
    "- jiij\n",
    "- ujuj\n",
    "\n",
    "<ul>\n",
    "<li>A paramount of items received a maximum rating, i.e. 4-5 \"stars\". Which validates our above inference of user rating majority of items as so.</li>\n",
    "<li>If we compute the mean of the total ratings received by an item, then the mean computed is 4.145228.</li>\n",
    "<li>The mean being inclined to the positive side infers that most of the items were reviewed positively, and the users really liked it.</li>"
   ]
  },
  {
   "cell_type": "code",
   "execution_count": 17,
   "metadata": {
    "ExecuteTime": {
     "end_time": "2017-06-08T12:13:25.919723Z",
     "start_time": "2017-06-08T12:13:23.657831Z"
    }
   },
   "outputs": [
    {
     "data": {
      "image/png": "[encoded data removed]",
      "text/plain": [
       "<matplotlib.figure.Figure at 0x7f81f1532e80>"
      ]
     },
     "metadata": {},
     "output_type": "display_data"
    }
   ],
   "source": [
    "#Call the plotting function\n",
    "\n",
    "plotting(df_grpRateItem, density=True, logscale=False, xlabel=\"Ratings\", ylabel=\"Item\")"
   ]
  },
  {
   "cell_type": "markdown",
   "metadata": {},
   "source": [
    "Here in the graph above we can infer the following:<br/>\n",
    "<ul>\n",
    "<li>100% of the items has been reached when we consider mean rating of 4.0 .</li>\n",
    "<li>A threshold of upto a mean rating of 4.0 per item can be set as minimum threshold to consider all the items present in the dataset. Helping us to extract a sample of the entire dataset without any leftover item, which saves us from time and memory complexities.</li>\n",
    "</ul>"
   ]
  },
  {
   "cell_type": "code",
   "execution_count": 18,
   "metadata": {
    "ExecuteTime": {
     "end_time": "2017-06-08T12:13:28.432799Z",
     "start_time": "2017-06-08T12:13:25.922923Z"
    }
   },
   "outputs": [
    {
     "data": {
      "image/png": "[encoded data removed]",
      "text/plain": [
       "<matplotlib.figure.Figure at 0x7f81f102da90>"
      ]
     },
     "metadata": {},
     "output_type": "display_data"
    }
   ],
   "source": [
    "#Call the plotting function\n",
    "\n",
    "plotting(df_grpRateItem, density=True, logscale=False, xlabel=\"Ratings\", ylabel=\"Item\",cumulative=-1)"
   ]
  },
  {
   "cell_type": "markdown",
   "metadata": {},
   "source": [
    "<ul>\n",
    "<li>Here through the graph above we consider setting a threshold on mean rating received by an item; as we increase the threshold we see that number of items satisfying this threshold declines gradually.</li>\n",
    "<li>At minimum mean rating of 4.0, we lose about 75% of the item profiles.</li>"
   ]
  },
  {
   "cell_type": "code",
   "execution_count": null,
   "metadata": {
    "ExecuteTime": {
     "end_time": "2017-06-08T12:13:50.369266Z",
     "start_time": "2017-06-08T12:13:28.437568Z"
    },
    "collapsed": true
   },
   "outputs": [],
   "source": [
    "import scipy.stats as stats\n",
    "import pylab as pl\n",
    "h = sorted(list(dataset['overall']))\n",
    "fit = stats.norm.pdf(h, np.mean(h), np.std(h))  #this is a fitting indeed\n",
    "pl.plot(h,fit,'-o')\n",
    "pl.hist(h,normed=True)      #use this to draw histogram of your data\n",
    "pl.show()"
   ]
  },
  {
   "cell_type": "code",
   "execution_count": 19,
   "metadata": {
    "ExecuteTime": {
     "end_time": "2017-06-09T00:29:03.696959Z",
     "start_time": "2017-06-09T00:28:49.136593Z"
    },
    "collapsed": true
   },
   "outputs": [],
   "source": [
    "df_Temp=groupingData(df_grpRateUser,cols=['reviews','n_users'])"
   ]
  },
  {
   "cell_type": "code",
   "execution_count": null,
   "metadata": {
    "ExecuteTime": {
     "end_time": "2017-06-09T00:33:14.328156Z",
     "start_time": "2017-06-09T00:33:14.289650Z"
    },
    "collapsed": true
   },
   "outputs": [],
   "source": []
  },
  {
   "cell_type": "code",
   "execution_count": null,
   "metadata": {
    "ExecuteTime": {
     "end_time": "2017-06-09T00:51:53.778780Z",
     "start_time": "2017-06-09T00:51:53.754648Z"
    },
    "collapsed": true
   },
   "outputs": [],
   "source": []
  },
  {
   "cell_type": "markdown",
   "metadata": {},
   "source": [
    "# Data Sampling"
   ]
  },
  {
   "cell_type": "code",
   "execution_count": 10,
   "metadata": {
    "ExecuteTime": {
     "end_time": "2017-06-09T00:00:49.255378Z",
     "start_time": "2017-06-09T00:00:48.918838Z"
    },
    "collapsed": true
   },
   "outputs": [],
   "source": [
    "df_sample=dataset.head(100000)"
   ]
  },
  {
   "cell_type": "code",
   "execution_count": 11,
   "metadata": {
    "ExecuteTime": {
     "end_time": "2017-06-09T00:00:50.986583Z",
     "start_time": "2017-06-09T00:00:50.803588Z"
    },
    "collapsed": true
   },
   "outputs": [],
   "source": [
    "def sample(df=None, rmin=None, rmax=None, colName=\"reviewerID\"):\n",
    "    \n",
    "    df_Temp=df.groupby(colName, sort=False).agg({colName: 'count'})\n",
    "    \n",
    "    if rmin==None:\n",
    "        rmin=df_Temp[colName].min()\n",
    "    if rmax==None:\n",
    "        rmax=df_Temp[colName].max()\n",
    "        \n",
    "    df_Temp=df_Temp.loc[(df_Temp[colName]>=rmin) & (df_Temp[colName]<=rmax)]\n",
    "    idList=list(df_Temp.index)\n",
    "    \n",
    "    df=df.loc[df[colName].isin(idList)]\n",
    "    return df"
   ]
  },
  {
   "cell_type": "code",
   "execution_count": 12,
   "metadata": {
    "ExecuteTime": {
     "end_time": "2017-06-09T00:00:55.686376Z",
     "start_time": "2017-06-09T00:00:54.061879Z"
    },
    "collapsed": true
   },
   "outputs": [],
   "source": [
    "df_sample=sample(df_sample,rmin=2,rmax=4, colName=\"reviewerID\")"
   ]
  },
  {
   "cell_type": "code",
   "execution_count": null,
   "metadata": {
    "ExecuteTime": {
     "end_time": "2017-06-09T00:01:11.454580Z",
     "start_time": "2017-06-09T00:01:11.178640Z"
    },
    "collapsed": true
   },
   "outputs": [],
   "source": [
    "df_sample.head(1000)"
   ]
  },
  {
   "cell_type": "code",
   "execution_count": null,
   "metadata": {
    "ExecuteTime": {
     "end_time": "2017-06-07T23:11:19.146322Z",
     "start_time": "2017-06-07T23:11:19.128150Z"
    },
    "collapsed": true
   },
   "outputs": [],
   "source": []
  },
  {
   "cell_type": "markdown",
   "metadata": {},
   "source": [
    "# Word Processing"
   ]
  },
  {
   "cell_type": "code",
   "execution_count": 12,
   "metadata": {
    "ExecuteTime": {
     "end_time": "2017-06-10T23:30:34.712101Z",
     "start_time": "2017-06-10T23:30:34.664752Z"
    },
    "collapsed": true
   },
   "outputs": [],
   "source": [
    "#Load the dataset containg user-item-text values\n",
    "import pandas as pd\n",
    "dataset = pd.read_csv('userItemReview.csv',names=['asin','reviewText','reviewerID'], nrows=10000, skiprows=1)"
   ]
  },
  {
   "cell_type": "markdown",
   "metadata": {
    "ExecuteTime": {
     "end_time": "2017-06-11T17:59:21.267391Z",
     "start_time": "2017-06-11T17:59:21.250866Z"
    }
   },
   "source": [
    "## Preprocessing\n",
    "\n",
    "Below is the functions declared that would pre-process the text corpus.\n",
    "The following are the steps taken:\n",
    "\n",
    "Tokkenization: The raw text is coverted into tokens, i.e broken down into words.\n",
    "\n",
    "Lemmatisation: WordNetLemmatizer was used to conduct this step. It breaks down a word into its canonical form.\n",
    "\n",
    "Stop-word removal: Removing stopwords from the text. Stopwords are frequently occurring words that does not add any great meaning to the text. Eg: The, is, etc.\n",
    "\n",
    "Low frequency filtering: Removing terms that occurred less frequent over all the article.\n"
   ]
  },
  {
   "cell_type": "code",
   "execution_count": 34,
   "metadata": {
    "ExecuteTime": {
     "end_time": "2017-06-11T17:47:35.299693Z",
     "start_time": "2017-06-11T17:47:22.589011Z"
    },
    "collapsed": true
   },
   "outputs": [],
   "source": [
    "import re\n",
    "import nltk\n",
    "import pandas as pd\n",
    "import numpy as np\n",
    "from nltk.corpus import stopwords\n",
    "from sklearn.feature_extraction.text import TfidfVectorizer\n",
    "from sklearn.feature_extraction.text import CountVectorizer\n",
    "from nltk.stem import WordNetLemmatizer\n",
    "lemmatizer = WordNetLemmatizer()\n",
    "\n",
    "#Thisfunction is declared to preprocess the data, to be used later for TF-IDF\n",
    "def preprocess(text):\n",
    "    # tokenize and remove anything else than unicode character\n",
    "    words = re.findall(r'\\w+', text,flags = re.UNICODE)\n",
    "    lowerwords=[x.lower() for x in words if len(x) > 1] #converting words into lowercase\n",
    "    #Lemmatization of each word inside the corpus\n",
    "    lemmatized_words = [lemmatizer.lemmatize(t) for t in lowerwords]\n",
    "    return lemmatized_words"
   ]
  },
  {
   "cell_type": "code",
   "execution_count": 55,
   "metadata": {
    "ExecuteTime": {
     "end_time": "2017-06-11T18:02:31.544956Z",
     "start_time": "2017-06-11T18:02:22.508371Z"
    }
   },
   "outputs": [
    {
     "name": "stdout",
     "output_type": "stream",
     "text": [
      "(10000, 146)\n"
     ]
    }
   ],
   "source": [
    "#Countvectorizer to count the occurence of terms in the documents\n",
    "count_vectorizer = CountVectorizer(stop_words=\"english\",min_df=0.02,max_df=0.8,tokenizer=preprocess,ngram_range=(1,3))\n",
    "data_count = count_vectorizer.fit_transform(dataset['reviewText'])\n",
    "term_matrix= pd.DataFrame(data_count.toarray(), columns=count_vectorizer.get_feature_names())\n",
    "print(data_count.shape)"
   ]
  },
  {
   "cell_type": "code",
   "execution_count": 56,
   "metadata": {
    "ExecuteTime": {
     "end_time": "2017-06-11T18:02:48.382146Z",
     "start_time": "2017-06-11T18:02:48.330655Z"
    }
   },
   "outputs": [
    {
     "data": {
      "text/html": [
       "<div>\n",
       "<table border=\"1\" class=\"dataframe\">\n",
       "  <thead>\n",
       "    <tr style=\"text-align: right;\">\n",
       "      <th></th>\n",
       "      <th>34</th>\n",
       "      <th>able</th>\n",
       "      <th>actually</th>\n",
       "      <th>amazing</th>\n",
       "      <th>amazon</th>\n",
       "      <th>arrived</th>\n",
       "      <th>author</th>\n",
       "      <th>away</th>\n",
       "      <th>awesome</th>\n",
       "      <th>bad</th>\n",
       "      <th>...</th>\n",
       "      <th>wanted</th>\n",
       "      <th>way</th>\n",
       "      <th>wear</th>\n",
       "      <th>week</th>\n",
       "      <th>wish</th>\n",
       "      <th>work</th>\n",
       "      <th>work great</th>\n",
       "      <th>worth</th>\n",
       "      <th>written</th>\n",
       "      <th>year</th>\n",
       "    </tr>\n",
       "  </thead>\n",
       "  <tbody>\n",
       "    <tr>\n",
       "      <th>0</th>\n",
       "      <td>0</td>\n",
       "      <td>0</td>\n",
       "      <td>0</td>\n",
       "      <td>0</td>\n",
       "      <td>0</td>\n",
       "      <td>0</td>\n",
       "      <td>0</td>\n",
       "      <td>0</td>\n",
       "      <td>0</td>\n",
       "      <td>0</td>\n",
       "      <td>...</td>\n",
       "      <td>0</td>\n",
       "      <td>0</td>\n",
       "      <td>0</td>\n",
       "      <td>0</td>\n",
       "      <td>0</td>\n",
       "      <td>0</td>\n",
       "      <td>0</td>\n",
       "      <td>0</td>\n",
       "      <td>0</td>\n",
       "      <td>0</td>\n",
       "    </tr>\n",
       "    <tr>\n",
       "      <th>1</th>\n",
       "      <td>0</td>\n",
       "      <td>0</td>\n",
       "      <td>0</td>\n",
       "      <td>0</td>\n",
       "      <td>0</td>\n",
       "      <td>0</td>\n",
       "      <td>0</td>\n",
       "      <td>0</td>\n",
       "      <td>0</td>\n",
       "      <td>1</td>\n",
       "      <td>...</td>\n",
       "      <td>0</td>\n",
       "      <td>0</td>\n",
       "      <td>2</td>\n",
       "      <td>0</td>\n",
       "      <td>0</td>\n",
       "      <td>0</td>\n",
       "      <td>0</td>\n",
       "      <td>0</td>\n",
       "      <td>0</td>\n",
       "      <td>0</td>\n",
       "    </tr>\n",
       "    <tr>\n",
       "      <th>2</th>\n",
       "      <td>0</td>\n",
       "      <td>1</td>\n",
       "      <td>0</td>\n",
       "      <td>0</td>\n",
       "      <td>0</td>\n",
       "      <td>0</td>\n",
       "      <td>0</td>\n",
       "      <td>0</td>\n",
       "      <td>0</td>\n",
       "      <td>0</td>\n",
       "      <td>...</td>\n",
       "      <td>0</td>\n",
       "      <td>0</td>\n",
       "      <td>0</td>\n",
       "      <td>0</td>\n",
       "      <td>0</td>\n",
       "      <td>0</td>\n",
       "      <td>0</td>\n",
       "      <td>0</td>\n",
       "      <td>0</td>\n",
       "      <td>0</td>\n",
       "    </tr>\n",
       "    <tr>\n",
       "      <th>3</th>\n",
       "      <td>0</td>\n",
       "      <td>0</td>\n",
       "      <td>0</td>\n",
       "      <td>0</td>\n",
       "      <td>0</td>\n",
       "      <td>0</td>\n",
       "      <td>0</td>\n",
       "      <td>0</td>\n",
       "      <td>0</td>\n",
       "      <td>0</td>\n",
       "      <td>...</td>\n",
       "      <td>0</td>\n",
       "      <td>0</td>\n",
       "      <td>0</td>\n",
       "      <td>0</td>\n",
       "      <td>0</td>\n",
       "      <td>0</td>\n",
       "      <td>0</td>\n",
       "      <td>0</td>\n",
       "      <td>0</td>\n",
       "      <td>0</td>\n",
       "    </tr>\n",
       "    <tr>\n",
       "      <th>4</th>\n",
       "      <td>0</td>\n",
       "      <td>0</td>\n",
       "      <td>0</td>\n",
       "      <td>0</td>\n",
       "      <td>0</td>\n",
       "      <td>0</td>\n",
       "      <td>0</td>\n",
       "      <td>0</td>\n",
       "      <td>0</td>\n",
       "      <td>0</td>\n",
       "      <td>...</td>\n",
       "      <td>0</td>\n",
       "      <td>0</td>\n",
       "      <td>0</td>\n",
       "      <td>0</td>\n",
       "      <td>0</td>\n",
       "      <td>0</td>\n",
       "      <td>0</td>\n",
       "      <td>0</td>\n",
       "      <td>0</td>\n",
       "      <td>0</td>\n",
       "    </tr>\n",
       "    <tr>\n",
       "      <th>5</th>\n",
       "      <td>0</td>\n",
       "      <td>0</td>\n",
       "      <td>0</td>\n",
       "      <td>0</td>\n",
       "      <td>0</td>\n",
       "      <td>0</td>\n",
       "      <td>0</td>\n",
       "      <td>0</td>\n",
       "      <td>0</td>\n",
       "      <td>0</td>\n",
       "      <td>...</td>\n",
       "      <td>0</td>\n",
       "      <td>0</td>\n",
       "      <td>0</td>\n",
       "      <td>0</td>\n",
       "      <td>0</td>\n",
       "      <td>0</td>\n",
       "      <td>0</td>\n",
       "      <td>0</td>\n",
       "      <td>0</td>\n",
       "      <td>0</td>\n",
       "    </tr>\n",
       "    <tr>\n",
       "      <th>6</th>\n",
       "      <td>0</td>\n",
       "      <td>0</td>\n",
       "      <td>0</td>\n",
       "      <td>0</td>\n",
       "      <td>0</td>\n",
       "      <td>0</td>\n",
       "      <td>0</td>\n",
       "      <td>0</td>\n",
       "      <td>0</td>\n",
       "      <td>0</td>\n",
       "      <td>...</td>\n",
       "      <td>1</td>\n",
       "      <td>0</td>\n",
       "      <td>0</td>\n",
       "      <td>0</td>\n",
       "      <td>0</td>\n",
       "      <td>0</td>\n",
       "      <td>0</td>\n",
       "      <td>0</td>\n",
       "      <td>0</td>\n",
       "      <td>0</td>\n",
       "    </tr>\n",
       "    <tr>\n",
       "      <th>7</th>\n",
       "      <td>0</td>\n",
       "      <td>0</td>\n",
       "      <td>0</td>\n",
       "      <td>0</td>\n",
       "      <td>0</td>\n",
       "      <td>0</td>\n",
       "      <td>0</td>\n",
       "      <td>0</td>\n",
       "      <td>0</td>\n",
       "      <td>0</td>\n",
       "      <td>...</td>\n",
       "      <td>0</td>\n",
       "      <td>0</td>\n",
       "      <td>0</td>\n",
       "      <td>0</td>\n",
       "      <td>0</td>\n",
       "      <td>0</td>\n",
       "      <td>0</td>\n",
       "      <td>0</td>\n",
       "      <td>0</td>\n",
       "      <td>0</td>\n",
       "    </tr>\n",
       "    <tr>\n",
       "      <th>8</th>\n",
       "      <td>2</td>\n",
       "      <td>0</td>\n",
       "      <td>0</td>\n",
       "      <td>0</td>\n",
       "      <td>0</td>\n",
       "      <td>0</td>\n",
       "      <td>0</td>\n",
       "      <td>0</td>\n",
       "      <td>0</td>\n",
       "      <td>0</td>\n",
       "      <td>...</td>\n",
       "      <td>0</td>\n",
       "      <td>0</td>\n",
       "      <td>0</td>\n",
       "      <td>0</td>\n",
       "      <td>0</td>\n",
       "      <td>0</td>\n",
       "      <td>0</td>\n",
       "      <td>0</td>\n",
       "      <td>0</td>\n",
       "      <td>0</td>\n",
       "    </tr>\n",
       "    <tr>\n",
       "      <th>9</th>\n",
       "      <td>0</td>\n",
       "      <td>0</td>\n",
       "      <td>0</td>\n",
       "      <td>0</td>\n",
       "      <td>0</td>\n",
       "      <td>0</td>\n",
       "      <td>0</td>\n",
       "      <td>0</td>\n",
       "      <td>0</td>\n",
       "      <td>0</td>\n",
       "      <td>...</td>\n",
       "      <td>0</td>\n",
       "      <td>0</td>\n",
       "      <td>0</td>\n",
       "      <td>0</td>\n",
       "      <td>0</td>\n",
       "      <td>1</td>\n",
       "      <td>0</td>\n",
       "      <td>0</td>\n",
       "      <td>0</td>\n",
       "      <td>0</td>\n",
       "    </tr>\n",
       "  </tbody>\n",
       "</table>\n",
       "<p>10 rows × 146 columns</p>\n",
       "</div>"
      ],
      "text/plain": [
       "   34  able  actually  amazing  amazon  arrived  author  away  awesome  bad  \\\n",
       "0   0     0         0        0       0        0       0     0        0    0   \n",
       "1   0     0         0        0       0        0       0     0        0    1   \n",
       "2   0     1         0        0       0        0       0     0        0    0   \n",
       "3   0     0         0        0       0        0       0     0        0    0   \n",
       "4   0     0         0        0       0        0       0     0        0    0   \n",
       "5   0     0         0        0       0        0       0     0        0    0   \n",
       "6   0     0         0        0       0        0       0     0        0    0   \n",
       "7   0     0         0        0       0        0       0     0        0    0   \n",
       "8   2     0         0        0       0        0       0     0        0    0   \n",
       "9   0     0         0        0       0        0       0     0        0    0   \n",
       "\n",
       "   ...   wanted  way  wear  week  wish  work  work great  worth  written  year  \n",
       "0  ...        0    0     0     0     0     0           0      0        0     0  \n",
       "1  ...        0    0     2     0     0     0           0      0        0     0  \n",
       "2  ...        0    0     0     0     0     0           0      0        0     0  \n",
       "3  ...        0    0     0     0     0     0           0      0        0     0  \n",
       "4  ...        0    0     0     0     0     0           0      0        0     0  \n",
       "5  ...        0    0     0     0     0     0           0      0        0     0  \n",
       "6  ...        1    0     0     0     0     0           0      0        0     0  \n",
       "7  ...        0    0     0     0     0     0           0      0        0     0  \n",
       "8  ...        0    0     0     0     0     0           0      0        0     0  \n",
       "9  ...        0    0     0     0     0     1           0      0        0     0  \n",
       "\n",
       "[10 rows x 146 columns]"
      ]
     },
     "execution_count": 56,
     "metadata": {},
     "output_type": "execute_result"
    }
   ],
   "source": [
    "term_matrix.head(10)"
   ]
  },
  {
   "cell_type": "markdown",
   "metadata": {},
   "source": [
    "In information retrieval, tf–idf, short for term frequency–inverse document frequency, is a numerical statistic that is intended to reflect how important a word is to a document in a collection or corpus. It is often used as a weighting factor in information retrieval, text mining, and user modeling. The tf-idf value increases proportionally to the number of times a word appears in the document, but is often offset by the frequency of the word in the corpus, which helps to adjust for the fact that some words appear more frequently in general.\n",
    "\n",
    "The max_df is the maximum number of documents a term should come in i.e. those terms are removed whihc have higher document frequency then the set threshold frequency.\n",
    "\n",
    "The min_df is set at 0.03 i.e. only those terms or phrases would be considered whihc comes in more than 3% of the documents.\n",
    "\n",
    "The ngram_range is set at 3 i.e. maximum of 3 terms which comes together and are important to a document would be considered."
   ]
  },
  {
   "cell_type": "code",
   "execution_count": null,
   "metadata": {
    "collapsed": true
   },
   "outputs": [],
   "source": [
    "tfidf_vectorizer = TfidfVectorizer(max_df=0.3,min_df=0.03, stop_words='english',use_idf=True, tokenizer=preprocess, ngram_range=(1,3))\n",
    "\n",
    "%time tfidf_matrix = tfidf_vectorizer.fit_transform(dataset['reviewText'])\n",
    "\n",
    "from sklearn.metrics.pairwise import cosine_similarity\n",
    "dist = 1 - cosine_similarity(tfidf_matrix)\n",
    "\n",
    "#store the output from the above step in pandas to represent it as document term matrix.\n",
    "term_matrix_tfidf = pd.DataFrame(tfidf_matrix.toarray(), columns=tfidf_vectorizer.get_feature_names())\n",
    "#Prints the shape of resultant matrix\n",
    "print(tfidf_matrix.shape)"
   ]
  },
  {
   "cell_type": "code",
   "execution_count": 53,
   "metadata": {
    "ExecuteTime": {
     "end_time": "2017-06-11T18:01:05.374347Z",
     "start_time": "2017-06-11T18:01:05.312122Z"
    }
   },
   "outputs": [
    {
     "data": {
      "text/html": [
       "<div>\n",
       "<table border=\"1\" class=\"dataframe\">\n",
       "  <thead>\n",
       "    <tr style=\"text-align: right;\">\n",
       "      <th></th>\n",
       "      <th>34</th>\n",
       "      <th>amazing</th>\n",
       "      <th>awesome</th>\n",
       "      <th>best</th>\n",
       "      <th>better</th>\n",
       "      <th>big</th>\n",
       "      <th>bit</th>\n",
       "      <th>book</th>\n",
       "      <th>bought</th>\n",
       "      <th>buy</th>\n",
       "      <th>...</th>\n",
       "      <th>used</th>\n",
       "      <th>using</th>\n",
       "      <th>ve</th>\n",
       "      <th>wa</th>\n",
       "      <th>wait</th>\n",
       "      <th>want</th>\n",
       "      <th>way</th>\n",
       "      <th>work</th>\n",
       "      <th>worth</th>\n",
       "      <th>year</th>\n",
       "    </tr>\n",
       "  </thead>\n",
       "  <tbody>\n",
       "    <tr>\n",
       "      <th>0</th>\n",
       "      <td>0.000000</td>\n",
       "      <td>0.0</td>\n",
       "      <td>0.0</td>\n",
       "      <td>0.000000</td>\n",
       "      <td>0.0</td>\n",
       "      <td>0.0</td>\n",
       "      <td>0.0</td>\n",
       "      <td>0.0</td>\n",
       "      <td>0.000000</td>\n",
       "      <td>0.0</td>\n",
       "      <td>...</td>\n",
       "      <td>0.000000</td>\n",
       "      <td>0.0</td>\n",
       "      <td>0.0</td>\n",
       "      <td>0.000000</td>\n",
       "      <td>0.0</td>\n",
       "      <td>0.0</td>\n",
       "      <td>0.0</td>\n",
       "      <td>0.000000</td>\n",
       "      <td>0.0</td>\n",
       "      <td>0.0</td>\n",
       "    </tr>\n",
       "    <tr>\n",
       "      <th>1</th>\n",
       "      <td>0.000000</td>\n",
       "      <td>0.0</td>\n",
       "      <td>0.0</td>\n",
       "      <td>0.000000</td>\n",
       "      <td>0.0</td>\n",
       "      <td>0.0</td>\n",
       "      <td>0.0</td>\n",
       "      <td>0.0</td>\n",
       "      <td>0.000000</td>\n",
       "      <td>0.0</td>\n",
       "      <td>...</td>\n",
       "      <td>0.000000</td>\n",
       "      <td>0.0</td>\n",
       "      <td>0.0</td>\n",
       "      <td>0.243611</td>\n",
       "      <td>0.0</td>\n",
       "      <td>0.0</td>\n",
       "      <td>0.0</td>\n",
       "      <td>0.000000</td>\n",
       "      <td>0.0</td>\n",
       "      <td>0.0</td>\n",
       "    </tr>\n",
       "    <tr>\n",
       "      <th>2</th>\n",
       "      <td>0.000000</td>\n",
       "      <td>0.0</td>\n",
       "      <td>0.0</td>\n",
       "      <td>0.000000</td>\n",
       "      <td>0.0</td>\n",
       "      <td>0.0</td>\n",
       "      <td>0.0</td>\n",
       "      <td>0.0</td>\n",
       "      <td>0.000000</td>\n",
       "      <td>0.0</td>\n",
       "      <td>...</td>\n",
       "      <td>0.000000</td>\n",
       "      <td>0.0</td>\n",
       "      <td>0.0</td>\n",
       "      <td>0.000000</td>\n",
       "      <td>0.0</td>\n",
       "      <td>0.0</td>\n",
       "      <td>0.0</td>\n",
       "      <td>0.000000</td>\n",
       "      <td>0.0</td>\n",
       "      <td>0.0</td>\n",
       "    </tr>\n",
       "    <tr>\n",
       "      <th>3</th>\n",
       "      <td>0.000000</td>\n",
       "      <td>0.0</td>\n",
       "      <td>0.0</td>\n",
       "      <td>0.000000</td>\n",
       "      <td>0.0</td>\n",
       "      <td>0.0</td>\n",
       "      <td>0.0</td>\n",
       "      <td>0.0</td>\n",
       "      <td>0.000000</td>\n",
       "      <td>0.0</td>\n",
       "      <td>...</td>\n",
       "      <td>0.000000</td>\n",
       "      <td>0.0</td>\n",
       "      <td>0.0</td>\n",
       "      <td>0.000000</td>\n",
       "      <td>0.0</td>\n",
       "      <td>0.0</td>\n",
       "      <td>0.0</td>\n",
       "      <td>0.000000</td>\n",
       "      <td>0.0</td>\n",
       "      <td>0.0</td>\n",
       "    </tr>\n",
       "    <tr>\n",
       "      <th>4</th>\n",
       "      <td>0.000000</td>\n",
       "      <td>0.0</td>\n",
       "      <td>0.0</td>\n",
       "      <td>0.456937</td>\n",
       "      <td>0.0</td>\n",
       "      <td>0.0</td>\n",
       "      <td>0.0</td>\n",
       "      <td>0.0</td>\n",
       "      <td>0.000000</td>\n",
       "      <td>0.0</td>\n",
       "      <td>...</td>\n",
       "      <td>0.000000</td>\n",
       "      <td>0.0</td>\n",
       "      <td>0.0</td>\n",
       "      <td>0.000000</td>\n",
       "      <td>0.0</td>\n",
       "      <td>0.0</td>\n",
       "      <td>0.0</td>\n",
       "      <td>0.000000</td>\n",
       "      <td>0.0</td>\n",
       "      <td>0.0</td>\n",
       "    </tr>\n",
       "    <tr>\n",
       "      <th>5</th>\n",
       "      <td>0.000000</td>\n",
       "      <td>0.0</td>\n",
       "      <td>0.0</td>\n",
       "      <td>0.000000</td>\n",
       "      <td>0.0</td>\n",
       "      <td>0.0</td>\n",
       "      <td>0.0</td>\n",
       "      <td>0.0</td>\n",
       "      <td>0.000000</td>\n",
       "      <td>0.0</td>\n",
       "      <td>...</td>\n",
       "      <td>0.605750</td>\n",
       "      <td>0.0</td>\n",
       "      <td>0.0</td>\n",
       "      <td>0.000000</td>\n",
       "      <td>0.0</td>\n",
       "      <td>0.0</td>\n",
       "      <td>0.0</td>\n",
       "      <td>0.000000</td>\n",
       "      <td>0.0</td>\n",
       "      <td>0.0</td>\n",
       "    </tr>\n",
       "    <tr>\n",
       "      <th>6</th>\n",
       "      <td>0.000000</td>\n",
       "      <td>0.0</td>\n",
       "      <td>0.0</td>\n",
       "      <td>0.000000</td>\n",
       "      <td>0.0</td>\n",
       "      <td>0.0</td>\n",
       "      <td>0.0</td>\n",
       "      <td>0.0</td>\n",
       "      <td>0.280626</td>\n",
       "      <td>0.0</td>\n",
       "      <td>...</td>\n",
       "      <td>0.000000</td>\n",
       "      <td>0.0</td>\n",
       "      <td>0.0</td>\n",
       "      <td>0.000000</td>\n",
       "      <td>0.0</td>\n",
       "      <td>0.0</td>\n",
       "      <td>0.0</td>\n",
       "      <td>0.000000</td>\n",
       "      <td>0.0</td>\n",
       "      <td>0.0</td>\n",
       "    </tr>\n",
       "    <tr>\n",
       "      <th>7</th>\n",
       "      <td>0.000000</td>\n",
       "      <td>0.0</td>\n",
       "      <td>0.0</td>\n",
       "      <td>0.000000</td>\n",
       "      <td>0.0</td>\n",
       "      <td>0.0</td>\n",
       "      <td>0.0</td>\n",
       "      <td>0.0</td>\n",
       "      <td>0.000000</td>\n",
       "      <td>0.0</td>\n",
       "      <td>...</td>\n",
       "      <td>0.000000</td>\n",
       "      <td>0.0</td>\n",
       "      <td>0.0</td>\n",
       "      <td>0.000000</td>\n",
       "      <td>0.0</td>\n",
       "      <td>0.0</td>\n",
       "      <td>0.0</td>\n",
       "      <td>0.000000</td>\n",
       "      <td>0.0</td>\n",
       "      <td>0.0</td>\n",
       "    </tr>\n",
       "    <tr>\n",
       "      <th>8</th>\n",
       "      <td>0.906901</td>\n",
       "      <td>0.0</td>\n",
       "      <td>0.0</td>\n",
       "      <td>0.000000</td>\n",
       "      <td>0.0</td>\n",
       "      <td>0.0</td>\n",
       "      <td>0.0</td>\n",
       "      <td>0.0</td>\n",
       "      <td>0.000000</td>\n",
       "      <td>0.0</td>\n",
       "      <td>...</td>\n",
       "      <td>0.421344</td>\n",
       "      <td>0.0</td>\n",
       "      <td>0.0</td>\n",
       "      <td>0.000000</td>\n",
       "      <td>0.0</td>\n",
       "      <td>0.0</td>\n",
       "      <td>0.0</td>\n",
       "      <td>0.000000</td>\n",
       "      <td>0.0</td>\n",
       "      <td>0.0</td>\n",
       "    </tr>\n",
       "    <tr>\n",
       "      <th>9</th>\n",
       "      <td>0.000000</td>\n",
       "      <td>0.0</td>\n",
       "      <td>0.0</td>\n",
       "      <td>0.000000</td>\n",
       "      <td>0.0</td>\n",
       "      <td>0.0</td>\n",
       "      <td>0.0</td>\n",
       "      <td>0.0</td>\n",
       "      <td>0.000000</td>\n",
       "      <td>0.0</td>\n",
       "      <td>...</td>\n",
       "      <td>0.000000</td>\n",
       "      <td>0.0</td>\n",
       "      <td>0.0</td>\n",
       "      <td>0.000000</td>\n",
       "      <td>0.0</td>\n",
       "      <td>0.0</td>\n",
       "      <td>0.0</td>\n",
       "      <td>0.338154</td>\n",
       "      <td>0.0</td>\n",
       "      <td>0.0</td>\n",
       "    </tr>\n",
       "  </tbody>\n",
       "</table>\n",
       "<p>10 rows × 90 columns</p>\n",
       "</div>"
      ],
      "text/plain": [
       "         34  amazing  awesome      best  better  big  bit  book    bought  \\\n",
       "0  0.000000      0.0      0.0  0.000000     0.0  0.0  0.0   0.0  0.000000   \n",
       "1  0.000000      0.0      0.0  0.000000     0.0  0.0  0.0   0.0  0.000000   \n",
       "2  0.000000      0.0      0.0  0.000000     0.0  0.0  0.0   0.0  0.000000   \n",
       "3  0.000000      0.0      0.0  0.000000     0.0  0.0  0.0   0.0  0.000000   \n",
       "4  0.000000      0.0      0.0  0.456937     0.0  0.0  0.0   0.0  0.000000   \n",
       "5  0.000000      0.0      0.0  0.000000     0.0  0.0  0.0   0.0  0.000000   \n",
       "6  0.000000      0.0      0.0  0.000000     0.0  0.0  0.0   0.0  0.280626   \n",
       "7  0.000000      0.0      0.0  0.000000     0.0  0.0  0.0   0.0  0.000000   \n",
       "8  0.906901      0.0      0.0  0.000000     0.0  0.0  0.0   0.0  0.000000   \n",
       "9  0.000000      0.0      0.0  0.000000     0.0  0.0  0.0   0.0  0.000000   \n",
       "\n",
       "   buy  ...       used  using   ve        wa  wait  want  way      work  \\\n",
       "0  0.0  ...   0.000000    0.0  0.0  0.000000   0.0   0.0  0.0  0.000000   \n",
       "1  0.0  ...   0.000000    0.0  0.0  0.243611   0.0   0.0  0.0  0.000000   \n",
       "2  0.0  ...   0.000000    0.0  0.0  0.000000   0.0   0.0  0.0  0.000000   \n",
       "3  0.0  ...   0.000000    0.0  0.0  0.000000   0.0   0.0  0.0  0.000000   \n",
       "4  0.0  ...   0.000000    0.0  0.0  0.000000   0.0   0.0  0.0  0.000000   \n",
       "5  0.0  ...   0.605750    0.0  0.0  0.000000   0.0   0.0  0.0  0.000000   \n",
       "6  0.0  ...   0.000000    0.0  0.0  0.000000   0.0   0.0  0.0  0.000000   \n",
       "7  0.0  ...   0.000000    0.0  0.0  0.000000   0.0   0.0  0.0  0.000000   \n",
       "8  0.0  ...   0.421344    0.0  0.0  0.000000   0.0   0.0  0.0  0.000000   \n",
       "9  0.0  ...   0.000000    0.0  0.0  0.000000   0.0   0.0  0.0  0.338154   \n",
       "\n",
       "   worth  year  \n",
       "0    0.0   0.0  \n",
       "1    0.0   0.0  \n",
       "2    0.0   0.0  \n",
       "3    0.0   0.0  \n",
       "4    0.0   0.0  \n",
       "5    0.0   0.0  \n",
       "6    0.0   0.0  \n",
       "7    0.0   0.0  \n",
       "8    0.0   0.0  \n",
       "9    0.0   0.0  \n",
       "\n",
       "[10 rows x 90 columns]"
      ]
     },
     "execution_count": 53,
     "metadata": {},
     "output_type": "execute_result"
    }
   ],
   "source": [
    "#Prints the document term matrix with TF-IDF weights words\n",
    "term_matrix_tfidf.head(10)"
   ]
  },
  {
   "cell_type": "code",
   "execution_count": 47,
   "metadata": {
    "ExecuteTime": {
     "end_time": "2017-06-11T17:56:22.823617Z",
     "start_time": "2017-06-11T17:56:22.810578Z"
    }
   },
   "outputs": [
    {
     "name": "stdout",
     "output_type": "stream",
     "text": [
      "sparsity: 93.61%\n"
     ]
    }
   ],
   "source": [
    "print ('sparsity: %.2f%%' % (100-(100.0 * tfidf_matrix.nnz / (tfidf_matrix.shape[0] * tfidf_matrix.shape[1]))))"
   ]
  },
  {
   "cell_type": "markdown",
   "metadata": {},
   "source": [
    "The matrix generated from the TF-IDF vectorization is a sparse matrix i.e. most of the values in the matrix are null.\n",
    "The sparsity of the matrix generated above is at 93.61%."
   ]
  },
  {
   "cell_type": "markdown",
   "metadata": {},
   "source": [
    "## Identifying the most characteristic terms and phrases in the corpus\n",
    "\n",
    "The most characteristic terms in a corpus can be found out either using the count i.e. their frequency in the corpus or by their weight. The terms that appears most in a corpus tends to point towards the topic or context of the corpus."
   ]
  },
  {
   "cell_type": "markdown",
   "metadata": {},
   "source": [
    "--<b> Most frequently occuring word</b>"
   ]
  },
  {
   "cell_type": "code",
   "execution_count": 58,
   "metadata": {
    "ExecuteTime": {
     "end_time": "2017-06-11T18:03:12.041907Z",
     "start_time": "2017-06-11T18:03:12.015509Z"
    }
   },
   "outputs": [
    {
     "data": {
      "text/html": [
       "<div>\n",
       "<table border=\"1\" class=\"dataframe\">\n",
       "  <thead>\n",
       "    <tr style=\"text-align: right;\">\n",
       "      <th></th>\n",
       "      <th>count</th>\n",
       "      <th>word</th>\n",
       "    </tr>\n",
       "  </thead>\n",
       "  <tbody>\n",
       "    <tr>\n",
       "      <th>132</th>\n",
       "      <td>4837</td>\n",
       "      <td>wa</td>\n",
       "    </tr>\n",
       "    <tr>\n",
       "      <th>15</th>\n",
       "      <td>3583</td>\n",
       "      <td>book</td>\n",
       "    </tr>\n",
       "    <tr>\n",
       "      <th>54</th>\n",
       "      <td>2847</td>\n",
       "      <td>great</td>\n",
       "    </tr>\n",
       "    <tr>\n",
       "      <th>52</th>\n",
       "      <td>2540</td>\n",
       "      <td>good</td>\n",
       "    </tr>\n",
       "    <tr>\n",
       "      <th>68</th>\n",
       "      <td>2335</td>\n",
       "      <td>like</td>\n",
       "    </tr>\n",
       "    <tr>\n",
       "      <th>76</th>\n",
       "      <td>2316</td>\n",
       "      <td>love</td>\n",
       "    </tr>\n",
       "    <tr>\n",
       "      <th>64</th>\n",
       "      <td>1971</td>\n",
       "      <td>just</td>\n",
       "    </tr>\n",
       "    <tr>\n",
       "      <th>107</th>\n",
       "      <td>1637</td>\n",
       "      <td>really</td>\n",
       "    </tr>\n",
       "    <tr>\n",
       "      <th>126</th>\n",
       "      <td>1477</td>\n",
       "      <td>time</td>\n",
       "    </tr>\n",
       "    <tr>\n",
       "      <th>104</th>\n",
       "      <td>1410</td>\n",
       "      <td>read</td>\n",
       "    </tr>\n",
       "    <tr>\n",
       "      <th>55</th>\n",
       "      <td>1315</td>\n",
       "      <td>ha</td>\n",
       "    </tr>\n",
       "    <tr>\n",
       "      <th>141</th>\n",
       "      <td>1263</td>\n",
       "      <td>work</td>\n",
       "    </tr>\n",
       "    <tr>\n",
       "      <th>100</th>\n",
       "      <td>1196</td>\n",
       "      <td>product</td>\n",
       "    </tr>\n",
       "    <tr>\n",
       "      <th>48</th>\n",
       "      <td>998</td>\n",
       "      <td>game</td>\n",
       "    </tr>\n",
       "    <tr>\n",
       "      <th>120</th>\n",
       "      <td>969</td>\n",
       "      <td>story</td>\n",
       "    </tr>\n",
       "    <tr>\n",
       "      <th>109</th>\n",
       "      <td>966</td>\n",
       "      <td>recommend</td>\n",
       "    </tr>\n",
       "    <tr>\n",
       "      <th>128</th>\n",
       "      <td>939</td>\n",
       "      <td>use</td>\n",
       "    </tr>\n",
       "    <tr>\n",
       "      <th>73</th>\n",
       "      <td>937</td>\n",
       "      <td>look</td>\n",
       "    </tr>\n",
       "    <tr>\n",
       "      <th>45</th>\n",
       "      <td>907</td>\n",
       "      <td>fit</td>\n",
       "    </tr>\n",
       "    <tr>\n",
       "      <th>70</th>\n",
       "      <td>871</td>\n",
       "      <td>little</td>\n",
       "    </tr>\n",
       "  </tbody>\n",
       "</table>\n",
       "</div>"
      ],
      "text/plain": [
       "     count       word\n",
       "132   4837         wa\n",
       "15    3583       book\n",
       "54    2847      great\n",
       "52    2540       good\n",
       "68    2335       like\n",
       "76    2316       love\n",
       "64    1971       just\n",
       "107   1637     really\n",
       "126   1477       time\n",
       "104   1410       read\n",
       "55    1315         ha\n",
       "141   1263       work\n",
       "100   1196    product\n",
       "48     998       game\n",
       "120    969      story\n",
       "109    966  recommend\n",
       "128    939        use\n",
       "73     937       look\n",
       "45     907        fit\n",
       "70     871     little"
      ]
     },
     "execution_count": 58,
     "metadata": {},
     "output_type": "execute_result"
    }
   ],
   "source": [
    "count = np.asarray(data_count.sum(axis=0)).ravel().tolist()\n",
    "count_df = pd.DataFrame({'word': count_vectorizer.get_feature_names(), 'count': count})\n",
    "count_df.sort_values(by='count', ascending=False).head(20)"
   ]
  },
  {
   "cell_type": "markdown",
   "metadata": {
    "ExecuteTime": {
     "end_time": "2017-06-11T18:05:32.899909Z",
     "start_time": "2017-06-11T18:05:32.892971Z"
    }
   },
   "source": [
    "-- <b>Most charasteristic words based on their tf-idf weight.</b>"
   ]
  },
  {
   "cell_type": "code",
   "execution_count": 59,
   "metadata": {
    "ExecuteTime": {
     "end_time": "2017-06-11T18:03:16.951161Z",
     "start_time": "2017-06-11T18:03:16.921547Z"
    }
   },
   "outputs": [
    {
     "data": {
      "text/html": [
       "<div>\n",
       "<table border=\"1\" class=\"dataframe\">\n",
       "  <thead>\n",
       "    <tr style=\"text-align: right;\">\n",
       "      <th></th>\n",
       "      <th>weight</th>\n",
       "      <th>word</th>\n",
       "    </tr>\n",
       "  </thead>\n",
       "  <tbody>\n",
       "    <tr>\n",
       "      <th>83</th>\n",
       "      <td>0.094318</td>\n",
       "      <td>wa</td>\n",
       "    </tr>\n",
       "    <tr>\n",
       "      <th>7</th>\n",
       "      <td>0.076328</td>\n",
       "      <td>book</td>\n",
       "    </tr>\n",
       "    <tr>\n",
       "      <th>33</th>\n",
       "      <td>0.074376</td>\n",
       "      <td>great</td>\n",
       "    </tr>\n",
       "    <tr>\n",
       "      <th>31</th>\n",
       "      <td>0.066907</td>\n",
       "      <td>good</td>\n",
       "    </tr>\n",
       "    <tr>\n",
       "      <th>47</th>\n",
       "      <td>0.064513</td>\n",
       "      <td>love</td>\n",
       "    </tr>\n",
       "    <tr>\n",
       "      <th>41</th>\n",
       "      <td>0.056772</td>\n",
       "      <td>like</td>\n",
       "    </tr>\n",
       "    <tr>\n",
       "      <th>38</th>\n",
       "      <td>0.046825</td>\n",
       "      <td>just</td>\n",
       "    </tr>\n",
       "    <tr>\n",
       "      <th>67</th>\n",
       "      <td>0.041527</td>\n",
       "      <td>really</td>\n",
       "    </tr>\n",
       "    <tr>\n",
       "      <th>87</th>\n",
       "      <td>0.041349</td>\n",
       "      <td>work</td>\n",
       "    </tr>\n",
       "    <tr>\n",
       "      <th>78</th>\n",
       "      <td>0.039505</td>\n",
       "      <td>time</td>\n",
       "    </tr>\n",
       "    <tr>\n",
       "      <th>63</th>\n",
       "      <td>0.038450</td>\n",
       "      <td>product</td>\n",
       "    </tr>\n",
       "    <tr>\n",
       "      <th>65</th>\n",
       "      <td>0.038290</td>\n",
       "      <td>read</td>\n",
       "    </tr>\n",
       "    <tr>\n",
       "      <th>34</th>\n",
       "      <td>0.035940</td>\n",
       "      <td>ha</td>\n",
       "    </tr>\n",
       "    <tr>\n",
       "      <th>68</th>\n",
       "      <td>0.032400</td>\n",
       "      <td>recommend</td>\n",
       "    </tr>\n",
       "    <tr>\n",
       "      <th>79</th>\n",
       "      <td>0.031033</td>\n",
       "      <td>use</td>\n",
       "    </tr>\n",
       "    <tr>\n",
       "      <th>26</th>\n",
       "      <td>0.031004</td>\n",
       "      <td>fit</td>\n",
       "    </tr>\n",
       "    <tr>\n",
       "      <th>44</th>\n",
       "      <td>0.030092</td>\n",
       "      <td>look</td>\n",
       "    </tr>\n",
       "    <tr>\n",
       "      <th>29</th>\n",
       "      <td>0.029890</td>\n",
       "      <td>game</td>\n",
       "    </tr>\n",
       "    <tr>\n",
       "      <th>61</th>\n",
       "      <td>0.028742</td>\n",
       "      <td>price</td>\n",
       "    </tr>\n",
       "    <tr>\n",
       "      <th>8</th>\n",
       "      <td>0.027991</td>\n",
       "      <td>bought</td>\n",
       "    </tr>\n",
       "  </tbody>\n",
       "</table>\n",
       "</div>"
      ],
      "text/plain": [
       "      weight       word\n",
       "83  0.094318         wa\n",
       "7   0.076328       book\n",
       "33  0.074376      great\n",
       "31  0.066907       good\n",
       "47  0.064513       love\n",
       "41  0.056772       like\n",
       "38  0.046825       just\n",
       "67  0.041527     really\n",
       "87  0.041349       work\n",
       "78  0.039505       time\n",
       "63  0.038450    product\n",
       "65  0.038290       read\n",
       "34  0.035940         ha\n",
       "68  0.032400  recommend\n",
       "79  0.031033        use\n",
       "26  0.031004        fit\n",
       "44  0.030092       look\n",
       "29  0.029890       game\n",
       "61  0.028742      price\n",
       "8   0.027991     bought"
      ]
     },
     "execution_count": 59,
     "metadata": {},
     "output_type": "execute_result"
    }
   ],
   "source": [
    "weight = np.asarray(tfidf_matrix.mean(axis=0)).ravel().tolist()\n",
    "weight_df = pd.DataFrame({'word': tfidf_vectorizer.get_feature_names(), 'weight': weight})\n",
    "weight_df.sort_values(by='weight', ascending=False).head(20)"
   ]
  },
  {
   "cell_type": "code",
   "execution_count": null,
   "metadata": {
    "collapsed": true
   },
   "outputs": [],
   "source": []
  },
  {
   "cell_type": "code",
   "execution_count": null,
   "metadata": {
    "collapsed": true
   },
   "outputs": [],
   "source": []
  },
  {
   "cell_type": "markdown",
   "metadata": {
    "ExecuteTime": {
     "end_time": "2017-05-27T18:32:15.436113Z",
     "start_time": "2017-05-27T18:27:30.144010Z"
    }
   },
   "source": [
    "# Placeholder"
   ]
  },
  {
   "cell_type": "markdown",
   "metadata": {
    "ExecuteTime": {
     "start_time": "2017-05-26T23:17:10.262Z"
    }
   },
   "source": [
    "## Storing in nested dictionary"
   ]
  },
  {
   "cell_type": "code",
   "execution_count": 4,
   "metadata": {
    "ExecuteTime": {
     "end_time": "2017-06-10T02:57:21.507304Z",
     "start_time": "2017-06-10T02:57:09.807695Z"
    },
    "collapsed": true
   },
   "outputs": [],
   "source": [
    "users = pd.read_pickle(\"users.pkl\")\n",
    "items = pd.read_pickle(\"items.pkl\")"
   ]
  },
  {
   "cell_type": "code",
   "execution_count": null,
   "metadata": {
    "ExecuteTime": {
     "end_time": "2017-05-29T22:39:36.304258Z",
     "start_time": "2017-05-29T22:38:56.200214Z"
    },
    "collapsed": true
   },
   "outputs": [],
   "source": [
    "import collections\n",
    "dataRatings = {}\n",
    "\n",
    "for item in items['Items']:\n",
    "    dataRatings[item] = {}\n",
    "    \"\"\"for user in users['Users']:\n",
    "        if(len(dataset[dataset['asin'] == item][dataset['reviewerID'] ==user].overall) > 0):\n",
    "            dataRatings[item][user]=dataset[dataset['asin'] == item][dataset['reviewerID'] ==user].overall\"\"\"\n"
   ]
  },
  {
   "cell_type": "code",
   "execution_count": null,
   "metadata": {
    "ExecuteTime": {
     "start_time": "2017-05-30T12:43:07.495Z"
    },
    "collapsed": true
   },
   "outputs": [],
   "source": [
    "#dataset\n",
    "df2 = pd.DataFrame(dataset[['asin','reviewerID','overall']], index=dataset['asin'])\n",
    "\n",
    "#dataset[dataset['asin'] == 'B003UYU16G'][dataset['reviewerID'] =='A00000262KYZUE4J55XGL'].overall"
   ]
  },
  {
   "cell_type": "code",
   "execution_count": null,
   "metadata": {
    "ExecuteTime": {
     "end_time": "2017-05-29T23:57:23.258991Z",
     "start_time": "2017-05-29T23:48:46.411414Z"
    },
    "collapsed": true
   },
   "outputs": [],
   "source": [
    "for index, row in dataset.iterrows():\n",
    "    dataRatings(row['asin']).append({row['reviewerID'],row['overall']})"
   ]
  },
  {
   "cell_type": "code",
   "execution_count": null,
   "metadata": {
    "ExecuteTime": {
     "end_time": "2017-05-30T23:43:17.993116Z",
     "start_time": "2017-05-30T23:43:17.938639Z"
    },
    "collapsed": true
   },
   "outputs": [],
   "source": [
    "dataset.setindex('asin')"
   ]
  },
  {
   "cell_type": "code",
   "execution_count": null,
   "metadata": {
    "ExecuteTime": {
     "end_time": "2017-05-31T00:18:52.095414Z",
     "start_time": "2017-05-31T00:06:19.138492Z"
    },
    "collapsed": true
   },
   "outputs": [],
   "source": [
    "dataRatings = {}\n",
    "dataRatings = dataset[['asin','reviewerID','overall']].set_index('asin', drop=False,verify_integrity=False).T.to_dict(orient=\"index\")"
   ]
  },
  {
   "cell_type": "code",
   "execution_count": null,
   "metadata": {
    "ExecuteTime": {
     "end_time": "2017-05-30T23:42:40.198903Z",
     "start_time": "2017-05-30T23:42:40.186134Z"
    },
    "collapsed": true
   },
   "outputs": [],
   "source": [
    "dataRatings.get(0).get('reviewerID')"
   ]
  },
  {
   "cell_type": "code",
   "execution_count": null,
   "metadata": {
    "ExecuteTime": {
     "end_time": "2017-05-31T01:14:47.963823Z",
     "start_time": "2017-05-31T01:14:46.591991Z"
    },
    "collapsed": true
   },
   "outputs": [],
   "source": [
    "dataRatings"
   ]
  },
  {
   "cell_type": "code",
   "execution_count": null,
   "metadata": {
    "ExecuteTime": {
     "end_time": "2017-06-01T13:43:06.112202Z",
     "start_time": "2017-06-01T13:43:06.039818Z"
    },
    "collapsed": true
   },
   "outputs": [],
   "source": [
    "df_RU"
   ]
  },
  {
   "cell_type": "code",
   "execution_count": null,
   "metadata": {
    "ExecuteTime": {
     "end_time": "2017-05-28T01:12:27.579807Z",
     "start_time": "2017-05-28T01:12:27.546886Z"
    },
    "collapsed": true
   },
   "outputs": [],
   "source": []
  },
  {
   "cell_type": "code",
   "execution_count": null,
   "metadata": {
    "collapsed": true
   },
   "outputs": [],
   "source": [
    "item_user={k: g[\"reviewerID\"].tolist() for k,g in df.groupby(\"asin\")}\n",
    "item_user"
   ]
  },
  {
   "cell_type": "code",
   "execution_count": null,
   "metadata": {
    "ExecuteTime": {
     "end_time": "2017-05-29T22:21:05.290536Z",
     "start_time": "2017-05-29T22:21:05.271429Z"
    },
    "collapsed": true
   },
   "outputs": [],
   "source": [
    "item_user"
   ]
  },
  {
   "cell_type": "code",
   "execution_count": null,
   "metadata": {
    "ExecuteTime": {
     "end_time": "2017-06-07T13:55:24.947793Z",
     "start_time": "2017-06-07T13:39:28.799126Z"
    },
    "collapsed": true
   },
   "outputs": [],
   "source": []
  },
  {
   "cell_type": "code",
   "execution_count": null,
   "metadata": {
    "collapsed": true
   },
   "outputs": [],
   "source": []
  },
  {
   "cell_type": "code",
   "execution_count": null,
   "metadata": {
    "collapsed": true
   },
   "outputs": [],
   "source": []
  },
  {
   "cell_type": "code",
   "execution_count": null,
   "metadata": {
    "collapsed": true
   },
   "outputs": [],
   "source": []
  },
  {
   "cell_type": "code",
   "execution_count": null,
   "metadata": {
    "collapsed": true
   },
   "outputs": [],
   "source": []
  },
  {
   "cell_type": "code",
   "execution_count": null,
   "metadata": {
    "collapsed": true
   },
   "outputs": [],
   "source": [
    "def data_report(df=None):\n",
    "    # print various information, num users, items, density, etc...\n",
    "    \n",
    "    df.groupby('reviewerID').agg(['mean', 'count']).hist()\n",
    "    return"
   ]
  }
 ],
 "metadata": {
  "kernelspec": {
   "display_name": "Python 3",
   "language": "python",
   "name": "python3"
  },
  "language_info": {
   "codemirror_mode": {
    "name": "ipython",
    "version": 3
   },
   "file_extension": ".py",
   "mimetype": "text/x-python",
   "name": "python",
   "nbconvert_exporter": "python",
   "pygments_lexer": "ipython3",
   "version": "3.6.0"
  },
  "toc": {
   "colors": {
    "hover_highlight": "#DAA520",
    "navigate_num": "#000000",
    "navigate_text": "#333333",
    "running_highlight": "#FF0000",
    "selected_highlight": "#FFD700",
    "sidebar_border": "#EEEEEE",
    "wrapper_background": "#FFFFFF"
   },
   "moveMenuLeft": true,
   "nav_menu": {
    "height": "274px",
    "width": "346px"
   },
   "navigate_menu": true,
   "number_sections": true,
   "sideBar": true,
   "threshold": 4,
   "toc_cell": false,
   "toc_position": {
    "height": "650px",
    "left": "0px",
    "right": "1324px",
    "top": "108px",
    "width": "212px"
   },
   "toc_section_display": "block",
   "toc_window_display": true,
   "widenNotebook": false
  }
 },
 "nbformat": 4,
 "nbformat_minor": 2
}
