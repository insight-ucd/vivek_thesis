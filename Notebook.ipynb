{
 "cells": [
  {
   "cell_type": "code",
   "execution_count": null,
   "metadata": {
    "collapsed": true
   },
   "outputs": [],
   "source": [
    "!uname -a"
   ]
  },
  {
   "cell_type": "code",
   "execution_count": null,
   "metadata": {
    "ExecuteTime": {
     "end_time": "2017-05-30T14:11:21.626595Z",
     "start_time": "2017-05-30T14:11:21.618127Z"
    },
    "collapsed": true
   },
   "outputs": [],
   "source": [
    "import pandas as pd\n",
    "import gzip as gz\n",
    "import json"
   ]
  },
  {
   "cell_type": "code",
   "execution_count": null,
   "metadata": {
    "ExecuteTime": {
     "end_time": "2017-05-30T15:15:15.527084Z",
     "start_time": "2017-05-30T14:11:23.466808Z"
    },
    "collapsed": true
   },
   "outputs": [],
   "source": [
    "\n",
    "fname = '/home/alawlor/data/amazon_reviews/aggressive_dedup.json.gz'\n",
    "\n",
    "def _gen():\n",
    "    with gz.open(fname, 'rb') as f:\n",
    "        for i,line in enumerate(f):\n",
    "            obj = json.loads(line)\n",
    "            #print(obj)\n",
    "            yield dict(reviewerID=obj['reviewerID'], asin=obj['asin'], overall=obj['overall'])\n",
    "            #return\n",
    "            \n",
    "df = pd.DataFrame(_gen())\n",
    "print('Done!')"
   ]
  },
  {
   "cell_type": "code",
   "execution_count": null,
   "metadata": {
    "collapsed": true
   },
   "outputs": [],
   "source": [
    "df.columns"
   ]
  },
  {
   "cell_type": "code",
   "execution_count": null,
   "metadata": {
    "ExecuteTime": {
     "end_time": "2017-05-30T15:26:25.562505Z",
     "start_time": "2017-05-30T15:26:25.490293Z"
    },
    "collapsed": true
   },
   "outputs": [],
   "source": [
    "df"
   ]
  },
  {
   "cell_type": "code",
   "execution_count": null,
   "metadata": {
    "ExecuteTime": {
     "end_time": "2017-05-30T15:33:06.734155Z",
     "start_time": "2017-05-30T15:26:31.159668Z"
    },
    "collapsed": true
   },
   "outputs": [],
   "source": [
    "df.to_pickle(\"userItemRating.pkl\")"
   ]
  },
  {
   "cell_type": "code",
   "execution_count": null,
   "metadata": {
    "ExecuteTime": {
     "end_time": "2017-05-28T00:51:28.454673Z",
     "start_time": "2017-05-28T00:51:15.758216Z"
    },
    "collapsed": true
   },
   "outputs": [],
   "source": [
    "items=pd.read_csv('items.csv')"
   ]
  },
  {
   "cell_type": "code",
   "execution_count": null,
   "metadata": {
    "ExecuteTime": {
     "end_time": "2017-05-28T00:51:46.277484Z",
     "start_time": "2017-05-28T00:51:40.852401Z"
    },
    "collapsed": true
   },
   "outputs": [],
   "source": [
    "items.to_pickle(\"items.pkl\")"
   ]
  },
  {
   "cell_type": "markdown",
   "metadata": {},
   "source": [
    "# Load Data"
   ]
  },
  {
   "cell_type": "markdown",
   "metadata": {},
   "source": [
    "## Read Data"
   ]
  },
  {
   "cell_type": "code",
   "execution_count": 3,
   "metadata": {
    "ExecuteTime": {
     "end_time": "2017-06-05T14:03:33.192639Z",
     "start_time": "2017-06-05T14:02:07.588313Z"
    },
    "collapsed": true
   },
   "outputs": [],
   "source": [
    "import pandas as pd\n",
    "dataset=[]\n",
    "dataset = pd.read_pickle(\"userItemRating.pkl\")"
   ]
  },
  {
   "cell_type": "markdown",
   "metadata": {},
   "source": [
    "## Dataset Report"
   ]
  },
  {
   "cell_type": "code",
   "execution_count": null,
   "metadata": {
    "ExecuteTime": {
     "end_time": "2017-05-27T19:06:34.183639Z",
     "start_time": "2017-05-27T18:54:32.790328Z"
    },
    "collapsed": true
   },
   "outputs": [],
   "source": [
    "def data_report(df=None):\n",
    "    users = df.reviewerID.unique()\n",
    "    items= df.asin.unique()\n",
    "    ratings= df.overall.unique()\n",
    "    n_users= len(users)\n",
    "    n_items= len(items)\n",
    "    n_reviews= len(df)\n",
    "    density = ((n_reviews)/(n_users*n_items))\n",
    "    meanReviewsPerUser=df['reviewerID'].value_counts().mean()\n",
    "    meanReviewsPerItem=df['asin'].value_counts().mean()\n",
    "    meanRating=df['overall'].mean()\n",
    "    print(\"#Users: \",n_users,\"        #Items: \",n_items,\"        #Reviews: \",n_reviews,\"        Density: \",density,\"%\")\n",
    "    print(\"Mean reviews per User: \",meanReviewsPerUser,\"   Mean reviews per Item: \",meanReviewsPerItem,\"   Mean Rating (Overall): \",meanRating)\n",
    "    print(\"Dataset Size: \",len(df),\"        #Duplicate Records: \",((len(df))-(len(dataset.drop_duplicates(subset=['asin', 'reviewerID'])))))\n",
    "\n",
    "data_report(dataset)"
   ]
  },
  {
   "cell_type": "markdown",
   "metadata": {
    "ExecuteTime": {
     "end_time": "2017-05-27T18:45:19.104377Z",
     "start_time": "2017-05-27T18:37:14.661340Z"
    }
   },
   "source": [
    "## After removing duplicate data"
   ]
  },
  {
   "cell_type": "code",
   "execution_count": 3,
   "metadata": {
    "ExecuteTime": {
     "end_time": "2017-06-01T20:06:52.711674Z",
     "start_time": "2017-06-01T20:06:51.506536Z"
    }
   },
   "outputs": [
    {
     "data": {
      "text/html": [
       "<div>\n",
       "<table border=\"1\" class=\"dataframe\">\n",
       "  <thead>\n",
       "    <tr style=\"text-align: right;\">\n",
       "      <th></th>\n",
       "      <th>asin</th>\n",
       "      <th>overall</th>\n",
       "      <th>reviewerID</th>\n",
       "    </tr>\n",
       "  </thead>\n",
       "  <tbody>\n",
       "    <tr>\n",
       "      <th>0</th>\n",
       "      <td>B003UYU16G</td>\n",
       "      <td>5.0</td>\n",
       "      <td>A00000262KYZUE4J55XGL</td>\n",
       "    </tr>\n",
       "    <tr>\n",
       "      <th>1</th>\n",
       "      <td>B005FYPK9C</td>\n",
       "      <td>5.0</td>\n",
       "      <td>A000008615DZQRRI946FO</td>\n",
       "    </tr>\n",
       "    <tr>\n",
       "      <th>2</th>\n",
       "      <td>B000VEBG9Y</td>\n",
       "      <td>3.0</td>\n",
       "      <td>A00000922W28P2OCH6JSE</td>\n",
       "    </tr>\n",
       "    <tr>\n",
       "      <th>3</th>\n",
       "      <td>B001EJMS6K</td>\n",
       "      <td>4.0</td>\n",
       "      <td>A00000922W28P2OCH6JSE</td>\n",
       "    </tr>\n",
       "    <tr>\n",
       "      <th>4</th>\n",
       "      <td>B003XJCNVO</td>\n",
       "      <td>4.0</td>\n",
       "      <td>A00000922W28P2OCH6JSE</td>\n",
       "    </tr>\n",
       "    <tr>\n",
       "      <th>5</th>\n",
       "      <td>B00G3KN9LI</td>\n",
       "      <td>4.0</td>\n",
       "      <td>A00000922W28P2OCH6JSE</td>\n",
       "    </tr>\n",
       "    <tr>\n",
       "      <th>6</th>\n",
       "      <td>B000SAUVC4</td>\n",
       "      <td>5.0</td>\n",
       "      <td>A000013090ZI3HIT9N5V</td>\n",
       "    </tr>\n",
       "    <tr>\n",
       "      <th>7</th>\n",
       "      <td>B00125OS3C</td>\n",
       "      <td>5.0</td>\n",
       "      <td>A00001362Q1PGIX2FYSSH</td>\n",
       "    </tr>\n",
       "    <tr>\n",
       "      <th>8</th>\n",
       "      <td>B002IGHX40</td>\n",
       "      <td>2.0</td>\n",
       "      <td>A00001362Q1PGIX2FYSSH</td>\n",
       "    </tr>\n",
       "    <tr>\n",
       "      <th>9</th>\n",
       "      <td>B004WPCQKG</td>\n",
       "      <td>1.0</td>\n",
       "      <td>A00001483M88NBD66LEP0</td>\n",
       "    </tr>\n",
       "    <tr>\n",
       "      <th>10</th>\n",
       "      <td>B000GAYQTU</td>\n",
       "      <td>1.0</td>\n",
       "      <td>A0000188NWOSI5X2PMSN</td>\n",
       "    </tr>\n",
       "    <tr>\n",
       "      <th>11</th>\n",
       "      <td>B002HHZVNA</td>\n",
       "      <td>1.0</td>\n",
       "      <td>A0000196KBA0ICH151EG</td>\n",
       "    </tr>\n",
       "    <tr>\n",
       "      <th>12</th>\n",
       "      <td>0957544901</td>\n",
       "      <td>4.0</td>\n",
       "      <td>A000023026XVLM97BM7KY</td>\n",
       "    </tr>\n",
       "    <tr>\n",
       "      <th>13</th>\n",
       "      <td>B002Y2U8MC</td>\n",
       "      <td>5.0</td>\n",
       "      <td>A00003262KNLZOSMMMFVV</td>\n",
       "    </tr>\n",
       "    <tr>\n",
       "      <th>14</th>\n",
       "      <td>B002Y2U8MC</td>\n",
       "      <td>5.0</td>\n",
       "      <td>A00003262KNLZOSMMMFVV</td>\n",
       "    </tr>\n",
       "    <tr>\n",
       "      <th>15</th>\n",
       "      <td>B004P598FY</td>\n",
       "      <td>5.0</td>\n",
       "      <td>A00003262KNLZOSMMMFVV</td>\n",
       "    </tr>\n",
       "    <tr>\n",
       "      <th>16</th>\n",
       "      <td>B005MU3UE6</td>\n",
       "      <td>5.0</td>\n",
       "      <td>A00003262KNLZOSMMMFVV</td>\n",
       "    </tr>\n",
       "    <tr>\n",
       "      <th>17</th>\n",
       "      <td>0786903945</td>\n",
       "      <td>5.0</td>\n",
       "      <td>A00003322NZ9C82Y46DFN</td>\n",
       "    </tr>\n",
       "    <tr>\n",
       "      <th>18</th>\n",
       "      <td>B00474A3DY</td>\n",
       "      <td>4.0</td>\n",
       "      <td>A00003323X6I53YWRGN0</td>\n",
       "    </tr>\n",
       "    <tr>\n",
       "      <th>19</th>\n",
       "      <td>B00D8W4YO0</td>\n",
       "      <td>5.0</td>\n",
       "      <td>A00003783ISYSII6MAN88</td>\n",
       "    </tr>\n",
       "    <tr>\n",
       "      <th>20</th>\n",
       "      <td>1492111619</td>\n",
       "      <td>5.0</td>\n",
       "      <td>A0000440NYTE2D2YB089</td>\n",
       "    </tr>\n",
       "    <tr>\n",
       "      <th>21</th>\n",
       "      <td>B00EG0C20G</td>\n",
       "      <td>5.0</td>\n",
       "      <td>A0000488123JA1KQJTEM8</td>\n",
       "    </tr>\n",
       "    <tr>\n",
       "      <th>22</th>\n",
       "      <td>0062023144</td>\n",
       "      <td>5.0</td>\n",
       "      <td>A00005181SC9PSCD58LCG</td>\n",
       "    </tr>\n",
       "    <tr>\n",
       "      <th>23</th>\n",
       "      <td>076278038X</td>\n",
       "      <td>4.0</td>\n",
       "      <td>A00005181SC9PSCD58LCG</td>\n",
       "    </tr>\n",
       "    <tr>\n",
       "      <th>24</th>\n",
       "      <td>0800720024</td>\n",
       "      <td>5.0</td>\n",
       "      <td>A00005181SC9PSCD58LCG</td>\n",
       "    </tr>\n",
       "    <tr>\n",
       "      <th>25</th>\n",
       "      <td>630575067X</td>\n",
       "      <td>4.0</td>\n",
       "      <td>A00005181SC9PSCD58LCG</td>\n",
       "    </tr>\n",
       "    <tr>\n",
       "      <th>26</th>\n",
       "      <td>B001GCUO7A</td>\n",
       "      <td>5.0</td>\n",
       "      <td>A00005181SC9PSCD58LCG</td>\n",
       "    </tr>\n",
       "    <tr>\n",
       "      <th>27</th>\n",
       "      <td>B00A9LVA0Y</td>\n",
       "      <td>5.0</td>\n",
       "      <td>A00005303588WHRQZ6N4L</td>\n",
       "    </tr>\n",
       "    <tr>\n",
       "      <th>28</th>\n",
       "      <td>B006K6WPCO</td>\n",
       "      <td>5.0</td>\n",
       "      <td>A00005783VHRG0BPBWR0X</td>\n",
       "    </tr>\n",
       "    <tr>\n",
       "      <th>29</th>\n",
       "      <td>B00EWASFQA</td>\n",
       "      <td>5.0</td>\n",
       "      <td>A00005783VHRG0BPBWR0X</td>\n",
       "    </tr>\n",
       "    <tr>\n",
       "      <th>...</th>\n",
       "      <td>...</td>\n",
       "      <td>...</td>\n",
       "      <td>...</td>\n",
       "    </tr>\n",
       "    <tr>\n",
       "      <th>83091672</th>\n",
       "      <td>B00CMH4JNS</td>\n",
       "      <td>1.0</td>\n",
       "      <td>AZZZWBQ5K1BF9</td>\n",
       "    </tr>\n",
       "    <tr>\n",
       "      <th>83091673</th>\n",
       "      <td>B00EM3BS48</td>\n",
       "      <td>5.0</td>\n",
       "      <td>AZZZWBQ5K1BF9</td>\n",
       "    </tr>\n",
       "    <tr>\n",
       "      <th>83091674</th>\n",
       "      <td>0385346859</td>\n",
       "      <td>1.0</td>\n",
       "      <td>AZZZWEMB4N2W1</td>\n",
       "    </tr>\n",
       "    <tr>\n",
       "      <th>83091675</th>\n",
       "      <td>0307276902</td>\n",
       "      <td>1.0</td>\n",
       "      <td>AZZZWN0F3FFFV</td>\n",
       "    </tr>\n",
       "    <tr>\n",
       "      <th>83091676</th>\n",
       "      <td>B0016CFZQ0</td>\n",
       "      <td>5.0</td>\n",
       "      <td>AZZZWXXUPZ1F3</td>\n",
       "    </tr>\n",
       "    <tr>\n",
       "      <th>83091677</th>\n",
       "      <td>8420646466</td>\n",
       "      <td>4.0</td>\n",
       "      <td>AZZZXMJMM84SU</td>\n",
       "    </tr>\n",
       "    <tr>\n",
       "      <th>83091678</th>\n",
       "      <td>B001GS8G1U</td>\n",
       "      <td>4.0</td>\n",
       "      <td>AZZZY1W55XHZR</td>\n",
       "    </tr>\n",
       "    <tr>\n",
       "      <th>83091679</th>\n",
       "      <td>B001NCDE5C</td>\n",
       "      <td>2.0</td>\n",
       "      <td>AZZZY1W55XHZR</td>\n",
       "    </tr>\n",
       "    <tr>\n",
       "      <th>83091680</th>\n",
       "      <td>B001QTW6KQ</td>\n",
       "      <td>2.0</td>\n",
       "      <td>AZZZY1W55XHZR</td>\n",
       "    </tr>\n",
       "    <tr>\n",
       "      <th>83091681</th>\n",
       "      <td>B0024BTTAU</td>\n",
       "      <td>5.0</td>\n",
       "      <td>AZZZY1W55XHZR</td>\n",
       "    </tr>\n",
       "    <tr>\n",
       "      <th>83091682</th>\n",
       "      <td>B004QGO1LS</td>\n",
       "      <td>4.0</td>\n",
       "      <td>AZZZY1W55XHZR</td>\n",
       "    </tr>\n",
       "    <tr>\n",
       "      <th>83091683</th>\n",
       "      <td>B000H8MJL8</td>\n",
       "      <td>3.0</td>\n",
       "      <td>AZZZYAYJQSDOJ</td>\n",
       "    </tr>\n",
       "    <tr>\n",
       "      <th>83091684</th>\n",
       "      <td>B000WHQ7EY</td>\n",
       "      <td>4.0</td>\n",
       "      <td>AZZZYAYJQSDOJ</td>\n",
       "    </tr>\n",
       "    <tr>\n",
       "      <th>83091685</th>\n",
       "      <td>B001D4F7NM</td>\n",
       "      <td>5.0</td>\n",
       "      <td>AZZZYAYJQSDOJ</td>\n",
       "    </tr>\n",
       "    <tr>\n",
       "      <th>83091686</th>\n",
       "      <td>B0026ZP61K</td>\n",
       "      <td>5.0</td>\n",
       "      <td>AZZZYAYJQSDOJ</td>\n",
       "    </tr>\n",
       "    <tr>\n",
       "      <th>83091687</th>\n",
       "      <td>B002859GAU</td>\n",
       "      <td>2.0</td>\n",
       "      <td>AZZZYAYJQSDOJ</td>\n",
       "    </tr>\n",
       "    <tr>\n",
       "      <th>83091688</th>\n",
       "      <td>B002GWWI6Y</td>\n",
       "      <td>4.0</td>\n",
       "      <td>AZZZYAYJQSDOJ</td>\n",
       "    </tr>\n",
       "    <tr>\n",
       "      <th>83091689</th>\n",
       "      <td>B00383O2UU</td>\n",
       "      <td>5.0</td>\n",
       "      <td>AZZZYAYJQSDOJ</td>\n",
       "    </tr>\n",
       "    <tr>\n",
       "      <th>83091690</th>\n",
       "      <td>B004P95A9S</td>\n",
       "      <td>4.0</td>\n",
       "      <td>AZZZYAYJQSDOJ</td>\n",
       "    </tr>\n",
       "    <tr>\n",
       "      <th>83091691</th>\n",
       "      <td>B004USLQI8</td>\n",
       "      <td>4.0</td>\n",
       "      <td>AZZZYAYJQSDOJ</td>\n",
       "    </tr>\n",
       "    <tr>\n",
       "      <th>83091692</th>\n",
       "      <td>B00ACIFHBC</td>\n",
       "      <td>5.0</td>\n",
       "      <td>AZZZYAYJQSDOJ</td>\n",
       "    </tr>\n",
       "    <tr>\n",
       "      <th>83091693</th>\n",
       "      <td>B00CWZCX4W</td>\n",
       "      <td>5.0</td>\n",
       "      <td>AZZZYAYJQSDOJ</td>\n",
       "    </tr>\n",
       "    <tr>\n",
       "      <th>83091694</th>\n",
       "      <td>B00DD0CD0O</td>\n",
       "      <td>4.0</td>\n",
       "      <td>AZZZYAYJQSDOJ</td>\n",
       "    </tr>\n",
       "    <tr>\n",
       "      <th>83091695</th>\n",
       "      <td>0099472287</td>\n",
       "      <td>5.0</td>\n",
       "      <td>AZZZYCR4NZADZ</td>\n",
       "    </tr>\n",
       "    <tr>\n",
       "      <th>83091696</th>\n",
       "      <td>0738710423</td>\n",
       "      <td>5.0</td>\n",
       "      <td>AZZZYCR4NZADZ</td>\n",
       "    </tr>\n",
       "    <tr>\n",
       "      <th>83091697</th>\n",
       "      <td>B0001E5U7I</td>\n",
       "      <td>1.0</td>\n",
       "      <td>AZZZYCR4NZADZ</td>\n",
       "    </tr>\n",
       "    <tr>\n",
       "      <th>83091698</th>\n",
       "      <td>1401323464</td>\n",
       "      <td>2.0</td>\n",
       "      <td>AZZZZCVMZCKUJ</td>\n",
       "    </tr>\n",
       "    <tr>\n",
       "      <th>83091699</th>\n",
       "      <td>B007BE879E</td>\n",
       "      <td>5.0</td>\n",
       "      <td>AZZZZS5Z6MEWC</td>\n",
       "    </tr>\n",
       "    <tr>\n",
       "      <th>83091700</th>\n",
       "      <td>0028625250</td>\n",
       "      <td>5.0</td>\n",
       "      <td>AZZZZW74AAX75</td>\n",
       "    </tr>\n",
       "    <tr>\n",
       "      <th>83091701</th>\n",
       "      <td>B005D5M12M</td>\n",
       "      <td>1.0</td>\n",
       "      <td>AZZZZXVAOWWME</td>\n",
       "    </tr>\n",
       "  </tbody>\n",
       "</table>\n",
       "<p>83091702 rows × 3 columns</p>\n",
       "</div>"
      ],
      "text/plain": [
       "                asin  overall             reviewerID\n",
       "0         B003UYU16G      5.0  A00000262KYZUE4J55XGL\n",
       "1         B005FYPK9C      5.0  A000008615DZQRRI946FO\n",
       "2         B000VEBG9Y      3.0  A00000922W28P2OCH6JSE\n",
       "3         B001EJMS6K      4.0  A00000922W28P2OCH6JSE\n",
       "4         B003XJCNVO      4.0  A00000922W28P2OCH6JSE\n",
       "5         B00G3KN9LI      4.0  A00000922W28P2OCH6JSE\n",
       "6         B000SAUVC4      5.0   A000013090ZI3HIT9N5V\n",
       "7         B00125OS3C      5.0  A00001362Q1PGIX2FYSSH\n",
       "8         B002IGHX40      2.0  A00001362Q1PGIX2FYSSH\n",
       "9         B004WPCQKG      1.0  A00001483M88NBD66LEP0\n",
       "10        B000GAYQTU      1.0   A0000188NWOSI5X2PMSN\n",
       "11        B002HHZVNA      1.0   A0000196KBA0ICH151EG\n",
       "12        0957544901      4.0  A000023026XVLM97BM7KY\n",
       "13        B002Y2U8MC      5.0  A00003262KNLZOSMMMFVV\n",
       "14        B002Y2U8MC      5.0  A00003262KNLZOSMMMFVV\n",
       "15        B004P598FY      5.0  A00003262KNLZOSMMMFVV\n",
       "16        B005MU3UE6      5.0  A00003262KNLZOSMMMFVV\n",
       "17        0786903945      5.0  A00003322NZ9C82Y46DFN\n",
       "18        B00474A3DY      4.0   A00003323X6I53YWRGN0\n",
       "19        B00D8W4YO0      5.0  A00003783ISYSII6MAN88\n",
       "20        1492111619      5.0   A0000440NYTE2D2YB089\n",
       "21        B00EG0C20G      5.0  A0000488123JA1KQJTEM8\n",
       "22        0062023144      5.0  A00005181SC9PSCD58LCG\n",
       "23        076278038X      4.0  A00005181SC9PSCD58LCG\n",
       "24        0800720024      5.0  A00005181SC9PSCD58LCG\n",
       "25        630575067X      4.0  A00005181SC9PSCD58LCG\n",
       "26        B001GCUO7A      5.0  A00005181SC9PSCD58LCG\n",
       "27        B00A9LVA0Y      5.0  A00005303588WHRQZ6N4L\n",
       "28        B006K6WPCO      5.0  A00005783VHRG0BPBWR0X\n",
       "29        B00EWASFQA      5.0  A00005783VHRG0BPBWR0X\n",
       "...              ...      ...                    ...\n",
       "83091672  B00CMH4JNS      1.0          AZZZWBQ5K1BF9\n",
       "83091673  B00EM3BS48      5.0          AZZZWBQ5K1BF9\n",
       "83091674  0385346859      1.0          AZZZWEMB4N2W1\n",
       "83091675  0307276902      1.0          AZZZWN0F3FFFV\n",
       "83091676  B0016CFZQ0      5.0          AZZZWXXUPZ1F3\n",
       "83091677  8420646466      4.0          AZZZXMJMM84SU\n",
       "83091678  B001GS8G1U      4.0          AZZZY1W55XHZR\n",
       "83091679  B001NCDE5C      2.0          AZZZY1W55XHZR\n",
       "83091680  B001QTW6KQ      2.0          AZZZY1W55XHZR\n",
       "83091681  B0024BTTAU      5.0          AZZZY1W55XHZR\n",
       "83091682  B004QGO1LS      4.0          AZZZY1W55XHZR\n",
       "83091683  B000H8MJL8      3.0          AZZZYAYJQSDOJ\n",
       "83091684  B000WHQ7EY      4.0          AZZZYAYJQSDOJ\n",
       "83091685  B001D4F7NM      5.0          AZZZYAYJQSDOJ\n",
       "83091686  B0026ZP61K      5.0          AZZZYAYJQSDOJ\n",
       "83091687  B002859GAU      2.0          AZZZYAYJQSDOJ\n",
       "83091688  B002GWWI6Y      4.0          AZZZYAYJQSDOJ\n",
       "83091689  B00383O2UU      5.0          AZZZYAYJQSDOJ\n",
       "83091690  B004P95A9S      4.0          AZZZYAYJQSDOJ\n",
       "83091691  B004USLQI8      4.0          AZZZYAYJQSDOJ\n",
       "83091692  B00ACIFHBC      5.0          AZZZYAYJQSDOJ\n",
       "83091693  B00CWZCX4W      5.0          AZZZYAYJQSDOJ\n",
       "83091694  B00DD0CD0O      4.0          AZZZYAYJQSDOJ\n",
       "83091695  0099472287      5.0          AZZZYCR4NZADZ\n",
       "83091696  0738710423      5.0          AZZZYCR4NZADZ\n",
       "83091697  B0001E5U7I      1.0          AZZZYCR4NZADZ\n",
       "83091698  1401323464      2.0          AZZZZCVMZCKUJ\n",
       "83091699  B007BE879E      5.0          AZZZZS5Z6MEWC\n",
       "83091700  0028625250      5.0          AZZZZW74AAX75\n",
       "83091701  B005D5M12M      1.0          AZZZZXVAOWWME\n",
       "\n",
       "[83091702 rows x 3 columns]"
      ]
     },
     "execution_count": 3,
     "metadata": {},
     "output_type": "execute_result"
    }
   ],
   "source": [
    "dataset= dataset.drop_duplicates(subset=['asin', 'reviewerID'], keep=\"last\")\n",
    "#data_report(dataset)"
   ]
  },
  {
   "cell_type": "markdown",
   "metadata": {},
   "source": [
    "# Plots"
   ]
  },
  {
   "cell_type": "markdown",
   "metadata": {},
   "source": [
    "## Loading libraries and pre-computing data"
   ]
  },
  {
   "cell_type": "code",
   "execution_count": 70,
   "metadata": {
    "ExecuteTime": {
     "end_time": "2017-06-07T00:28:14.475618Z",
     "start_time": "2017-06-07T00:23:38.570285Z"
    }
   },
   "outputs": [],
   "source": [
    "#Load the libraries required\n",
    "import matplotlib.pyplot as plt\n",
    "%matplotlib inline\n",
    "import seaborn as sns\n",
    "import numpy as np\n",
    "\n",
    "\n",
    "#Pickle store/load function\n",
    "\n",
    "def storePickle(df=None,name=\"temp.pkl\"):\n",
    "    df.to_pickle(name)\n",
    "    \n",
    "def loadPickle(name=\"temp.pkl\"):\n",
    "    df=pd.read_pickle(name)\n",
    "    return df\n",
    "\n",
    "#Grouping func\n",
    "\n",
    "def groupingData(df=None,cols=['n_occurences','n_members']):\n",
    "    df_Temp=pd.DataFrame(columns=cols)\n",
    "    colName=list(df)\n",
    "    df_Temp[cols[0]]=df.groupby(colName[0]).groups.keys()\n",
    "    df_Temp[cols[1]]=df.groupby(colName[0]).size()\n",
    "    df_Temp=df_Temp.fillna(0)\n",
    "    return df_Temp\n",
    "\n",
    "#Pre-compute the data to be used in plotting\n",
    "\n",
    "df_grpRevUser = dataset[['reviewerID']].groupby('reviewerID', sort=False).agg({'reviewerID': 'count'})\n",
    "df_grpRevItem = dataset[['asin']].groupby('asin', sort=False).agg({'asin': 'count'})\n",
    "df_grpRateUser= dataset.groupby(['reviewerID'],sort=False).agg({'overall': 'mean'})\n",
    "df_grpRateItem= dataset.groupby(['asin'],sort=False).agg({'overall': 'mean'})\n",
    "#df_Temp['meanRatingUser'] = round(df.groupby(['reviewerID'],sort=False)['overall'].transform('mean'))\n",
    "#df_Temp['meanRatingItem'] = round(df.groupby(['asin'],sort=False)['overall'].transform('mean'))\n",
    "#storePickle(df_Temp,name=\"precompData.pkl\")"
   ]
  },
  {
   "cell_type": "code",
   "execution_count": 9,
   "metadata": {
    "ExecuteTime": {
     "end_time": "2017-06-05T14:13:58.310902Z",
     "start_time": "2017-06-05T14:05:46.845843Z"
    }
   },
   "outputs": [
    {
     "name": "stdout",
     "output_type": "stream",
     "text": [
      "CPU times: user 4min 38s, sys: 1min 46s, total: 6min 24s\n",
      "Wall time: 8min 10s\n"
     ]
    }
   ],
   "source": [
    "# df_count_users = df_sample[['asin']].groupby('asin', sort=False).agg({'asin': 'count'})\n",
    "%time df_preComp = preCompute(dataset)"
   ]
  },
  {
   "cell_type": "code",
   "execution_count": 16,
   "metadata": {
    "ExecuteTime": {
     "end_time": "2017-06-01T21:54:11.711827Z",
     "start_time": "2017-06-01T21:52:56.593613Z"
    },
    "collapsed": true
   },
   "outputs": [],
   "source": [
    "#Grouping the data, for the plots\n",
    "df_RevUser = groupingData(df_preComp[['reviewsUser']],cols=['reviews','n_users'])\n",
    "df_RevItem = groupingData(df_preComp[['reviewsItem']],cols=['reviews','n_items'])\n",
    "df_RateUser = groupingData(df_preComp[['meanRatingUser']],cols=['meanRatings','n_users'])\n",
    "df_RateItem = groupingData(df_preComp[['meanRatingItem']],cols=['meanRatings','n_items'])"
   ]
  },
  {
   "cell_type": "markdown",
   "metadata": {},
   "source": [
    "## Defining the plotting function"
   ]
  },
  {
   "cell_type": "code",
   "execution_count": 107,
   "metadata": {
    "ExecuteTime": {
     "end_time": "2017-06-07T00:52:59.091820Z",
     "start_time": "2017-06-07T00:52:58.887948Z"
    }
   },
   "outputs": [
    {
     "data": {
      "text/plain": [
       "\"\\ndef plotting(df_RU=None, df_RT=None, df_RateUser=None, df_RateItem=None):\\n    f, axarr = plt.subplots(2, 2, figsize=(15,12))\\n\\n    axarr[0, 0].bar(df_RU['reviews'],df_RU['n_users'], align='center')\\n    axarr[0, 0].set_xlabel('#Reviews')\\n    axarr[0, 0].set_ylabel('#Users')\\n    axarr[0, 0].set_title('Reviews vs Users')\\n    axarr[0, 0].set_yscale('log')\\n    axarr[0, 0].set_xscale('log')\\n    #axarr[0, 0].ticklabel_format(style = 'plain')\\n    axarr[0, 0].axvline(df_RU['reviews'].mean(), color='b', linestyle='dashed', linewidth=1, alpha=0.4)\\n    axarr[0, 0].axhline(df_RU['n_users'].mean(), color='b', linestyle='dashed', linewidth=1, alpha=0.4)\\n\\n    axarr[0, 1].bar(df_RT['reviews'],df_RT['n_items'], align='center')\\n    axarr[0, 1].set_xlabel('#Reviews')\\n    axarr[0, 1].set_ylabel('#Items')\\n    axarr[0, 1].set_title('Reviews vs Items')\\n    axarr[0, 1].set_yscale('log')\\n    axarr[0, 1].set_xscale('log')\\n    #axarr[0, 1].ticklabel_format(style = 'plain')\\n    axarr[0, 1].axvline(df_RT['reviews'].mean(), color='b', linestyle='dashed', linewidth=1, alpha=0.4)\\n    axarr[0, 1].axhline(df_RT['n_items'].mean(), color='b', linestyle='dashed', linewidth=1, alpha=0.4)\\n\\n    axarr[1, 0].bar(df_RateUser['ratings'],df_RateUser['n_users'], align='center')\\n    axarr[1, 0].set_xlabel('#Ratings')\\n    axarr[1, 0].set_ylabel('#Users')\\n    axarr[1, 0].set_title('Ratings vs Users')\\n    #axarr[1, 0].set_yscale('log')\\n    #axarr[1, 0].set_xscale('log')\\n    axarr[1, 0].ticklabel_format(style = 'plain')\\n    axarr[1, 0].axhline(df_RateUser['n_users'].mean(), color='b', linestyle='dashed', linewidth=1, alpha=0.4)\\n    axarr[1, 0].axvline(df_RateUser['ratings'].mean(), color='b', linestyle='dashed', linewidth=1, alpha=0.4)\\n\\n    axarr[1, 1].bar(df_RateItem['ratings'],df_RateItem['n_items'], align='center')\\n    axarr[1, 1].set_xlabel('#Ratings')\\n    axarr[1, 1].set_ylabel('#Items')\\n    axarr[1, 1].set_title('Ratings vs Items')\\n    #axarr[1, 1].set_yscale('log')\\n    #axarr[1, 1].set_xscale('log')\\n    axarr[1, 1].ticklabel_format(style = 'plain')\\n    axarr[1, 1].axhline(df_RateItem['n_items'].mean(), color='b', linestyle='dashed', linewidth=1, alpha=0.4)\\n    axarr[1, 1].axvline(df_RateItem['ratings'].mean(), color='b', linestyle='dashed', linewidth=1, alpha=0.4)\\n    plt.tight_layout()\\n    f.subplots_adjust(hspace=0.3)\\n    \\n  \""
      ]
     },
     "execution_count": 107,
     "metadata": {},
     "output_type": "execute_result"
    }
   ],
   "source": [
    "import numpy as np\n",
    "import matplotlib as mlib\n",
    "import matplotlib.pyplot as plt\n",
    "\n",
    "\n",
    "\n",
    "\n",
    "def plotting(df=None,nbins=1,xmin=None,xmax=None, density=False, xlabel='', ylabel='', logscale=False ):\n",
    "    if xmin==None:\n",
    "        xmin=df.min()\n",
    "    if xmax==None:\n",
    "        xmax=(df.max())+1\n",
    "    \n",
    "    if density:\n",
    "        cumulative,normed = True,True\n",
    "    else:\n",
    "        cumulative,normed = False,False\n",
    "    \n",
    "    bins=np.arange(xmin,xmax,nbins)\n",
    "    #print(df)\n",
    "    df.hist(bins=bins, normed=normed, cumulative=cumulative, figsize=(10,7) )\n",
    "    mean_val = df.mean().values[0]\n",
    "    plt.axvline(x=mean_val, color='r', label='mean number of reviews = {}'.format(mean_val), alpha=0.6)\n",
    "    plt.xlabel(xlabel)\n",
    "    plt.ylabel(ylabel)\n",
    "    #plt.xlim(0, 20)\n",
    "    if logscale:\n",
    "        plt.yscale('log')\n",
    "    #y_formatter = plt.ticker.ScalarFormatter(useOffset=False)\n",
    "    #plt.yaxis.set_major_formatter(y_formatter)\n",
    "    plt.legend()\n",
    "    return\n",
    "\n",
    "#Defined Plotting function\n",
    "\"\"\"\n",
    "def plotting(df_RU=None, df_RT=None, df_RateUser=None, df_RateItem=None):\n",
    "    f, axarr = plt.subplots(2, 2, figsize=(15,12))\n",
    "\n",
    "    axarr[0, 0].bar(df_RU['reviews'],df_RU['n_users'], align='center')\n",
    "    axarr[0, 0].set_xlabel('#Reviews')\n",
    "    axarr[0, 0].set_ylabel('#Users')\n",
    "    axarr[0, 0].set_title('Reviews vs Users')\n",
    "    axarr[0, 0].set_yscale('log')\n",
    "    axarr[0, 0].set_xscale('log')\n",
    "    #axarr[0, 0].ticklabel_format(style = 'plain')\n",
    "    axarr[0, 0].axvline(df_RU['reviews'].mean(), color='b', linestyle='dashed', linewidth=1, alpha=0.4)\n",
    "    axarr[0, 0].axhline(df_RU['n_users'].mean(), color='b', linestyle='dashed', linewidth=1, alpha=0.4)\n",
    "\n",
    "    axarr[0, 1].bar(df_RT['reviews'],df_RT['n_items'], align='center')\n",
    "    axarr[0, 1].set_xlabel('#Reviews')\n",
    "    axarr[0, 1].set_ylabel('#Items')\n",
    "    axarr[0, 1].set_title('Reviews vs Items')\n",
    "    axarr[0, 1].set_yscale('log')\n",
    "    axarr[0, 1].set_xscale('log')\n",
    "    #axarr[0, 1].ticklabel_format(style = 'plain')\n",
    "    axarr[0, 1].axvline(df_RT['reviews'].mean(), color='b', linestyle='dashed', linewidth=1, alpha=0.4)\n",
    "    axarr[0, 1].axhline(df_RT['n_items'].mean(), color='b', linestyle='dashed', linewidth=1, alpha=0.4)\n",
    "\n",
    "    axarr[1, 0].bar(df_RateUser['ratings'],df_RateUser['n_users'], align='center')\n",
    "    axarr[1, 0].set_xlabel('#Ratings')\n",
    "    axarr[1, 0].set_ylabel('#Users')\n",
    "    axarr[1, 0].set_title('Ratings vs Users')\n",
    "    #axarr[1, 0].set_yscale('log')\n",
    "    #axarr[1, 0].set_xscale('log')\n",
    "    axarr[1, 0].ticklabel_format(style = 'plain')\n",
    "    axarr[1, 0].axhline(df_RateUser['n_users'].mean(), color='b', linestyle='dashed', linewidth=1, alpha=0.4)\n",
    "    axarr[1, 0].axvline(df_RateUser['ratings'].mean(), color='b', linestyle='dashed', linewidth=1, alpha=0.4)\n",
    "\n",
    "    axarr[1, 1].bar(df_RateItem['ratings'],df_RateItem['n_items'], align='center')\n",
    "    axarr[1, 1].set_xlabel('#Ratings')\n",
    "    axarr[1, 1].set_ylabel('#Items')\n",
    "    axarr[1, 1].set_title('Ratings vs Items')\n",
    "    #axarr[1, 1].set_yscale('log')\n",
    "    #axarr[1, 1].set_xscale('log')\n",
    "    axarr[1, 1].ticklabel_format(style = 'plain')\n",
    "    axarr[1, 1].axhline(df_RateItem['n_items'].mean(), color='b', linestyle='dashed', linewidth=1, alpha=0.4)\n",
    "    axarr[1, 1].axvline(df_RateItem['ratings'].mean(), color='b', linestyle='dashed', linewidth=1, alpha=0.4)\n",
    "    plt.tight_layout()\n",
    "    f.subplots_adjust(hspace=0.3)\n",
    "    \n",
    "  \"\"\"  \n"
   ]
  },
  {
   "cell_type": "markdown",
   "metadata": {},
   "source": [
    "## Creating Plots"
   ]
  },
  {
   "cell_type": "code",
   "execution_count": 108,
   "metadata": {
    "ExecuteTime": {
     "end_time": "2017-06-07T00:53:05.045608Z",
     "start_time": "2017-06-07T00:53:02.787730Z"
    }
   },
   "outputs": [
    {
     "data": {
      "image/png": "[encoded data removed]",
      "text/plain": [
       "<matplotlib.figure.Figure at 0x7efd7727c9e8>"
      ]
     },
     "metadata": {},
     "output_type": "display_data"
    }
   ],
   "source": [
    "#Call the plotting function\n",
    "\n",
    "plotting(df_grpRevUser, xmin=1, xmax=50, density=False, logscale=True, xlabel=\"Reviews\", ylabel=\"Users\")"
   ]
  },
  {
   "cell_type": "code",
   "execution_count": 109,
   "metadata": {
    "ExecuteTime": {
     "end_time": "2017-06-07T00:53:11.544877Z",
     "start_time": "2017-06-07T00:53:09.511155Z"
    }
   },
   "outputs": [
    {
     "data": {
      "image/png": "[encoded data removed]",
      "text/plain": [
       "<matplotlib.figure.Figure at 0x7efd762450f0>"
      ]
     },
     "metadata": {},
     "output_type": "display_data"
    }
   ],
   "source": [
    "#Call the plotting function\n",
    "\n",
    "plotting(df_grpRevItem, xmin=1, xmax=40, density=False, logscale=True, xlabel=\"Reviews\", ylabel=\"Items\")"
   ]
  },
  {
   "cell_type": "code",
   "execution_count": 110,
   "metadata": {
    "ExecuteTime": {
     "end_time": "2017-06-07T00:53:18.473345Z",
     "start_time": "2017-06-07T00:53:14.019092Z"
    }
   },
   "outputs": [
    {
     "data": {
      "image/png": "[encoded data removed]",
      "text/plain": [
       "<matplotlib.figure.Figure at 0x7efd761ae828>"
      ]
     },
     "metadata": {},
     "output_type": "display_data"
    }
   ],
   "source": [
    "#Call the plotting function\n",
    "\n",
    "plotting(df_grpRateUser, density=True, logscale=False, xlabel=\"Ratings\", ylabel=\"Users\")"
   ]
  },
  {
   "cell_type": "code",
   "execution_count": 111,
   "metadata": {
    "ExecuteTime": {
     "end_time": "2017-06-07T00:53:23.760554Z",
     "start_time": "2017-06-07T00:53:21.145802Z"
    }
   },
   "outputs": [
    {
     "data": {
      "image/png": "[encoded data removed]",
      "text/plain": [
       "<matplotlib.figure.Figure at 0x7efd775d67b8>"
      ]
     },
     "metadata": {},
     "output_type": "display_data"
    }
   ],
   "source": [
    "#Call the plotting function\n",
    "\n",
    "plotting(df_grpRateItem, density=False, logscale=False, xlabel=\"Ratings\", ylabel=\"Item\")"
   ]
  },
  {
   "cell_type": "code",
   "execution_count": null,
   "metadata": {
    "ExecuteTime": {
     "start_time": "2017-06-07T00:11:42.009Z"
    }
   },
   "outputs": [],
   "source": [
    "from scipy import stats, integrate\n",
    "import seaborn as sns\n",
    "sns.set(color_codes=True)\n",
    "sns.distplot(df_grpRevUser, kde=False, rug=True);"
   ]
  },
  {
   "cell_type": "markdown",
   "metadata": {
    "ExecuteTime": {
     "end_time": "2017-05-27T18:32:15.436113Z",
     "start_time": "2017-05-27T18:27:30.144010Z"
    }
   },
   "source": [
    "# Data Operation"
   ]
  },
  {
   "cell_type": "markdown",
   "metadata": {
    "ExecuteTime": {
     "start_time": "2017-05-26T23:17:10.262Z"
    }
   },
   "source": [
    "## Storing in nested dictionary"
   ]
  },
  {
   "cell_type": "code",
   "execution_count": null,
   "metadata": {
    "ExecuteTime": {
     "end_time": "2017-05-28T01:54:32.504289Z",
     "start_time": "2017-05-28T01:54:22.579886Z"
    },
    "collapsed": true
   },
   "outputs": [],
   "source": [
    "users = pd.read_pickle(\"users.pkl\")\n",
    "items = pd.read_pickle(\"items.pkl\")"
   ]
  },
  {
   "cell_type": "code",
   "execution_count": null,
   "metadata": {
    "ExecuteTime": {
     "end_time": "2017-05-29T22:39:36.304258Z",
     "start_time": "2017-05-29T22:38:56.200214Z"
    },
    "collapsed": true
   },
   "outputs": [],
   "source": [
    "import collections\n",
    "dataRatings = {}\n",
    "\n",
    "for item in items['Items']:\n",
    "    dataRatings[item] = {}\n",
    "    \"\"\"for user in users['Users']:\n",
    "        if(len(dataset[dataset['asin'] == item][dataset['reviewerID'] ==user].overall) > 0):\n",
    "            dataRatings[item][user]=dataset[dataset['asin'] == item][dataset['reviewerID'] ==user].overall\"\"\"\n"
   ]
  },
  {
   "cell_type": "code",
   "execution_count": null,
   "metadata": {
    "ExecuteTime": {
     "start_time": "2017-05-30T12:43:07.495Z"
    },
    "collapsed": true
   },
   "outputs": [],
   "source": [
    "#dataset\n",
    "df2 = pd.DataFrame(dataset[['asin','reviewerID','overall']], index=dataset['asin'])\n",
    "\n",
    "#dataset[dataset['asin'] == 'B003UYU16G'][dataset['reviewerID'] =='A00000262KYZUE4J55XGL'].overall"
   ]
  },
  {
   "cell_type": "code",
   "execution_count": null,
   "metadata": {
    "ExecuteTime": {
     "end_time": "2017-05-29T23:57:23.258991Z",
     "start_time": "2017-05-29T23:48:46.411414Z"
    },
    "collapsed": true
   },
   "outputs": [],
   "source": [
    "for index, row in dataset.iterrows():\n",
    "    dataRatings(row['asin']).append({row['reviewerID'],row['overall']})"
   ]
  },
  {
   "cell_type": "code",
   "execution_count": null,
   "metadata": {
    "ExecuteTime": {
     "end_time": "2017-05-30T23:43:17.993116Z",
     "start_time": "2017-05-30T23:43:17.938639Z"
    },
    "collapsed": true
   },
   "outputs": [],
   "source": [
    "dataset.setindex('asin')"
   ]
  },
  {
   "cell_type": "code",
   "execution_count": null,
   "metadata": {
    "ExecuteTime": {
     "end_time": "2017-05-31T00:18:52.095414Z",
     "start_time": "2017-05-31T00:06:19.138492Z"
    },
    "collapsed": true
   },
   "outputs": [],
   "source": [
    "dataRatings = {}\n",
    "dataRatings = dataset[['asin','reviewerID','overall']].set_index('asin', drop=False,verify_integrity=False).T.to_dict(orient=\"index\")"
   ]
  },
  {
   "cell_type": "code",
   "execution_count": null,
   "metadata": {
    "ExecuteTime": {
     "end_time": "2017-05-30T23:42:40.198903Z",
     "start_time": "2017-05-30T23:42:40.186134Z"
    },
    "collapsed": true
   },
   "outputs": [],
   "source": [
    "dataRatings.get(0).get('reviewerID')"
   ]
  },
  {
   "cell_type": "code",
   "execution_count": null,
   "metadata": {
    "ExecuteTime": {
     "end_time": "2017-05-31T01:14:47.963823Z",
     "start_time": "2017-05-31T01:14:46.591991Z"
    },
    "collapsed": true
   },
   "outputs": [],
   "source": [
    "dataRatings"
   ]
  },
  {
   "cell_type": "code",
   "execution_count": null,
   "metadata": {
    "ExecuteTime": {
     "end_time": "2017-06-01T13:43:06.112202Z",
     "start_time": "2017-06-01T13:43:06.039818Z"
    },
    "collapsed": true
   },
   "outputs": [],
   "source": [
    "df_RU"
   ]
  },
  {
   "cell_type": "code",
   "execution_count": null,
   "metadata": {
    "ExecuteTime": {
     "end_time": "2017-05-28T01:12:27.579807Z",
     "start_time": "2017-05-28T01:12:27.546886Z"
    },
    "collapsed": true
   },
   "outputs": [],
   "source": []
  },
  {
   "cell_type": "code",
   "execution_count": null,
   "metadata": {
    "collapsed": true
   },
   "outputs": [],
   "source": [
    "item_user={k: g[\"reviewerID\"].tolist() for k,g in df.groupby(\"asin\")}\n",
    "item_user"
   ]
  },
  {
   "cell_type": "code",
   "execution_count": null,
   "metadata": {
    "ExecuteTime": {
     "end_time": "2017-05-29T22:21:05.290536Z",
     "start_time": "2017-05-29T22:21:05.271429Z"
    },
    "collapsed": true
   },
   "outputs": [],
   "source": [
    "item_user"
   ]
  },
  {
   "cell_type": "code",
   "execution_count": null,
   "metadata": {
    "collapsed": true
   },
   "outputs": [],
   "source": []
  },
  {
   "cell_type": "code",
   "execution_count": null,
   "metadata": {
    "collapsed": true
   },
   "outputs": [],
   "source": []
  },
  {
   "cell_type": "code",
   "execution_count": null,
   "metadata": {
    "collapsed": true
   },
   "outputs": [],
   "source": []
  },
  {
   "cell_type": "code",
   "execution_count": null,
   "metadata": {
    "collapsed": true
   },
   "outputs": [],
   "source": []
  },
  {
   "cell_type": "code",
   "execution_count": null,
   "metadata": {
    "collapsed": true
   },
   "outputs": [],
   "source": []
  },
  {
   "cell_type": "code",
   "execution_count": null,
   "metadata": {
    "collapsed": true
   },
   "outputs": [],
   "source": [
    "def data_report(df=None):\n",
    "    # print various information, num users, items, density, etc...\n",
    "    \n",
    "    df.groupby('reviewerID').agg(['mean', 'count']).hist()\n",
    "    return"
   ]
  }
 ],
 "metadata": {
  "kernelspec": {
   "display_name": "Python 3",
   "language": "python",
   "name": "python3"
  },
  "language_info": {
   "codemirror_mode": {
    "name": "ipython",
    "version": 3
   },
   "file_extension": ".py",
   "mimetype": "text/x-python",
   "name": "python",
   "nbconvert_exporter": "python",
   "pygments_lexer": "ipython3",
   "version": "3.6.0"
  },
  "toc": {
   "colors": {
    "hover_highlight": "#DAA520",
    "navigate_num": "#000000",
    "navigate_text": "#333333",
    "running_highlight": "#FF0000",
    "selected_highlight": "#FFD700",
    "sidebar_border": "#EEEEEE",
    "wrapper_background": "#FFFFFF"
   },
   "moveMenuLeft": true,
   "nav_menu": {
    "height": "274px",
    "width": "346px"
   },
   "navigate_menu": true,
   "number_sections": true,
   "sideBar": true,
   "threshold": 4,
   "toc_cell": false,
   "toc_position": {
    "height": "650px",
    "left": "0px",
    "right": "1324px",
    "top": "108px",
    "width": "212px"
   },
   "toc_section_display": "block",
   "toc_window_display": true,
   "widenNotebook": false
  }
 },
 "nbformat": 4,
 "nbformat_minor": 2
}
