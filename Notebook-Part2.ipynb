{
 "cells": [
  {
   "cell_type": "code",
   "execution_count": 30,
   "metadata": {
    "ExecuteTime": {
     "end_time": "2017-06-11T17:33:38.199438Z",
     "start_time": "2017-06-11T17:33:38.044099Z"
    }
   },
   "outputs": [
    {
     "name": "stdout",
     "output_type": "stream",
     "text": [
      "Linux claritytrec 4.4.0-28-generic #47-Ubuntu SMP Fri Jun 24 10:09:13 UTC 2016 x86_64 x86_64 x86_64 GNU/Linux\r\n"
     ]
    }
   ],
   "source": [
    "!uname -a"
   ]
  },
  {
   "cell_type": "markdown",
   "metadata": {},
   "source": [
    "# Start Here"
   ]
  },
  {
   "cell_type": "code",
   "execution_count": 2,
   "metadata": {
    "ExecuteTime": {
     "end_time": "2017-06-20T00:26:15.309186Z",
     "start_time": "2017-06-20T00:26:13.611112Z"
    },
    "collapsed": true
   },
   "outputs": [],
   "source": [
    "import pandas as pd\n",
    "\n",
    "#Pickle store/load function\n",
    "\n",
    "def storePickle(df=None,name=\"temp.pkl\"):\n",
    "    df.to_pickle(name)\n",
    "    \n",
    "def loadPickle(name=\"temp.pkl\"):\n",
    "    df=pd.read_pickle(name)\n",
    "    return df\n"
   ]
  },
  {
   "cell_type": "markdown",
   "metadata": {},
   "source": [
    "# Load Data"
   ]
  },
  {
   "cell_type": "markdown",
   "metadata": {},
   "source": [
    "## Read Data"
   ]
  },
  {
   "cell_type": "code",
   "execution_count": 2,
   "metadata": {
    "ExecuteTime": {
     "end_time": "2017-06-19T14:39:30.244663Z",
     "start_time": "2017-06-19T14:37:49.168277Z"
    }
   },
   "outputs": [
    {
     "data": {
      "text/html": [
       "<div>\n",
       "<style>\n",
       "    .dataframe thead tr:only-child th {\n",
       "        text-align: right;\n",
       "    }\n",
       "\n",
       "    .dataframe thead th {\n",
       "        text-align: left;\n",
       "    }\n",
       "\n",
       "    .dataframe tbody tr th {\n",
       "        vertical-align: top;\n",
       "    }\n",
       "</style>\n",
       "<table border=\"1\" class=\"dataframe\">\n",
       "  <thead>\n",
       "    <tr style=\"text-align: right;\">\n",
       "      <th></th>\n",
       "      <th>asin</th>\n",
       "      <th>reviewText</th>\n",
       "      <th>reviewerID</th>\n",
       "      <th>overall</th>\n",
       "    </tr>\n",
       "  </thead>\n",
       "  <tbody>\n",
       "    <tr>\n",
       "      <th>7</th>\n",
       "      <td>B00125OS3C</td>\n",
       "      <td>Beautiful photos/film with wonderful music.  G...</td>\n",
       "      <td>A00001362Q1PGIX2FYSSH</td>\n",
       "      <td>5.0</td>\n",
       "    </tr>\n",
       "    <tr>\n",
       "      <th>8</th>\n",
       "      <td>B002IGHX40</td>\n",
       "      <td>My idea of Colorado is &amp;#34;Mountains&amp;#34;.  C...</td>\n",
       "      <td>A00001362Q1PGIX2FYSSH</td>\n",
       "      <td>2.0</td>\n",
       "    </tr>\n",
       "    <tr>\n",
       "      <th>27</th>\n",
       "      <td>630575067X</td>\n",
       "      <td>action packed, with memorable characters and l...</td>\n",
       "      <td>A00005181SC9PSCD58LCG</td>\n",
       "      <td>4.0</td>\n",
       "    </tr>\n",
       "    <tr>\n",
       "      <th>28</th>\n",
       "      <td>B001GCUO7A</td>\n",
       "      <td>most boys would eat this up. it has all the re...</td>\n",
       "      <td>A00005181SC9PSCD58LCG</td>\n",
       "      <td>5.0</td>\n",
       "    </tr>\n",
       "    <tr>\n",
       "      <th>69</th>\n",
       "      <td>B004JR3OVM</td>\n",
       "      <td>I'm sorry but this movie was horrible. i can't...</td>\n",
       "      <td>A0001392IVCRENBEIEYS</td>\n",
       "      <td>1.0</td>\n",
       "    </tr>\n",
       "  </tbody>\n",
       "</table>\n",
       "</div>"
      ],
      "text/plain": [
       "          asin                                         reviewText  \\\n",
       "7   B00125OS3C  Beautiful photos/film with wonderful music.  G...   \n",
       "8   B002IGHX40  My idea of Colorado is &#34;Mountains&#34;.  C...   \n",
       "27  630575067X  action packed, with memorable characters and l...   \n",
       "28  B001GCUO7A  most boys would eat this up. it has all the re...   \n",
       "69  B004JR3OVM  I'm sorry but this movie was horrible. i can't...   \n",
       "\n",
       "               reviewerID  overall  \n",
       "7   A00001362Q1PGIX2FYSSH      5.0  \n",
       "8   A00001362Q1PGIX2FYSSH      2.0  \n",
       "27  A00005181SC9PSCD58LCG      4.0  \n",
       "28  A00005181SC9PSCD58LCG      5.0  \n",
       "69   A0001392IVCRENBEIEYS      1.0  "
      ]
     },
     "execution_count": 2,
     "metadata": {},
     "output_type": "execute_result"
    }
   ],
   "source": [
    "import pandas as pd\n",
    "dataset=[]\n",
    "dataset = pd.read_pickle(\"extractedDataset.pkl\")\n",
    "dataset.head(5)"
   ]
  },
  {
   "cell_type": "markdown",
   "metadata": {},
   "source": [
    "The dataset we dealing with is loaded here, through reading from a pickle file stored on the disk."
   ]
  },
  {
   "cell_type": "markdown",
   "metadata": {},
   "source": [
    "## Dataset Report"
   ]
  },
  {
   "cell_type": "code",
   "execution_count": 4,
   "metadata": {
    "ExecuteTime": {
     "end_time": "2017-06-17T21:14:39.217648Z",
     "start_time": "2017-06-17T21:14:25.006047Z"
    }
   },
   "outputs": [
    {
     "name": "stdout",
     "output_type": "stream",
     "text": [
      "#Users:  2064037         #Items:  196967         #Reviews:  4640261         Density:  1.1413831595579591e-05 %\n",
      "Mean reviews per User:  2.248148167886525    Mean reviews per Item:  23.55857072504531    Mean Rating (Overall): NA\n",
      "Dataset Size:  4640261         #Duplicate Records:  94677\n"
     ]
    }
   ],
   "source": [
    "def data_report(df=None):\n",
    "    users = df.reviewerID.unique()\n",
    "    items= df.asin.unique()\n",
    "    #ratings= df.overall.unique()\n",
    "    n_users= len(users)\n",
    "    n_items= len(items)\n",
    "    n_reviews= len(df)\n",
    "    density = ((n_reviews)/(n_users*n_items))\n",
    "    meanReviewsPerUser=df['reviewerID'].value_counts().mean()\n",
    "    meanReviewsPerItem=df['asin'].value_counts().mean()\n",
    "    #meanRating=df['overall'].mean()\n",
    "    print(\"#Users: \",n_users,\"        #Items: \",n_items,\"        #Reviews: \",n_reviews,\"        Density: \",density,\"%\")\n",
    "    print(\"Mean reviews per User: \",meanReviewsPerUser,\"   Mean reviews per Item: \",meanReviewsPerItem,\"   Mean Rating (Overall): NA\"\n",
    "          #,meanRating\n",
    "         )\n",
    "    print(\"Dataset Size: \",len(df),\"        #Duplicate Records: \",((len(df))-(len(dataset.drop_duplicates(subset=['asin', 'reviewerID'])))))\n",
    "\n",
    "data_report(dataset)"
   ]
  },
  {
   "cell_type": "markdown",
   "metadata": {},
   "source": [
    "The above information obtained as a product of initial computation on the dataset, to get a deeper insight on it.<br/><br/>\n",
    "The following are the observations:<br/>\n",
    "<ul>\n",
    "<li>Total number of unique users in the dataset is: <b>21,137,702.</b> .</li>\n",
    "<li>Total number of unique items in the dataset is: <b>9,857,286</b> .</li>\n",
    "<li>Total Reviews/Ratings present in the dataset is: <b>83,091,702</b> .</li>\n",
    "<li>Number of duplicate reviews present in the dataset is: <b>255,200</b> .</li>\n",
    "<li>Density of the dataset is the number of cells of the item-user matrix that is populated with data.<br/>\n",
    "Density of the dataset here is: <b>~3.987884%</b> .</li>\n",
    "<li>The mean number of reviews given per user in the datset is: <b>3.93097%</b> .</li>\n",
    "<li>The mean number of reviews received per item in the dataset is: <b>8.42947</b> .</li>\n",
    "</ul>"
   ]
  },
  {
   "cell_type": "markdown",
   "metadata": {
    "ExecuteTime": {
     "end_time": "2017-05-27T18:45:19.104377Z",
     "start_time": "2017-05-27T18:37:14.661340Z"
    }
   },
   "source": [
    "## After removing duplicate data"
   ]
  },
  {
   "cell_type": "code",
   "execution_count": 4,
   "metadata": {
    "ExecuteTime": {
     "end_time": "2017-06-07T02:14:03.158782Z",
     "start_time": "2017-06-07T02:14:03.144259Z"
    },
    "collapsed": true
   },
   "outputs": [],
   "source": [
    "dataset= dataset.drop_duplicates(subset=['asin', 'reviewerID'], keep=\"last\")\n",
    "#data_report(dataset)"
   ]
  },
  {
   "cell_type": "markdown",
   "metadata": {},
   "source": [
    "# Plots"
   ]
  },
  {
   "cell_type": "markdown",
   "metadata": {},
   "source": [
    "## Loading libraries and pre-computing data\n",
    "\n",
    "After loading the dataset, we conduct various computations over it."
   ]
  },
  {
   "cell_type": "code",
   "execution_count": 5,
   "metadata": {
    "ExecuteTime": {
     "end_time": "2017-06-17T21:16:29.302248Z",
     "start_time": "2017-06-17T21:16:24.914001Z"
    },
    "collapsed": true
   },
   "outputs": [],
   "source": [
    "#Load the libraries required\n",
    "import matplotlib.pyplot as plt\n",
    "%matplotlib inline\n",
    "import seaborn as sns\n",
    "import numpy as np\n",
    "#import plotly as py\n",
    "import pandas as pd\n",
    "\n",
    "#Grouping func\n",
    "\n",
    "def groupingData(df=None,cols=['n_occurences','n_members']):\n",
    "    df_Temp=pd.DataFrame(columns=cols)\n",
    "    colName=list(df)\n",
    "    df_Temp[cols[0]]=df.groupby(colName[0]).groups.keys()\n",
    "    df_Temp[cols[1]]=df.groupby(colName[0]).size()\n",
    "    df_Temp=df_Temp.fillna(0)\n",
    "    return df_Temp\n",
    "\n",
    "#Pre-compute the data to be used in plotting\n",
    "def preCompute(df=None):\n",
    "    import pandas as pd\n",
    "    df_grpRevUser = dataset[['reviewerID']].groupby('reviewerID', sort=False).agg({'reviewerID': 'count'})\n",
    "    df_grpRevItem = dataset[['asin']].groupby('asin', sort=False).agg({'asin': 'count'})\n",
    "    df_grpRateUser= dataset.groupby(['reviewerID'],sort=False).agg({'overall': 'mean'})\n",
    "    df_grpRateItem= dataset.groupby(['asin'],sort=False).agg({'overall': 'mean'})\n",
    "    #storePickle(df_grpRevUser,name=\"grpRevUser.pkl\")\n",
    "    #storePickle(df_grpRevItem,name=\"grpRevItem.pkl\")\n",
    "    #storePickle(df_grpRateUser,name=\"grpRateUser.pkl\")\n",
    "    #storePickle(df_grpRateItem,name=\"grpRateItem.pkl\")\n",
    "    return df_grpRevUser,df_grpRevItem,df_grpRateUser,df_grpRateItem\n",
    "def loadPreCompute():\n",
    "    df_grpRevUser=loadPickle(name=\"grpRevUser.pkl\")\n",
    "    df_grpRevItem=loadPickle(name=\"grpRevItem.pkl\")\n",
    "    df_grpRateUser=loadPickle(name=\"grpRateUser.pkl\")\n",
    "    df_grpRateItem=loadPickle(name=\"grpRateItem.pkl\")\n",
    "    return df_grpRevUser,df_grpRevItem,df_grpRateUser,df_grpRateItem"
   ]
  },
  {
   "cell_type": "markdown",
   "metadata": {},
   "source": [
    "Here in the function \"preCompute\", we pass a dataframe (which would be our dataset), and we group the data by reviewers or items.<br/>\n",
    "On the groups generated we calculated the number of occurences of that element (which signifies number of reviews/ratings against them) and mean of the total ratings against them.<br/>\n",
    "These values corresponding to their groups are stored in their respective dataframes, which are then returend back to the callee and even stored on the disk in the form of pickle files, that can be utilized to load later instead of undergoing all these process again."
   ]
  },
  {
   "cell_type": "code",
   "execution_count": 6,
   "metadata": {
    "ExecuteTime": {
     "end_time": "2017-06-17T21:16:54.525180Z",
     "start_time": "2017-06-17T21:16:48.390923Z"
    }
   },
   "outputs": [
    {
     "name": "stdout",
     "output_type": "stream",
     "text": [
      "CPU times: user 5.56 s, sys: 524 ms, total: 6.08 s\n",
      "Wall time: 6.11 s\n"
     ]
    }
   ],
   "source": [
    "##Execute this to compute and store the groups as pickle\n",
    "    \n",
    "%time df_grpRevUser,df_grpRevItem,df_grpRateUser,df_grpRateItem= preCompute(dataset)"
   ]
  },
  {
   "cell_type": "code",
   "execution_count": 13,
   "metadata": {
    "ExecuteTime": {
     "end_time": "2017-06-12T14:22:08.308220Z",
     "start_time": "2017-06-12T14:21:40.497018Z"
    }
   },
   "outputs": [
    {
     "name": "stdout",
     "output_type": "stream",
     "text": [
      "CPU times: user 19.2 s, sys: 5 s, total: 24.2 s\n",
      "Wall time: 27.8 s\n"
     ]
    }
   ],
   "source": [
    "##Execute this if the pre-computed files are already stored and just need to load it from pickle files.\n",
    "\n",
    "%time df_grpRevUser,df_grpRevItem,df_grpRateUser,df_grpRateItem= loadPreCompute()"
   ]
  },
  {
   "cell_type": "markdown",
   "metadata": {},
   "source": [
    "## Plotting function\n",
    "We define a generic plotting function here, that can be utilized to visualize histogram plots."
   ]
  },
  {
   "cell_type": "code",
   "execution_count": 7,
   "metadata": {
    "ExecuteTime": {
     "end_time": "2017-06-17T21:16:59.156927Z",
     "start_time": "2017-06-17T21:16:59.108938Z"
    },
    "collapsed": true
   },
   "outputs": [],
   "source": [
    "import numpy as np\n",
    "import matplotlib as mlib\n",
    "import matplotlib.pyplot as plt\n",
    "\n",
    "\n",
    "\n",
    "def plotting(df=None,nbins=1,xmin=None,xmax=None, density=False, xlabel='', ylabel='', logscale=False, cumulative=None ):\n",
    "    if xmin==None:\n",
    "        xmin=df.min()\n",
    "    if xmax==None:\n",
    "        xmax=(df.max())+1\n",
    "        \n",
    "    if density:\n",
    "        normed = True\n",
    "        if cumulative==None:\n",
    "            cumulative=True\n",
    "    else:\n",
    "        normed = False\n",
    "        if cumulative==None:\n",
    "            cumulative=False\n",
    "    \n",
    "    bins=np.arange(xmin,xmax,nbins)\n",
    "    \n",
    "    df.hist(bins=bins, normed=normed, cumulative=cumulative, figsize=(10,7))\n",
    "    mean_val = df.mean().values[0]\n",
    "    plt.axvline(x=mean_val, color='r', label='Mean of {} = {}'.format(xlabel,mean_val), alpha=0.6)\n",
    "    plt.xlabel(xlabel)\n",
    "    plt.ylabel(ylabel)\n",
    "    if logscale:\n",
    "        plt.yscale('log')\n",
    "    #y_formatter = plt.ticker.ScalarFormatter(useOffset=False)\n",
    "    #plt.yaxis.set_major_formatter(y_formatter)\n",
    "    plt.legend()\n",
    "    return\n"
   ]
  },
  {
   "cell_type": "markdown",
   "metadata": {},
   "source": [
    "## Creating Plots"
   ]
  },
  {
   "cell_type": "code",
   "execution_count": 9,
   "metadata": {
    "ExecuteTime": {
     "end_time": "2017-06-17T21:17:13.457291Z",
     "start_time": "2017-06-17T21:17:10.421274Z"
    }
   },
   "outputs": [
    {
     "data": {
      "image/png": "[encoded data removed]",
      "text/plain": [
       "<matplotlib.figure.Figure at 0x7f1757b64f28>"
      ]
     },
     "metadata": {},
     "output_type": "display_data"
    }
   ],
   "source": [
    "#Call the plotting function\n",
    "plotting(df_grpRevUser, xmin=1, xmax=100, density=False, logscale=True, xlabel=\"Reviews\", ylabel=\"Users\")"
   ]
  },
  {
   "cell_type": "markdown",
   "metadata": {},
   "source": [
    "In the histogram above, we can clearly see the following: <br/>\n",
    "<ul>\n",
    "<li>Maximum number of users just reviewed only 1 item. The number of users being above 7,000,000.</li>\n",
    "<li>The mean number of reviews per user in the dataset is 3.93097</li>\n",
    "</ul>"
   ]
  },
  {
   "cell_type": "code",
   "execution_count": 10,
   "metadata": {
    "ExecuteTime": {
     "end_time": "2017-06-17T21:17:23.695491Z",
     "start_time": "2017-06-17T21:17:22.942406Z"
    }
   },
   "outputs": [
    {
     "data": {
      "image/png": "[encoded data removed]",
      "text/plain": [
       "<matplotlib.figure.Figure at 0x7f1738cfd128>"
      ]
     },
     "metadata": {},
     "output_type": "display_data"
    }
   ],
   "source": [
    "#Call the plotting function\n",
    "\n",
    "plotting(df_grpRevUser, xmin=1, xmax=50, density=True, logscale=False, xlabel=\"Reviews\", ylabel=\"Users\")"
   ]
  },
  {
   "cell_type": "markdown",
   "metadata": {},
   "source": [
    "Here in the graph above we can infer the following:<br/>\n",
    "<ul>\n",
    "<li>100% of the users has been reached when the number of Reviews is about 48.</li>\n",
    "<li>A threshold of upto 48 reviews per user can be set as minimum threshold to consider all the users present in the dataset. Helping us to extract a sample of the entire dataset, saving time and memory complexities.</li>\n",
    "</ul>"
   ]
  },
  {
   "cell_type": "code",
   "execution_count": 11,
   "metadata": {
    "ExecuteTime": {
     "end_time": "2017-06-17T21:17:27.757839Z",
     "start_time": "2017-06-17T21:17:25.947640Z"
    }
   },
   "outputs": [
    {
     "data": {
      "image/png": "[encoded data removed]",
      "text/plain": [
       "<matplotlib.figure.Figure at 0x7f1738cfdeb8>"
      ]
     },
     "metadata": {},
     "output_type": "display_data"
    }
   ],
   "source": [
    "#Call the plotting function\n",
    "\n",
    "plotting(df_grpRevUser, xmin=1, xmax=100, density=True, logscale=True, xlabel=\"Reviews\", ylabel=\"Users\", cumulative=-1)"
   ]
  },
  {
   "cell_type": "markdown",
   "metadata": {},
   "source": [
    "<ul>\n",
    "<li>Here through the graph above we can infer that as we consider setting a threshold on minimum number of reviews per user, as this number increases we see that number of users satisfying this threshold declines gradually.</li>\n",
    "<li>At minimum reviews of 50, we lose more than 98% of user profile.</li>"
   ]
  },
  {
   "cell_type": "code",
   "execution_count": 12,
   "metadata": {
    "ExecuteTime": {
     "end_time": "2017-06-17T21:17:32.127548Z",
     "start_time": "2017-06-17T21:17:31.183288Z"
    }
   },
   "outputs": [
    {
     "data": {
      "image/png": "[encoded data removed]",
      "text/plain": [
       "<matplotlib.figure.Figure at 0x7f17385c1e48>"
      ]
     },
     "metadata": {},
     "output_type": "display_data"
    }
   ],
   "source": [
    "#Call the plotting function\n",
    "\n",
    "plotting(df_grpRevItem, xmin=1, xmax=40, density=False, logscale=True, xlabel=\"Reviews\", ylabel=\"Items\")"
   ]
  },
  {
   "cell_type": "markdown",
   "metadata": {},
   "source": [
    "In the histogram above, we can clearly see the following: <br/>\n",
    "<ul>\n",
    "<li>Maximum number of items received just 1 review. The number of such items being above 6,700,000.</li>\n",
    "<li>The mean number of reviews per item in the dataset is 8.42947</li>\n",
    "</ul>"
   ]
  },
  {
   "cell_type": "code",
   "execution_count": 13,
   "metadata": {
    "ExecuteTime": {
     "end_time": "2017-06-17T21:17:36.262229Z",
     "start_time": "2017-06-17T21:17:35.633008Z"
    }
   },
   "outputs": [
    {
     "data": {
      "image/png": "[encoded data removed]",
      "text/plain": [
       "<matplotlib.figure.Figure at 0x7f1738cf9ef0>"
      ]
     },
     "metadata": {},
     "output_type": "display_data"
    }
   ],
   "source": [
    "#Call the plotting function\n",
    "\n",
    "plotting(df_grpRevItem, xmin=1, xmax=40, density=True, logscale=False, xlabel=\"Reviews\", ylabel=\"Items\")"
   ]
  },
  {
   "cell_type": "markdown",
   "metadata": {},
   "source": [
    "Here in the graph above we can infer the following:<br/>\n",
    "<ul>\n",
    "<li>100% of the items has been reached when the number of Reviews is about 38.</li>\n",
    "<li>A threshold of upto 38 reviews per item can be set as minimum threshold to consider all the users present in the dataset. Helping us to extract a sample of the entire dataset, saving time and memory complexities.</li>\n",
    "</ul>"
   ]
  },
  {
   "cell_type": "code",
   "execution_count": 14,
   "metadata": {
    "ExecuteTime": {
     "end_time": "2017-06-17T21:17:39.151632Z",
     "start_time": "2017-06-17T21:17:38.560409Z"
    }
   },
   "outputs": [
    {
     "data": {
      "image/png": "[encoded data removed]",
      "text/plain": [
       "<matplotlib.figure.Figure at 0x7f173853c7f0>"
      ]
     },
     "metadata": {},
     "output_type": "display_data"
    }
   ],
   "source": [
    "# Call the plotting function\n",
    "plotting(df_grpRevItem, xmin=1, xmax=40, density=True, logscale=False, xlabel=\"Reviews\", ylabel=\"Items\", cumulative=-1)"
   ]
  },
  {
   "cell_type": "markdown",
   "metadata": {},
   "source": [
    "<ul>\n",
    "<li>Here through the graph above we can infer that as we consider setting a threshold on minimum number of reviews per item, as this number increases we see that number of items satisfying this threshold declines gradually.</li>\n",
    "<li>At minimum reviews of 38-39, we lose about 98-99% of item profiles.</li>"
   ]
  },
  {
   "cell_type": "code",
   "execution_count": 15,
   "metadata": {
    "ExecuteTime": {
     "end_time": "2017-06-17T21:17:42.826219Z",
     "start_time": "2017-06-17T21:17:41.634339Z"
    }
   },
   "outputs": [
    {
     "data": {
      "image/png": "[encoded data removed]",
      "text/plain": [
       "<matplotlib.figure.Figure at 0x7f1738fe0a58>"
      ]
     },
     "metadata": {},
     "output_type": "display_data"
    }
   ],
   "source": [
    "#Call the plotting function\n",
    "\n",
    "plotting(df_grpRateUser, density=False, logscale=True, xlabel=\"Ratings\", ylabel=\"Users\")"
   ]
  },
  {
   "cell_type": "markdown",
   "metadata": {},
   "source": [
    "Here fromt he histogram above, we can infer the following:<br/>\n",
    "<ul>\n",
    "<li>A paramount of users gave items a maximum rating, i.e. 4-5 \"stars\".</li>\n",
    "<li>If we compute the mean of the total ratings given by a user then the mean computed is 4.0735.</li>\n",
    "<li>The mean being inclined to the positive side infers that most of the items were good, and these users liked it.</li>\n",
    "\n",
    "Average rating per user\n",
    "\n",
    "$$\n",
    "<R_{U}> = \\frac{1}{|R_{U}|}\\sum_{R_{i} \\in U} Rating(R_{i}) \n",
    "$$"
   ]
  },
  {
   "cell_type": "code",
   "execution_count": 16,
   "metadata": {
    "ExecuteTime": {
     "end_time": "2017-06-17T21:17:49.917032Z",
     "start_time": "2017-06-17T21:17:49.169467Z"
    }
   },
   "outputs": [
    {
     "data": {
      "image/png": "[encoded data removed]",
      "text/plain": [
       "<matplotlib.figure.Figure at 0x7f173ad803c8>"
      ]
     },
     "metadata": {},
     "output_type": "display_data"
    }
   ],
   "source": [
    "#Call the plotting function\n",
    "\n",
    "plotting(df_grpRateUser, density=True, logscale=False, xlabel=\"Ratings\", ylabel=\"Users\")"
   ]
  },
  {
   "cell_type": "markdown",
   "metadata": {},
   "source": [
    "Here in the graph above we can infer the following:<br/>\n",
    "<ul>\n",
    "<li>100% of the users has been reached when we consider mean rating of 4.0 .</li>\n",
    "<li>A threshold of upto 38 reviews per item can be set as minimum threshold to consider all the users present in the dataset. Helping us to extract a sample of the entire dataset without any leftover user, which saves us from time and memory complexities.</li>\n",
    "</ul>"
   ]
  },
  {
   "cell_type": "code",
   "execution_count": 17,
   "metadata": {
    "ExecuteTime": {
     "end_time": "2017-06-17T21:17:52.858600Z",
     "start_time": "2017-06-17T21:17:52.108089Z"
    }
   },
   "outputs": [
    {
     "data": {
      "image/png": "[encoded data removed]",
      "text/plain": [
       "<matplotlib.figure.Figure at 0x7f1738d5a358>"
      ]
     },
     "metadata": {},
     "output_type": "display_data"
    }
   ],
   "source": [
    "#Call the plotting function\n",
    "\n",
    "plotting(df_grpRateUser, density=True, logscale=False, xlabel=\"Ratings\", ylabel=\"Users\",cumulative=-1)"
   ]
  },
  {
   "cell_type": "markdown",
   "metadata": {},
   "source": [
    "<ul>\n",
    "<li>Here through the graph above we can infer that as we consider setting a threshold on mean rating by a user; as we increase the threshold we see that number of items satisfying this threshold declines gradually.</li>\n",
    "<li>At minimum mean rating of 4.0, we lose about 70% of the user profiles.</li>"
   ]
  },
  {
   "cell_type": "code",
   "execution_count": 18,
   "metadata": {
    "ExecuteTime": {
     "end_time": "2017-06-17T21:17:56.670473Z",
     "start_time": "2017-06-17T21:17:56.143483Z"
    }
   },
   "outputs": [
    {
     "data": {
      "image/png": "[encoded data removed]",
      "text/plain": [
       "<matplotlib.figure.Figure at 0x7f1738998358>"
      ]
     },
     "metadata": {},
     "output_type": "display_data"
    }
   ],
   "source": [
    "#Call the plotting function\n",
    "\n",
    "plotting(df_grpRateItem, density=False, logscale=False, xlabel=\"Ratings\", ylabel=\"Item\")"
   ]
  },
  {
   "cell_type": "markdown",
   "metadata": {},
   "source": [
    "Here fromt he histogram above, we can infer the following:<br/>\n",
    "- jiij\n",
    "- ujuj\n",
    "\n",
    "<ul>\n",
    "<li>A paramount of items received a maximum rating, i.e. 4-5 \"stars\". Which validates our above inference of user rating majority of items as so.</li>\n",
    "<li>If we compute the mean of the total ratings received by an item, then the mean computed is 4.145228.</li>\n",
    "<li>The mean being inclined to the positive side infers that most of the items were reviewed positively, and the users really liked it.</li>"
   ]
  },
  {
   "cell_type": "code",
   "execution_count": 19,
   "metadata": {
    "ExecuteTime": {
     "end_time": "2017-06-17T21:18:00.184246Z",
     "start_time": "2017-06-17T21:17:59.677790Z"
    }
   },
   "outputs": [
    {
     "data": {
      "image/png": "[encoded data removed]",
      "text/plain": [
       "<matplotlib.figure.Figure at 0x7f1738509b38>"
      ]
     },
     "metadata": {},
     "output_type": "display_data"
    }
   ],
   "source": [
    "#Call the plotting function\n",
    "\n",
    "plotting(df_grpRateItem, density=True, logscale=False, xlabel=\"Ratings\", ylabel=\"Item\")"
   ]
  },
  {
   "cell_type": "markdown",
   "metadata": {},
   "source": [
    "Here in the graph above we can infer the following:<br/>\n",
    "<ul>\n",
    "<li>100% of the items has been reached when we consider mean rating of 4.0 .</li>\n",
    "<li>A threshold of upto a mean rating of 4.0 per item can be set as minimum threshold to consider all the items present in the dataset. Helping us to extract a sample of the entire dataset without any leftover item, which saves us from time and memory complexities.</li>\n",
    "</ul>"
   ]
  },
  {
   "cell_type": "code",
   "execution_count": 20,
   "metadata": {
    "ExecuteTime": {
     "end_time": "2017-06-17T21:18:02.944775Z",
     "start_time": "2017-06-17T21:18:02.420414Z"
    }
   },
   "outputs": [
    {
     "data": {
      "image/png": "[encoded data removed]",
      "text/plain": [
       "<matplotlib.figure.Figure at 0x7f1738a7fdd8>"
      ]
     },
     "metadata": {},
     "output_type": "display_data"
    }
   ],
   "source": [
    "#Call the plotting function\n",
    "\n",
    "plotting(df_grpRateItem, density=True, logscale=False, xlabel=\"Ratings\", ylabel=\"Item\",cumulative=-1)"
   ]
  },
  {
   "cell_type": "markdown",
   "metadata": {},
   "source": [
    "<ul>\n",
    "<li>Here through the graph above we consider setting a threshold on mean rating received by an item; as we increase the threshold we see that number of items satisfying this threshold declines gradually.</li>\n",
    "<li>At minimum mean rating of 4.0, we lose about 75% of the item profiles.</li>"
   ]
  },
  {
   "cell_type": "code",
   "execution_count": null,
   "metadata": {
    "ExecuteTime": {
     "end_time": "2017-06-08T12:13:50.369266Z",
     "start_time": "2017-06-08T12:13:28.437568Z"
    },
    "collapsed": true
   },
   "outputs": [],
   "source": [
    "import scipy.stats as stats\n",
    "import pylab as pl\n",
    "h = sorted(list(dataset['overall']))\n",
    "fit = stats.norm.pdf(h, np.mean(h), np.std(h))  #this is a fitting indeed\n",
    "pl.plot(h,fit,'-o')\n",
    "pl.hist(h,normed=True)      #use this to draw histogram of your data\n",
    "pl.show()"
   ]
  },
  {
   "cell_type": "code",
   "execution_count": 19,
   "metadata": {
    "ExecuteTime": {
     "end_time": "2017-06-09T00:29:03.696959Z",
     "start_time": "2017-06-09T00:28:49.136593Z"
    },
    "collapsed": true
   },
   "outputs": [],
   "source": [
    "df_Temp=groupingData(df_grpRateUser,cols=['reviews','n_users'])"
   ]
  },
  {
   "cell_type": "code",
   "execution_count": null,
   "metadata": {
    "ExecuteTime": {
     "start_time": "2017-06-12T13:40:36.767Z"
    },
    "collapsed": true
   },
   "outputs": [],
   "source": []
  },
  {
   "cell_type": "code",
   "execution_count": null,
   "metadata": {
    "ExecuteTime": {
     "end_time": "2017-06-17T21:57:44.997657Z",
     "start_time": "2017-06-17T21:57:44.985034Z"
    },
    "collapsed": true
   },
   "outputs": [],
   "source": []
  },
  {
   "cell_type": "markdown",
   "metadata": {},
   "source": [
    "# Data Sampling"
   ]
  },
  {
   "cell_type": "code",
   "execution_count": null,
   "metadata": {
    "ExecuteTime": {
     "end_time": "2017-06-12T18:10:21.711320Z",
     "start_time": "2017-06-12T17:52:28.498277Z"
    },
    "collapsed": true
   },
   "outputs": [],
   "source": []
  },
  {
   "cell_type": "code",
   "execution_count": 13,
   "metadata": {
    "ExecuteTime": {
     "end_time": "2017-06-20T01:16:23.808153Z",
     "start_time": "2017-06-20T01:16:23.588691Z"
    },
    "collapsed": true
   },
   "outputs": [],
   "source": [
    "def sample(df=None, rmin=None, rmax=None, colName=\"reviewerID\"):\n",
    "    \n",
    "    df_Temp=df.groupby(colName, sort=False).agg({colName: 'count'})\n",
    "    \n",
    "    if rmin==None:\n",
    "        rmin=df_Temp[colName].min()\n",
    "    if rmax==None:\n",
    "        rmax=df_Temp[colName].max()\n",
    "        \n",
    "    df_Temp=df_Temp.loc[(df_Temp[colName]>=rmin) & (df_Temp[colName]<=rmax)]\n",
    "    idList=list(df_Temp.index)\n",
    "    \n",
    "    df=df.loc[df[colName].isin(idList)]\n",
    "    return df"
   ]
  },
  {
   "cell_type": "code",
   "execution_count": 4,
   "metadata": {
    "ExecuteTime": {
     "end_time": "2017-06-19T14:40:38.366149Z",
     "start_time": "2017-06-19T14:40:23.963669Z"
    },
    "collapsed": true
   },
   "outputs": [],
   "source": [
    "dataset=sample(dataset,rmin=2,rmax=6, colName=\"reviewerID\")"
   ]
  },
  {
   "cell_type": "code",
   "execution_count": 14,
   "metadata": {
    "ExecuteTime": {
     "end_time": "2017-06-20T01:16:33.289574Z",
     "start_time": "2017-06-20T01:16:30.734760Z"
    },
    "collapsed": true
   },
   "outputs": [],
   "source": [
    "dataset=dataset.sample(frac=0.4)"
   ]
  },
  {
   "cell_type": "code",
   "execution_count": 15,
   "metadata": {
    "ExecuteTime": {
     "end_time": "2017-06-20T01:16:35.323277Z",
     "start_time": "2017-06-20T01:16:35.188232Z"
    }
   },
   "outputs": [
    {
     "data": {
      "text/plain": [
       "120924"
      ]
     },
     "execution_count": 15,
     "metadata": {},
     "output_type": "execute_result"
    }
   ],
   "source": [
    "len(dataset)"
   ]
  },
  {
   "cell_type": "code",
   "execution_count": 11,
   "metadata": {
    "ExecuteTime": {
     "end_time": "2017-06-12T18:18:10.251559Z",
     "start_time": "2017-06-12T18:18:09.292843Z"
    },
    "collapsed": true
   },
   "outputs": [],
   "source": [
    "storePickle(dataset,name=\"dataSample.pkl\")"
   ]
  },
  {
   "cell_type": "markdown",
   "metadata": {},
   "source": [
    "# Word Processing"
   ]
  },
  {
   "cell_type": "code",
   "execution_count": null,
   "metadata": {
    "ExecuteTime": {
     "end_time": "2017-06-19T18:05:29.732790Z",
     "start_time": "2017-06-19T18:05:29.595116Z"
    },
    "collapsed": true
   },
   "outputs": [],
   "source": [
    "dataset=loadPickle(name=\"dataSample.pkl\")"
   ]
  },
  {
   "cell_type": "code",
   "execution_count": 8,
   "metadata": {
    "ExecuteTime": {
     "end_time": "2017-06-19T14:40:55.610805Z",
     "start_time": "2017-06-19T14:40:55.362614Z"
    },
    "collapsed": true
   },
   "outputs": [],
   "source": [
    "users=dataset['reviewerID'].unique()"
   ]
  },
  {
   "cell_type": "code",
   "execution_count": 9,
   "metadata": {
    "ExecuteTime": {
     "end_time": "2017-06-19T14:40:57.131637Z",
     "start_time": "2017-06-19T14:40:57.118394Z"
    }
   },
   "outputs": [
    {
     "name": "stdout",
     "output_type": "stream",
     "text": [
      "Dataset size:  302309      Users:  241856\n"
     ]
    }
   ],
   "source": [
    "print(\"Dataset size: \",len(dataset),\"     Users: \",len(users))"
   ]
  },
  {
   "cell_type": "markdown",
   "metadata": {
    "ExecuteTime": {
     "end_time": "2017-06-11T17:59:21.267391Z",
     "start_time": "2017-06-11T17:59:21.250866Z"
    }
   },
   "source": [
    "## Preprocessing\n",
    "\n",
    "Below is the functions declared that would pre-process the text corpus.\n",
    "The following are the steps taken:\n",
    "\n",
    "Tokkenization: The raw text is coverted into tokens, i.e broken down into words.\n",
    "\n",
    "Lemmatisation: WordNetLemmatizer was used to conduct this step. It breaks down a word into its canonical form.\n",
    "\n",
    "Stop-word removal: Removing stopwords from the text. Stopwords are frequently occurring words that does not add any great meaning to the text. Eg: The, is, etc.\n",
    "\n",
    "Low frequency filtering: Removing terms that occurred less frequent over all the article.\n"
   ]
  },
  {
   "cell_type": "code",
   "execution_count": 14,
   "metadata": {
    "ExecuteTime": {
     "end_time": "2017-06-19T14:42:08.076357Z",
     "start_time": "2017-06-19T14:42:07.531236Z"
    },
    "collapsed": true
   },
   "outputs": [],
   "source": [
    "import re\n",
    "import nltk\n",
    "import pandas as pd\n",
    "import numpy as np\n",
    "from nltk.corpus import stopwords\n",
    "from sklearn.feature_extraction.text import TfidfVectorizer\n",
    "from sklearn.feature_extraction.text import CountVectorizer\n",
    "#from nltk.stem import WordNetLemmatizer\n",
    "#lemmatizer = WordNetLemmatizer()\n",
    "\n",
    "#Thisfunction is declared to preprocess the data, to be used later for TF-IDF\n",
    "def preprocess(text):\n",
    "    # tokenize and remove anything else than unicode character\n",
    "    words = re.findall(r'\\w+', text,flags = re.UNICODE)\n",
    "    lowerwords=[x.lower() for x in words if len(x) > 1] #converting words into lowercase\n",
    "    #Lemmatization of each word inside the corpus\n",
    "    #lemmatized_words = [lemmatizer.lemmatize(t) for t in lowerwords]\n",
    "    return lowerwords"
   ]
  },
  {
   "cell_type": "code",
   "execution_count": null,
   "metadata": {
    "ExecuteTime": {
     "start_time": "2017-06-14T13:17:02.748Z"
    },
    "collapsed": true
   },
   "outputs": [],
   "source": [
    "#Countvectorizer to count the occurence of terms in the documents\n",
    "count_vectorizer = CountVectorizer(stop_words=\"english\",min_df=0.02,max_df=0.8,tokenizer=preprocess,ngram_range=(1,3))\n",
    "data_count = count_vectorizer.fit_transform(dataset['reviewText'])"
   ]
  },
  {
   "cell_type": "code",
   "execution_count": 15,
   "metadata": {
    "ExecuteTime": {
     "end_time": "2017-06-12T18:49:35.148013Z",
     "start_time": "2017-06-12T18:49:35.057268Z"
    },
    "collapsed": true
   },
   "outputs": [],
   "source": [
    "import pickle\n",
    "filename = 'data_count.sav'\n",
    "pickle.dump(data_count, open(filename, 'wb'))"
   ]
  },
  {
   "cell_type": "code",
   "execution_count": 11,
   "metadata": {
    "ExecuteTime": {
     "end_time": "2017-06-14T12:18:19.923387Z",
     "start_time": "2017-06-14T12:18:19.550851Z"
    },
    "collapsed": true
   },
   "outputs": [],
   "source": [
    "import pickle\n",
    "filename = 'data_count.sav'\n",
    "data_count = pickle.load(open(filename, 'rb'))"
   ]
  },
  {
   "cell_type": "code",
   "execution_count": null,
   "metadata": {
    "ExecuteTime": {
     "end_time": "2017-06-14T12:18:24.282557Z",
     "start_time": "2017-06-14T12:18:23.683504Z"
    },
    "collapsed": true
   },
   "outputs": [],
   "source": [
    "term_matrix= pd.DataFrame(data_count.toarray(), columns=count_vectorizer.get_feature_names())\n",
    "print(data_count.shape)"
   ]
  },
  {
   "cell_type": "code",
   "execution_count": 9,
   "metadata": {
    "ExecuteTime": {
     "end_time": "2017-06-13T23:42:17.676434Z",
     "start_time": "2017-06-13T23:42:17.609984Z"
    }
   },
   "outputs": [
    {
     "data": {
      "text/html": [
       "<div>\n",
       "<table border=\"1\" class=\"dataframe\">\n",
       "  <thead>\n",
       "    <tr style=\"text-align: right;\">\n",
       "      <th></th>\n",
       "      <th>10</th>\n",
       "      <th>34</th>\n",
       "      <th>able</th>\n",
       "      <th>actually</th>\n",
       "      <th>amazing</th>\n",
       "      <th>amazon</th>\n",
       "      <th>arrived</th>\n",
       "      <th>author</th>\n",
       "      <th>away</th>\n",
       "      <th>awesome</th>\n",
       "      <th>...</th>\n",
       "      <th>won</th>\n",
       "      <th>wonderful</th>\n",
       "      <th>work</th>\n",
       "      <th>worked</th>\n",
       "      <th>works</th>\n",
       "      <th>world</th>\n",
       "      <th>worth</th>\n",
       "      <th>written</th>\n",
       "      <th>year</th>\n",
       "      <th>years</th>\n",
       "    </tr>\n",
       "  </thead>\n",
       "  <tbody>\n",
       "    <tr>\n",
       "      <th>0</th>\n",
       "      <td>0</td>\n",
       "      <td>0</td>\n",
       "      <td>0</td>\n",
       "      <td>0</td>\n",
       "      <td>0</td>\n",
       "      <td>0</td>\n",
       "      <td>0</td>\n",
       "      <td>0</td>\n",
       "      <td>0</td>\n",
       "      <td>0</td>\n",
       "      <td>...</td>\n",
       "      <td>0</td>\n",
       "      <td>0</td>\n",
       "      <td>0</td>\n",
       "      <td>0</td>\n",
       "      <td>0</td>\n",
       "      <td>0</td>\n",
       "      <td>0</td>\n",
       "      <td>0</td>\n",
       "      <td>0</td>\n",
       "      <td>0</td>\n",
       "    </tr>\n",
       "    <tr>\n",
       "      <th>1</th>\n",
       "      <td>0</td>\n",
       "      <td>0</td>\n",
       "      <td>0</td>\n",
       "      <td>0</td>\n",
       "      <td>0</td>\n",
       "      <td>0</td>\n",
       "      <td>0</td>\n",
       "      <td>0</td>\n",
       "      <td>0</td>\n",
       "      <td>0</td>\n",
       "      <td>...</td>\n",
       "      <td>0</td>\n",
       "      <td>0</td>\n",
       "      <td>0</td>\n",
       "      <td>1</td>\n",
       "      <td>0</td>\n",
       "      <td>0</td>\n",
       "      <td>0</td>\n",
       "      <td>0</td>\n",
       "      <td>0</td>\n",
       "      <td>0</td>\n",
       "    </tr>\n",
       "    <tr>\n",
       "      <th>2</th>\n",
       "      <td>0</td>\n",
       "      <td>0</td>\n",
       "      <td>0</td>\n",
       "      <td>0</td>\n",
       "      <td>0</td>\n",
       "      <td>0</td>\n",
       "      <td>0</td>\n",
       "      <td>0</td>\n",
       "      <td>0</td>\n",
       "      <td>0</td>\n",
       "      <td>...</td>\n",
       "      <td>0</td>\n",
       "      <td>0</td>\n",
       "      <td>0</td>\n",
       "      <td>0</td>\n",
       "      <td>0</td>\n",
       "      <td>0</td>\n",
       "      <td>0</td>\n",
       "      <td>0</td>\n",
       "      <td>0</td>\n",
       "      <td>0</td>\n",
       "    </tr>\n",
       "    <tr>\n",
       "      <th>3</th>\n",
       "      <td>0</td>\n",
       "      <td>0</td>\n",
       "      <td>0</td>\n",
       "      <td>0</td>\n",
       "      <td>0</td>\n",
       "      <td>0</td>\n",
       "      <td>0</td>\n",
       "      <td>0</td>\n",
       "      <td>0</td>\n",
       "      <td>0</td>\n",
       "      <td>...</td>\n",
       "      <td>0</td>\n",
       "      <td>0</td>\n",
       "      <td>0</td>\n",
       "      <td>0</td>\n",
       "      <td>0</td>\n",
       "      <td>0</td>\n",
       "      <td>0</td>\n",
       "      <td>0</td>\n",
       "      <td>2</td>\n",
       "      <td>0</td>\n",
       "    </tr>\n",
       "    <tr>\n",
       "      <th>4</th>\n",
       "      <td>0</td>\n",
       "      <td>0</td>\n",
       "      <td>0</td>\n",
       "      <td>0</td>\n",
       "      <td>0</td>\n",
       "      <td>0</td>\n",
       "      <td>0</td>\n",
       "      <td>0</td>\n",
       "      <td>0</td>\n",
       "      <td>0</td>\n",
       "      <td>...</td>\n",
       "      <td>0</td>\n",
       "      <td>0</td>\n",
       "      <td>0</td>\n",
       "      <td>0</td>\n",
       "      <td>0</td>\n",
       "      <td>0</td>\n",
       "      <td>0</td>\n",
       "      <td>0</td>\n",
       "      <td>0</td>\n",
       "      <td>0</td>\n",
       "    </tr>\n",
       "    <tr>\n",
       "      <th>5</th>\n",
       "      <td>0</td>\n",
       "      <td>0</td>\n",
       "      <td>0</td>\n",
       "      <td>0</td>\n",
       "      <td>0</td>\n",
       "      <td>0</td>\n",
       "      <td>0</td>\n",
       "      <td>0</td>\n",
       "      <td>1</td>\n",
       "      <td>0</td>\n",
       "      <td>...</td>\n",
       "      <td>0</td>\n",
       "      <td>0</td>\n",
       "      <td>0</td>\n",
       "      <td>0</td>\n",
       "      <td>0</td>\n",
       "      <td>1</td>\n",
       "      <td>0</td>\n",
       "      <td>0</td>\n",
       "      <td>0</td>\n",
       "      <td>1</td>\n",
       "    </tr>\n",
       "    <tr>\n",
       "      <th>6</th>\n",
       "      <td>0</td>\n",
       "      <td>0</td>\n",
       "      <td>0</td>\n",
       "      <td>0</td>\n",
       "      <td>0</td>\n",
       "      <td>0</td>\n",
       "      <td>0</td>\n",
       "      <td>0</td>\n",
       "      <td>0</td>\n",
       "      <td>0</td>\n",
       "      <td>...</td>\n",
       "      <td>0</td>\n",
       "      <td>0</td>\n",
       "      <td>0</td>\n",
       "      <td>0</td>\n",
       "      <td>0</td>\n",
       "      <td>0</td>\n",
       "      <td>0</td>\n",
       "      <td>0</td>\n",
       "      <td>0</td>\n",
       "      <td>0</td>\n",
       "    </tr>\n",
       "    <tr>\n",
       "      <th>7</th>\n",
       "      <td>0</td>\n",
       "      <td>0</td>\n",
       "      <td>0</td>\n",
       "      <td>0</td>\n",
       "      <td>0</td>\n",
       "      <td>0</td>\n",
       "      <td>0</td>\n",
       "      <td>0</td>\n",
       "      <td>0</td>\n",
       "      <td>0</td>\n",
       "      <td>...</td>\n",
       "      <td>0</td>\n",
       "      <td>0</td>\n",
       "      <td>0</td>\n",
       "      <td>0</td>\n",
       "      <td>0</td>\n",
       "      <td>0</td>\n",
       "      <td>0</td>\n",
       "      <td>0</td>\n",
       "      <td>0</td>\n",
       "      <td>0</td>\n",
       "    </tr>\n",
       "    <tr>\n",
       "      <th>8</th>\n",
       "      <td>0</td>\n",
       "      <td>0</td>\n",
       "      <td>0</td>\n",
       "      <td>0</td>\n",
       "      <td>0</td>\n",
       "      <td>0</td>\n",
       "      <td>0</td>\n",
       "      <td>0</td>\n",
       "      <td>0</td>\n",
       "      <td>0</td>\n",
       "      <td>...</td>\n",
       "      <td>0</td>\n",
       "      <td>0</td>\n",
       "      <td>0</td>\n",
       "      <td>0</td>\n",
       "      <td>0</td>\n",
       "      <td>0</td>\n",
       "      <td>0</td>\n",
       "      <td>0</td>\n",
       "      <td>0</td>\n",
       "      <td>0</td>\n",
       "    </tr>\n",
       "    <tr>\n",
       "      <th>9</th>\n",
       "      <td>0</td>\n",
       "      <td>0</td>\n",
       "      <td>0</td>\n",
       "      <td>0</td>\n",
       "      <td>0</td>\n",
       "      <td>0</td>\n",
       "      <td>0</td>\n",
       "      <td>0</td>\n",
       "      <td>0</td>\n",
       "      <td>0</td>\n",
       "      <td>...</td>\n",
       "      <td>0</td>\n",
       "      <td>0</td>\n",
       "      <td>0</td>\n",
       "      <td>0</td>\n",
       "      <td>1</td>\n",
       "      <td>0</td>\n",
       "      <td>0</td>\n",
       "      <td>0</td>\n",
       "      <td>0</td>\n",
       "      <td>0</td>\n",
       "    </tr>\n",
       "  </tbody>\n",
       "</table>\n",
       "<p>10 rows × 182 columns</p>\n",
       "</div>"
      ],
      "text/plain": [
       "   10  34  able  actually  amazing  amazon  arrived  author  away  awesome  \\\n",
       "0   0   0     0         0        0       0        0       0     0        0   \n",
       "1   0   0     0         0        0       0        0       0     0        0   \n",
       "2   0   0     0         0        0       0        0       0     0        0   \n",
       "3   0   0     0         0        0       0        0       0     0        0   \n",
       "4   0   0     0         0        0       0        0       0     0        0   \n",
       "5   0   0     0         0        0       0        0       0     1        0   \n",
       "6   0   0     0         0        0       0        0       0     0        0   \n",
       "7   0   0     0         0        0       0        0       0     0        0   \n",
       "8   0   0     0         0        0       0        0       0     0        0   \n",
       "9   0   0     0         0        0       0        0       0     0        0   \n",
       "\n",
       "   ...    won  wonderful  work  worked  works  world  worth  written  year  \\\n",
       "0  ...      0          0     0       0      0      0      0        0     0   \n",
       "1  ...      0          0     0       1      0      0      0        0     0   \n",
       "2  ...      0          0     0       0      0      0      0        0     0   \n",
       "3  ...      0          0     0       0      0      0      0        0     2   \n",
       "4  ...      0          0     0       0      0      0      0        0     0   \n",
       "5  ...      0          0     0       0      0      1      0        0     0   \n",
       "6  ...      0          0     0       0      0      0      0        0     0   \n",
       "7  ...      0          0     0       0      0      0      0        0     0   \n",
       "8  ...      0          0     0       0      0      0      0        0     0   \n",
       "9  ...      0          0     0       0      1      0      0        0     0   \n",
       "\n",
       "   years  \n",
       "0      0  \n",
       "1      0  \n",
       "2      0  \n",
       "3      0  \n",
       "4      0  \n",
       "5      1  \n",
       "6      0  \n",
       "7      0  \n",
       "8      0  \n",
       "9      0  \n",
       "\n",
       "[10 rows x 182 columns]"
      ]
     },
     "execution_count": 9,
     "metadata": {},
     "output_type": "execute_result"
    }
   ],
   "source": [
    "term_matrix.head(10)"
   ]
  },
  {
   "cell_type": "code",
   "execution_count": null,
   "metadata": {
    "ExecuteTime": {
     "end_time": "2017-06-12T18:25:55.480671Z",
     "start_time": "2017-06-12T18:25:55.396536Z"
    },
    "collapsed": true
   },
   "outputs": [],
   "source": []
  },
  {
   "cell_type": "markdown",
   "metadata": {},
   "source": [
    "In information retrieval, tf–idf, short for term frequency–inverse document frequency, is a numerical statistic that is intended to reflect how important a word is to a document in a collection or corpus. It is often used as a weighting factor in information retrieval, text mining, and user modeling. The tf-idf value increases proportionally to the number of times a word appears in the document, but is often offset by the frequency of the word in the corpus, which helps to adjust for the fact that some words appear more frequently in general.\n",
    "\n",
    "The max_df is the maximum number of documents a term should come in i.e. those terms are removed whihc have higher document frequency then the set threshold frequency.\n",
    "\n",
    "The min_df is set at 0.03 i.e. only those terms or phrases would be considered whihc comes in more than 3% of the documents.\n",
    "\n",
    "The ngram_range is set at 3 i.e. maximum of 3 terms which comes together and are important to a document would be considered."
   ]
  },
  {
   "cell_type": "code",
   "execution_count": 14,
   "metadata": {
    "ExecuteTime": {
     "end_time": "2017-06-18T12:23:36.172642Z",
     "start_time": "2017-06-18T12:18:23.064728Z"
    }
   },
   "outputs": [
    {
     "name": "stdout",
     "output_type": "stream",
     "text": [
      "CPU times: user 2min 30s, sys: 1min 3s, total: 3min 33s\n",
      "Wall time: 5min 13s\n"
     ]
    }
   ],
   "source": [
    "tfidf_vectorizer = TfidfVectorizer(max_df=0.8,min_df=0.03, stop_words='english',use_idf=True, tokenizer=preprocess, ngram_range=(1,3))\n",
    "\n",
    "%time tfidf_matrix = tfidf_vectorizer.fit_transform(dataset['reviewText'].values.astype('U'))\n",
    "\n",
    "#from sklearn.metrics.pairwise import cosine_similarity\n",
    "#dist = 1 - cosine_similarity(tfidf_matrix)\n",
    "\n",
    "#from sklearn.metrics.pairwise import paired_cosine_distances as pcd\n",
    "#dist = 1 - pcd(tfidf_matrix)"
   ]
  },
  {
   "cell_type": "code",
   "execution_count": 15,
   "metadata": {
    "ExecuteTime": {
     "end_time": "2017-06-18T16:05:20.949912Z",
     "start_time": "2017-06-18T16:05:20.240486Z"
    }
   },
   "outputs": [
    {
     "name": "stdout",
     "output_type": "stream",
     "text": [
      "(131860, 143)\n"
     ]
    }
   ],
   "source": [
    "#store the output from the above step in pandas to represent it as document term matrix.\n",
    "term_matrix_tfidf = pd.DataFrame(tfidf_matrix.toarray(), columns=tfidf_vectorizer.get_feature_names())\n",
    "#Prints the shape of resultant matrix\n",
    "print(tfidf_matrix.shape)"
   ]
  },
  {
   "cell_type": "code",
   "execution_count": 19,
   "metadata": {
    "ExecuteTime": {
     "end_time": "2017-06-18T22:31:59.396693Z",
     "start_time": "2017-06-18T22:31:59.270810Z"
    }
   },
   "outputs": [
    {
     "name": "stdout",
     "output_type": "stream",
     "text": [
      "  (0, 9)\t0.187540110429\n",
      "  (0, 13)\t0.171965142086\n",
      "  (0, 23)\t0.173325473566\n",
      "  (0, 29)\t0.155886814667\n",
      "  (0, 44)\t0.158553783712\n",
      "  (0, 52)\t0.164960919719\n",
      "  (0, 53)\t0.203421534271\n",
      "  (0, 55)\t0.0978968628501\n",
      "  (0, 56)\t0.187703789083\n",
      "  (0, 62)\t0.218445079285\n",
      "  (0, 67)\t0.104261245135\n",
      "  (0, 73)\t0.168739008796\n",
      "  (0, 76)\t0.115463214623\n",
      "  (0, 82)\t0.393774083949\n",
      "  (0, 88)\t0.15244411236\n",
      "  (0, 99)\t0.240851963834\n",
      "  (0, 105)\t0.183979094521\n",
      "  (0, 109)\t0.187417768952\n",
      "  (0, 111)\t0.134985246901\n",
      "  (0, 114)\t0.177187195933\n",
      "  (0, 116)\t0.350431488851\n",
      "  (0, 120)\t0.173006504011\n",
      "  (0, 122)\t0.162517431756\n",
      "  (0, 123)\t0.116876439616\n",
      "  (0, 131)\t0.188647048817\n",
      "  :\t:\n",
      "  (131855, 99)\t0.303029163315\n",
      "  (131855, 140)\t0.44930647139\n",
      "  (131856, 15)\t0.247799907251\n",
      "  (131856, 24)\t0.250332523963\n",
      "  (131856, 26)\t0.20030481212\n",
      "  (131856, 27)\t0.228126086531\n",
      "  (131856, 32)\t0.169636810407\n",
      "  (131856, 35)\t0.449704125853\n",
      "  (131856, 47)\t0.244013547128\n",
      "  (131856, 54)\t0.229821173719\n",
      "  (131856, 64)\t0.266365412372\n",
      "  (131856, 67)\t0.148589235412\n",
      "  (131856, 75)\t0.461224276792\n",
      "  (131856, 116)\t0.249710939695\n",
      "  (131856, 131)\t0.268852733441\n",
      "  (131857, 76)\t0.324605737526\n",
      "  (131857, 77)\t0.437670808908\n",
      "  (131857, 88)\t0.428571417189\n",
      "  (131857, 109)\t0.526894070244\n",
      "  (131857, 138)\t0.491715931515\n",
      "  (131858, 53)\t0.516238898584\n",
      "  (131858, 73)\t0.856444627275\n",
      "  (131859, 24)\t0.657166111319\n",
      "  (131859, 41)\t0.613944614653\n",
      "  (131859, 123)\t0.437269610507\n"
     ]
    }
   ],
   "source": [
    "#Prints the document term matrix with TF-IDF weights words\n",
    "print(tfidf_matrix)"
   ]
  },
  {
   "cell_type": "code",
   "execution_count": 17,
   "metadata": {
    "ExecuteTime": {
     "end_time": "2017-06-18T16:05:32.273714Z",
     "start_time": "2017-06-18T16:05:32.199345Z"
    }
   },
   "outputs": [
    {
     "name": "stdout",
     "output_type": "stream",
     "text": [
      "sparsity: 93.43%\n"
     ]
    }
   ],
   "source": [
    "print ('sparsity: %.2f%%' % (100-(100.0 * tfidf_matrix.nnz / (tfidf_matrix.shape[0] * tfidf_matrix.shape[1]))))"
   ]
  },
  {
   "cell_type": "markdown",
   "metadata": {},
   "source": [
    "The matrix generated from the TF-IDF vectorization is a sparse matrix i.e. most of the values in the matrix are null.\n",
    "The sparsity of the matrix generated above is at 93.50%."
   ]
  },
  {
   "cell_type": "markdown",
   "metadata": {},
   "source": [
    "## Identifying the most characteristic terms and phrases in the corpus\n",
    "\n",
    "The most characteristic terms in a corpus can be found out either using the count i.e. their frequency in the corpus or by their weight. The terms that appears most in a corpus tends to point towards the topic or context of the corpus."
   ]
  },
  {
   "cell_type": "markdown",
   "metadata": {},
   "source": [
    "--<b> Most frequently occuring word</b>"
   ]
  },
  {
   "cell_type": "code",
   "execution_count": 15,
   "metadata": {
    "ExecuteTime": {
     "end_time": "2017-06-13T23:48:02.243456Z",
     "start_time": "2017-06-13T23:48:01.755512Z"
    }
   },
   "outputs": [
    {
     "data": {
      "text/html": [
       "<div>\n",
       "<table border=\"1\" class=\"dataframe\">\n",
       "  <thead>\n",
       "    <tr style=\"text-align: right;\">\n",
       "      <th></th>\n",
       "      <th>count</th>\n",
       "      <th>word</th>\n",
       "    </tr>\n",
       "  </thead>\n",
       "  <tbody>\n",
       "    <tr>\n",
       "      <th>16</th>\n",
       "      <td>74305</td>\n",
       "      <td>book</td>\n",
       "    </tr>\n",
       "    <tr>\n",
       "      <th>67</th>\n",
       "      <td>64048</td>\n",
       "      <td>great</td>\n",
       "    </tr>\n",
       "    <tr>\n",
       "      <th>84</th>\n",
       "      <td>53354</td>\n",
       "      <td>like</td>\n",
       "    </tr>\n",
       "    <tr>\n",
       "      <th>65</th>\n",
       "      <td>48972</td>\n",
       "      <td>good</td>\n",
       "    </tr>\n",
       "    <tr>\n",
       "      <th>80</th>\n",
       "      <td>48372</td>\n",
       "      <td>just</td>\n",
       "    </tr>\n",
       "    <tr>\n",
       "      <th>93</th>\n",
       "      <td>38386</td>\n",
       "      <td>love</td>\n",
       "    </tr>\n",
       "    <tr>\n",
       "      <th>155</th>\n",
       "      <td>34709</td>\n",
       "      <td>time</td>\n",
       "    </tr>\n",
       "    <tr>\n",
       "      <th>128</th>\n",
       "      <td>34204</td>\n",
       "      <td>read</td>\n",
       "    </tr>\n",
       "    <tr>\n",
       "      <th>131</th>\n",
       "      <td>32916</td>\n",
       "      <td>really</td>\n",
       "    </tr>\n",
       "    <tr>\n",
       "      <th>160</th>\n",
       "      <td>30137</td>\n",
       "      <td>use</td>\n",
       "    </tr>\n",
       "    <tr>\n",
       "      <th>122</th>\n",
       "      <td>27675</td>\n",
       "      <td>product</td>\n",
       "    </tr>\n",
       "    <tr>\n",
       "      <th>41</th>\n",
       "      <td>23098</td>\n",
       "      <td>don</td>\n",
       "    </tr>\n",
       "    <tr>\n",
       "      <th>86</th>\n",
       "      <td>22451</td>\n",
       "      <td>little</td>\n",
       "    </tr>\n",
       "    <tr>\n",
       "      <th>43</th>\n",
       "      <td>20781</td>\n",
       "      <td>easy</td>\n",
       "    </tr>\n",
       "    <tr>\n",
       "      <th>133</th>\n",
       "      <td>20723</td>\n",
       "      <td>recommend</td>\n",
       "    </tr>\n",
       "    <tr>\n",
       "      <th>18</th>\n",
       "      <td>20550</td>\n",
       "      <td>bought</td>\n",
       "    </tr>\n",
       "    <tr>\n",
       "      <th>174</th>\n",
       "      <td>19945</td>\n",
       "      <td>work</td>\n",
       "    </tr>\n",
       "    <tr>\n",
       "      <th>168</th>\n",
       "      <td>18527</td>\n",
       "      <td>way</td>\n",
       "    </tr>\n",
       "    <tr>\n",
       "      <th>149</th>\n",
       "      <td>18339</td>\n",
       "      <td>story</td>\n",
       "    </tr>\n",
       "    <tr>\n",
       "      <th>20</th>\n",
       "      <td>18138</td>\n",
       "      <td>buy</td>\n",
       "    </tr>\n",
       "  </tbody>\n",
       "</table>\n",
       "</div>"
      ],
      "text/plain": [
       "     count       word\n",
       "16   74305       book\n",
       "67   64048      great\n",
       "84   53354       like\n",
       "65   48972       good\n",
       "80   48372       just\n",
       "93   38386       love\n",
       "155  34709       time\n",
       "128  34204       read\n",
       "131  32916     really\n",
       "160  30137        use\n",
       "122  27675    product\n",
       "41   23098        don\n",
       "86   22451     little\n",
       "43   20781       easy\n",
       "133  20723  recommend\n",
       "18   20550     bought\n",
       "174  19945       work\n",
       "168  18527        way\n",
       "149  18339      story\n",
       "20   18138        buy"
      ]
     },
     "execution_count": 15,
     "metadata": {},
     "output_type": "execute_result"
    }
   ],
   "source": [
    "count = np.asarray(data_count.sum(axis=0)).ravel().tolist()\n",
    "count_df = pd.DataFrame({'word': count_vectorizer.get_feature_names(), 'count': count})\n",
    "count_df.sort_values(by='count', ascending=False).head(20)"
   ]
  },
  {
   "cell_type": "markdown",
   "metadata": {
    "ExecuteTime": {
     "end_time": "2017-06-11T18:05:32.899909Z",
     "start_time": "2017-06-11T18:05:32.892971Z"
    }
   },
   "source": [
    "-- <b>Most charasteristic words based on their tf-idf weight.</b>"
   ]
  },
  {
   "cell_type": "code",
   "execution_count": 20,
   "metadata": {
    "ExecuteTime": {
     "end_time": "2017-06-18T22:32:08.501307Z",
     "start_time": "2017-06-18T22:32:08.233789Z"
    }
   },
   "outputs": [
    {
     "data": {
      "text/html": [
       "<div>\n",
       "<table border=\"1\" class=\"dataframe\">\n",
       "  <thead>\n",
       "    <tr style=\"text-align: right;\">\n",
       "      <th></th>\n",
       "      <th>weight</th>\n",
       "      <th>word</th>\n",
       "    </tr>\n",
       "  </thead>\n",
       "  <tbody>\n",
       "    <tr>\n",
       "      <th>82</th>\n",
       "      <td>0.114507</td>\n",
       "      <td>movie</td>\n",
       "    </tr>\n",
       "    <tr>\n",
       "      <th>55</th>\n",
       "      <td>0.067264</td>\n",
       "      <td>great</td>\n",
       "    </tr>\n",
       "    <tr>\n",
       "      <th>53</th>\n",
       "      <td>0.060280</td>\n",
       "      <td>good</td>\n",
       "    </tr>\n",
       "    <tr>\n",
       "      <th>67</th>\n",
       "      <td>0.051900</td>\n",
       "      <td>like</td>\n",
       "    </tr>\n",
       "    <tr>\n",
       "      <th>76</th>\n",
       "      <td>0.050022</td>\n",
       "      <td>love</td>\n",
       "    </tr>\n",
       "    <tr>\n",
       "      <th>48</th>\n",
       "      <td>0.049349</td>\n",
       "      <td>film</td>\n",
       "    </tr>\n",
       "    <tr>\n",
       "      <th>32</th>\n",
       "      <td>0.048985</td>\n",
       "      <td>dvd</td>\n",
       "    </tr>\n",
       "    <tr>\n",
       "      <th>62</th>\n",
       "      <td>0.045280</td>\n",
       "      <td>just</td>\n",
       "    </tr>\n",
       "    <tr>\n",
       "      <th>132</th>\n",
       "      <td>0.043797</td>\n",
       "      <td>watch</td>\n",
       "    </tr>\n",
       "    <tr>\n",
       "      <th>117</th>\n",
       "      <td>0.042543</td>\n",
       "      <td>story</td>\n",
       "    </tr>\n",
       "    <tr>\n",
       "      <th>123</th>\n",
       "      <td>0.040081</td>\n",
       "      <td>time</td>\n",
       "    </tr>\n",
       "    <tr>\n",
       "      <th>99</th>\n",
       "      <td>0.038123</td>\n",
       "      <td>really</td>\n",
       "    </tr>\n",
       "    <tr>\n",
       "      <th>111</th>\n",
       "      <td>0.037532</td>\n",
       "      <td>series</td>\n",
       "    </tr>\n",
       "    <tr>\n",
       "      <th>83</th>\n",
       "      <td>0.037298</td>\n",
       "      <td>movies</td>\n",
       "    </tr>\n",
       "    <tr>\n",
       "      <th>10</th>\n",
       "      <td>0.029619</td>\n",
       "      <td>best</td>\n",
       "    </tr>\n",
       "    <tr>\n",
       "      <th>134</th>\n",
       "      <td>0.027213</td>\n",
       "      <td>watching</td>\n",
       "    </tr>\n",
       "    <tr>\n",
       "      <th>107</th>\n",
       "      <td>0.026849</td>\n",
       "      <td>season</td>\n",
       "    </tr>\n",
       "    <tr>\n",
       "      <th>0</th>\n",
       "      <td>0.026648</td>\n",
       "      <td>34</td>\n",
       "    </tr>\n",
       "    <tr>\n",
       "      <th>31</th>\n",
       "      <td>0.025595</td>\n",
       "      <td>don</td>\n",
       "    </tr>\n",
       "    <tr>\n",
       "      <th>11</th>\n",
       "      <td>0.024071</td>\n",
       "      <td>better</td>\n",
       "    </tr>\n",
       "  </tbody>\n",
       "</table>\n",
       "</div>"
      ],
      "text/plain": [
       "       weight      word\n",
       "82   0.114507     movie\n",
       "55   0.067264     great\n",
       "53   0.060280      good\n",
       "67   0.051900      like\n",
       "76   0.050022      love\n",
       "48   0.049349      film\n",
       "32   0.048985       dvd\n",
       "62   0.045280      just\n",
       "132  0.043797     watch\n",
       "117  0.042543     story\n",
       "123  0.040081      time\n",
       "99   0.038123    really\n",
       "111  0.037532    series\n",
       "83   0.037298    movies\n",
       "10   0.029619      best\n",
       "134  0.027213  watching\n",
       "107  0.026849    season\n",
       "0    0.026648        34\n",
       "31   0.025595       don\n",
       "11   0.024071    better"
      ]
     },
     "execution_count": 20,
     "metadata": {},
     "output_type": "execute_result"
    }
   ],
   "source": [
    "weight = np.asarray(tfidf_matrix.mean(axis=0)).ravel().tolist()\n",
    "weight_df = pd.DataFrame({'word': tfidf_vectorizer.get_feature_names(), 'weight': weight})\n",
    "weight_df.sort_values(by='weight', ascending=False).head(20)"
   ]
  },
  {
   "cell_type": "markdown",
   "metadata": {
    "collapsed": true
   },
   "source": [
    "## Storing processed text"
   ]
  },
  {
   "cell_type": "code",
   "execution_count": 12,
   "metadata": {
    "ExecuteTime": {
     "end_time": "2017-06-19T14:41:56.529369Z",
     "start_time": "2017-06-19T14:41:56.515323Z"
    },
    "collapsed": true
   },
   "outputs": [],
   "source": [
    "def dataProcess(df=None):\n",
    "    df['reviewTextProcessed']=\"\"\n",
    "    for index, row in df.iterrows():\n",
    "        row=preprocess(row['reviewText'])\n",
    "        df.set_value(index,'reviewTextProcessed',row)\n",
    "    return df"
   ]
  },
  {
   "cell_type": "code",
   "execution_count": 15,
   "metadata": {
    "ExecuteTime": {
     "end_time": "2017-06-19T14:43:42.085802Z",
     "start_time": "2017-06-19T14:42:12.041289Z"
    },
    "collapsed": true
   },
   "outputs": [],
   "source": [
    "dataset=dataProcess(dataset)"
   ]
  },
  {
   "cell_type": "code",
   "execution_count": 16,
   "metadata": {
    "ExecuteTime": {
     "end_time": "2017-06-19T14:44:25.300395Z",
     "start_time": "2017-06-19T14:44:25.237925Z"
    }
   },
   "outputs": [
    {
     "data": {
      "text/html": [
       "<div>\n",
       "<style>\n",
       "    .dataframe thead tr:only-child th {\n",
       "        text-align: right;\n",
       "    }\n",
       "\n",
       "    .dataframe thead th {\n",
       "        text-align: left;\n",
       "    }\n",
       "\n",
       "    .dataframe tbody tr th {\n",
       "        vertical-align: top;\n",
       "    }\n",
       "</style>\n",
       "<table border=\"1\" class=\"dataframe\">\n",
       "  <thead>\n",
       "    <tr style=\"text-align: right;\">\n",
       "      <th></th>\n",
       "      <th>asin</th>\n",
       "      <th>reviewText</th>\n",
       "      <th>reviewerID</th>\n",
       "      <th>overall</th>\n",
       "      <th>reviewTextProcessed</th>\n",
       "    </tr>\n",
       "  </thead>\n",
       "  <tbody>\n",
       "    <tr>\n",
       "      <th>23413899</th>\n",
       "      <td>B005S9ELM6</td>\n",
       "      <td>Finally a movie with substance, inspired by tr...</td>\n",
       "      <td>A21SKPT0EKDL91</td>\n",
       "      <td>5.0</td>\n",
       "      <td>[finally, movie, with, substance, inspired, by...</td>\n",
       "    </tr>\n",
       "    <tr>\n",
       "      <th>23751757</th>\n",
       "      <td>B00003CX8I</td>\n",
       "      <td>This movie really did justice to the X-Men Story.</td>\n",
       "      <td>A22CA02SQ6TKOT</td>\n",
       "      <td>4.0</td>\n",
       "      <td>[this, movie, really, did, justice, to, the, m...</td>\n",
       "    </tr>\n",
       "    <tr>\n",
       "      <th>35988261</th>\n",
       "      <td>B005335K9A</td>\n",
       "      <td>This movie has a very necessary message for ou...</td>\n",
       "      <td>A2M7C1M77RPZ46</td>\n",
       "      <td>5.0</td>\n",
       "      <td>[this, movie, has, very, necessary, message, f...</td>\n",
       "    </tr>\n",
       "    <tr>\n",
       "      <th>30633911</th>\n",
       "      <td>0800137884</td>\n",
       "      <td>In this horribly unessesary gory,graphic and v...</td>\n",
       "      <td>A2DHXZKAHH5YRA</td>\n",
       "      <td>1.0</td>\n",
       "      <td>[in, this, horribly, unessesary, gory, graphic...</td>\n",
       "    </tr>\n",
       "    <tr>\n",
       "      <th>58032046</th>\n",
       "      <td>B003ESP636</td>\n",
       "      <td>I saw this on BET so it was edited &amp; I had to ...</td>\n",
       "      <td>A3LK30QCUB3WYR</td>\n",
       "      <td>4.0</td>\n",
       "      <td>[saw, this, on, bet, so, it, was, edited, had,...</td>\n",
       "    </tr>\n",
       "    <tr>\n",
       "      <th>43501515</th>\n",
       "      <td>B00G4Q3KOC</td>\n",
       "      <td>From the opening scene to the bitter sweet end...</td>\n",
       "      <td>A2YDNRDSHM5JXV</td>\n",
       "      <td>5.0</td>\n",
       "      <td>[from, the, opening, scene, to, the, bitter, s...</td>\n",
       "    </tr>\n",
       "    <tr>\n",
       "      <th>62626867</th>\n",
       "      <td>B0018CWEXK</td>\n",
       "      <td>Gotta love Grey's!  Keeping up with the lives ...</td>\n",
       "      <td>A3SWVP2H6Z7J9X</td>\n",
       "      <td>5.0</td>\n",
       "      <td>[gotta, love, grey, keeping, up, with, the, li...</td>\n",
       "    </tr>\n",
       "    <tr>\n",
       "      <th>67159641</th>\n",
       "      <td>0788822713</td>\n",
       "      <td>This is my children's favourite Winnie Pooh st...</td>\n",
       "      <td>A7PG93Z7APTR4</td>\n",
       "      <td>4.0</td>\n",
       "      <td>[this, is, my, children, favourite, winnie, po...</td>\n",
       "    </tr>\n",
       "    <tr>\n",
       "      <th>43140149</th>\n",
       "      <td>B001OQCV6A</td>\n",
       "      <td>This movie started very slow but just as I was...</td>\n",
       "      <td>A2XSATF23LD2WB</td>\n",
       "      <td>4.0</td>\n",
       "      <td>[this, movie, started, very, slow, but, just, ...</td>\n",
       "    </tr>\n",
       "    <tr>\n",
       "      <th>31316346</th>\n",
       "      <td>B0013Z5B0A</td>\n",
       "      <td>Laura Linney and Philip Seymour Hoffman are th...</td>\n",
       "      <td>A2EMAK4F6VXCLB</td>\n",
       "      <td>4.0</td>\n",
       "      <td>[laura, linney, and, philip, seymour, hoffman,...</td>\n",
       "    </tr>\n",
       "  </tbody>\n",
       "</table>\n",
       "</div>"
      ],
      "text/plain": [
       "                asin                                         reviewText  \\\n",
       "23413899  B005S9ELM6  Finally a movie with substance, inspired by tr...   \n",
       "23751757  B00003CX8I  This movie really did justice to the X-Men Story.   \n",
       "35988261  B005335K9A  This movie has a very necessary message for ou...   \n",
       "30633911  0800137884  In this horribly unessesary gory,graphic and v...   \n",
       "58032046  B003ESP636  I saw this on BET so it was edited & I had to ...   \n",
       "43501515  B00G4Q3KOC  From the opening scene to the bitter sweet end...   \n",
       "62626867  B0018CWEXK  Gotta love Grey's!  Keeping up with the lives ...   \n",
       "67159641  0788822713  This is my children's favourite Winnie Pooh st...   \n",
       "43140149  B001OQCV6A  This movie started very slow but just as I was...   \n",
       "31316346  B0013Z5B0A  Laura Linney and Philip Seymour Hoffman are th...   \n",
       "\n",
       "              reviewerID  overall  \\\n",
       "23413899  A21SKPT0EKDL91      5.0   \n",
       "23751757  A22CA02SQ6TKOT      4.0   \n",
       "35988261  A2M7C1M77RPZ46      5.0   \n",
       "30633911  A2DHXZKAHH5YRA      1.0   \n",
       "58032046  A3LK30QCUB3WYR      4.0   \n",
       "43501515  A2YDNRDSHM5JXV      5.0   \n",
       "62626867  A3SWVP2H6Z7J9X      5.0   \n",
       "67159641   A7PG93Z7APTR4      4.0   \n",
       "43140149  A2XSATF23LD2WB      4.0   \n",
       "31316346  A2EMAK4F6VXCLB      4.0   \n",
       "\n",
       "                                        reviewTextProcessed  \n",
       "23413899  [finally, movie, with, substance, inspired, by...  \n",
       "23751757  [this, movie, really, did, justice, to, the, m...  \n",
       "35988261  [this, movie, has, very, necessary, message, f...  \n",
       "30633911  [in, this, horribly, unessesary, gory, graphic...  \n",
       "58032046  [saw, this, on, bet, so, it, was, edited, had,...  \n",
       "43501515  [from, the, opening, scene, to, the, bitter, s...  \n",
       "62626867  [gotta, love, grey, keeping, up, with, the, li...  \n",
       "67159641  [this, is, my, children, favourite, winnie, po...  \n",
       "43140149  [this, movie, started, very, slow, but, just, ...  \n",
       "31316346  [laura, linney, and, philip, seymour, hoffman,...  "
      ]
     },
     "execution_count": 16,
     "metadata": {},
     "output_type": "execute_result"
    }
   ],
   "source": [
    "dataset.head(10)"
   ]
  },
  {
   "cell_type": "code",
   "execution_count": 17,
   "metadata": {
    "ExecuteTime": {
     "end_time": "2017-06-19T14:44:47.688160Z",
     "start_time": "2017-06-19T14:44:32.687115Z"
    },
    "collapsed": true
   },
   "outputs": [],
   "source": [
    "fname=\"processedDataset_2.6_0.2.pkl\"\n",
    "storePickle(dataset,name=fname)\n",
    "print(\"Stored!\")"
   ]
  },
  {
   "cell_type": "code",
   "execution_count": null,
   "metadata": {
    "collapsed": true
   },
   "outputs": [],
   "source": []
  },
  {
   "cell_type": "code",
   "execution_count": null,
   "metadata": {
    "collapsed": true
   },
   "outputs": [],
   "source": []
  },
  {
   "cell_type": "code",
   "execution_count": null,
   "metadata": {
    "collapsed": true
   },
   "outputs": [],
   "source": []
  },
  {
   "cell_type": "code",
   "execution_count": null,
   "metadata": {
    "collapsed": true
   },
   "outputs": [],
   "source": []
  },
  {
   "cell_type": "markdown",
   "metadata": {},
   "source": [
    "# Cosine Similarity"
   ]
  },
  {
   "cell_type": "code",
   "execution_count": 21,
   "metadata": {
    "ExecuteTime": {
     "end_time": "2017-06-14T14:27:33.138697Z",
     "start_time": "2017-06-14T14:27:33.116802Z"
    },
    "collapsed": true
   },
   "outputs": [],
   "source": [
    "from sklearn.metrics.pairwise import cosine_similarity\n",
    "import numpy as np\n",
    "import operator\n",
    "\n",
    "\n",
    "def calcCosine():\n",
    "    user_Cosine={}\n",
    "    for u_idx,u in enumerate(users):\n",
    "        u_sim=cosine_similarity(tfidf_matrix[u_idx],tfidf_matrix)\n",
    "        u_sim=u_sim[0]\n",
    "        inner_Dict=dict(enumerate(u_sim))\n",
    "        inner_Dict=sorted(inner_Dict.items(), key=operator.itemgetter(1), reverse=True)\n",
    "        inner_Dict=dict(inner_Dict)\n",
    "        user_Cosine[u_idx]=inner_Dict\n",
    "    return user_Cosine"
   ]
  },
  {
   "cell_type": "code",
   "execution_count": 22,
   "metadata": {
    "ExecuteTime": {
     "end_time": "2017-06-14T14:38:14.235025Z",
     "start_time": "2017-06-14T14:27:35.297886Z"
    }
   },
   "outputs": [
    {
     "ename": "KeyboardInterrupt",
     "evalue": "",
     "output_type": "error",
     "traceback": [
      "\u001b[0;31m---------------------------------------------------------------------------\u001b[0m",
      "\u001b[0;31mKeyboardInterrupt\u001b[0m                         Traceback (most recent call last)",
      "\u001b[0;32m<ipython-input-22-ad4da3989c57>\u001b[0m in \u001b[0;36m<module>\u001b[0;34m()\u001b[0m\n\u001b[0;32m----> 1\u001b[0;31m \u001b[0muser_Cosine\u001b[0m\u001b[0;34m=\u001b[0m\u001b[0mcalcCosine\u001b[0m\u001b[0;34m(\u001b[0m\u001b[0;34m)\u001b[0m\u001b[0;34m\u001b[0m\u001b[0m\n\u001b[0m",
      "\u001b[0;32m<ipython-input-21-e3e9e78d3754>\u001b[0m in \u001b[0;36mcalcCosine\u001b[0;34m()\u001b[0m\n\u001b[1;32m      9\u001b[0m         \u001b[0mu_sim\u001b[0m\u001b[0;34m=\u001b[0m\u001b[0mcosine_similarity\u001b[0m\u001b[0;34m(\u001b[0m\u001b[0mtfidf_matrix\u001b[0m\u001b[0;34m[\u001b[0m\u001b[0mu_idx\u001b[0m\u001b[0;34m]\u001b[0m\u001b[0;34m,\u001b[0m\u001b[0mtfidf_matrix\u001b[0m\u001b[0;34m)\u001b[0m\u001b[0;34m\u001b[0m\u001b[0m\n\u001b[1;32m     10\u001b[0m         \u001b[0mu_sim\u001b[0m\u001b[0;34m=\u001b[0m\u001b[0mu_sim\u001b[0m\u001b[0;34m[\u001b[0m\u001b[0;36m0\u001b[0m\u001b[0;34m]\u001b[0m\u001b[0;34m\u001b[0m\u001b[0m\n\u001b[0;32m---> 11\u001b[0;31m         \u001b[0minner_Dict\u001b[0m\u001b[0;34m=\u001b[0m\u001b[0mdict\u001b[0m\u001b[0;34m(\u001b[0m\u001b[0menumerate\u001b[0m\u001b[0;34m(\u001b[0m\u001b[0mu_sim\u001b[0m\u001b[0;34m)\u001b[0m\u001b[0;34m)\u001b[0m\u001b[0;34m\u001b[0m\u001b[0m\n\u001b[0m\u001b[1;32m     12\u001b[0m         \u001b[0minner_Dict\u001b[0m\u001b[0;34m=\u001b[0m\u001b[0msorted\u001b[0m\u001b[0;34m(\u001b[0m\u001b[0minner_Dict\u001b[0m\u001b[0;34m.\u001b[0m\u001b[0mitems\u001b[0m\u001b[0;34m(\u001b[0m\u001b[0;34m)\u001b[0m\u001b[0;34m,\u001b[0m \u001b[0mkey\u001b[0m\u001b[0;34m=\u001b[0m\u001b[0moperator\u001b[0m\u001b[0;34m.\u001b[0m\u001b[0mitemgetter\u001b[0m\u001b[0;34m(\u001b[0m\u001b[0;36m1\u001b[0m\u001b[0;34m)\u001b[0m\u001b[0;34m,\u001b[0m \u001b[0mreverse\u001b[0m\u001b[0;34m=\u001b[0m\u001b[0;32mTrue\u001b[0m\u001b[0;34m)\u001b[0m\u001b[0;34m\u001b[0m\u001b[0m\n\u001b[1;32m     13\u001b[0m         \u001b[0minner_Dict\u001b[0m\u001b[0;34m=\u001b[0m\u001b[0mdict\u001b[0m\u001b[0;34m(\u001b[0m\u001b[0minner_Dict\u001b[0m\u001b[0;34m)\u001b[0m\u001b[0;34m\u001b[0m\u001b[0m\n",
      "\u001b[0;31mKeyboardInterrupt\u001b[0m: "
     ]
    }
   ],
   "source": [
    "user_Cosine=calcCosine()"
   ]
  },
  {
   "cell_type": "code",
   "execution_count": 23,
   "metadata": {
    "ExecuteTime": {
     "end_time": "2017-06-18T22:45:13.491780Z",
     "start_time": "2017-06-18T22:45:13.287862Z"
    }
   },
   "outputs": [
    {
     "ename": "SyntaxError",
     "evalue": "invalid syntax (<ipython-input-23-a24e169d1a2a>, line 1)",
     "output_type": "error",
     "traceback": [
      "\u001b[0;36m  File \u001b[0;32m\"<ipython-input-23-a24e169d1a2a>\"\u001b[0;36m, line \u001b[0;32m1\u001b[0m\n\u001b[0;31m    python -c from Cython.Compiler.Version import version; print version\u001b[0m\n\u001b[0m                 ^\u001b[0m\n\u001b[0;31mSyntaxError\u001b[0m\u001b[0;31m:\u001b[0m invalid syntax\n"
     ]
    }
   ],
   "source": []
  },
  {
   "cell_type": "markdown",
   "metadata": {
    "ExecuteTime": {
     "end_time": "2017-05-27T18:32:15.436113Z",
     "start_time": "2017-05-27T18:27:30.144010Z"
    }
   },
   "source": [
    "# Placeholder"
   ]
  },
  {
   "cell_type": "markdown",
   "metadata": {
    "ExecuteTime": {
     "start_time": "2017-05-26T23:17:10.262Z"
    }
   },
   "source": [
    "## Storing in nested dictionary"
   ]
  },
  {
   "cell_type": "code",
   "execution_count": 4,
   "metadata": {
    "ExecuteTime": {
     "end_time": "2017-06-10T02:57:21.507304Z",
     "start_time": "2017-06-10T02:57:09.807695Z"
    },
    "collapsed": true
   },
   "outputs": [],
   "source": [
    "users = pd.read_pickle(\"users.pkl\")\n",
    "items = pd.read_pickle(\"items.pkl\")"
   ]
  },
  {
   "cell_type": "code",
   "execution_count": null,
   "metadata": {
    "ExecuteTime": {
     "end_time": "2017-05-29T22:39:36.304258Z",
     "start_time": "2017-05-29T22:38:56.200214Z"
    },
    "collapsed": true
   },
   "outputs": [],
   "source": [
    "import collections\n",
    "dataRatings = {}\n",
    "\n",
    "for item in items['Items']:\n",
    "    dataRatings[item] = {}\n",
    "    \"\"\"for user in users['Users']:\n",
    "        if(len(dataset[dataset['asin'] == item][dataset['reviewerID'] ==user].overall) > 0):\n",
    "            dataRatings[item][user]=dataset[dataset['asin'] == item][dataset['reviewerID'] ==user].overall\"\"\"\n"
   ]
  },
  {
   "cell_type": "code",
   "execution_count": null,
   "metadata": {
    "ExecuteTime": {
     "start_time": "2017-05-30T12:43:07.495Z"
    },
    "collapsed": true
   },
   "outputs": [],
   "source": [
    "#dataset\n",
    "df2 = pd.DataFrame(dataset[['asin','reviewerID','overall']], index=dataset['asin'])\n",
    "\n",
    "#dataset[dataset['asin'] == 'B003UYU16G'][dataset['reviewerID'] =='A00000262KYZUE4J55XGL'].overall"
   ]
  },
  {
   "cell_type": "code",
   "execution_count": null,
   "metadata": {
    "ExecuteTime": {
     "end_time": "2017-05-29T23:57:23.258991Z",
     "start_time": "2017-05-29T23:48:46.411414Z"
    },
    "collapsed": true
   },
   "outputs": [],
   "source": [
    "for index, row in dataset.iterrows():\n",
    "    dataRatings(row['asin']).append({row['reviewerID'],row['overall']})"
   ]
  },
  {
   "cell_type": "code",
   "execution_count": null,
   "metadata": {
    "ExecuteTime": {
     "end_time": "2017-05-30T23:43:17.993116Z",
     "start_time": "2017-05-30T23:43:17.938639Z"
    },
    "collapsed": true
   },
   "outputs": [],
   "source": [
    "dataset.setindex('asin')"
   ]
  },
  {
   "cell_type": "code",
   "execution_count": null,
   "metadata": {
    "ExecuteTime": {
     "end_time": "2017-05-31T00:18:52.095414Z",
     "start_time": "2017-05-31T00:06:19.138492Z"
    },
    "collapsed": true
   },
   "outputs": [],
   "source": [
    "dataRatings = {}\n",
    "dataRatings = dataset[['asin','reviewerID','overall']].set_index('asin', drop=False,verify_integrity=False).T.to_dict(orient=\"index\")"
   ]
  },
  {
   "cell_type": "code",
   "execution_count": null,
   "metadata": {
    "ExecuteTime": {
     "end_time": "2017-05-30T23:42:40.198903Z",
     "start_time": "2017-05-30T23:42:40.186134Z"
    },
    "collapsed": true
   },
   "outputs": [],
   "source": [
    "dataRatings.get(0).get('reviewerID')"
   ]
  },
  {
   "cell_type": "code",
   "execution_count": null,
   "metadata": {
    "ExecuteTime": {
     "end_time": "2017-05-31T01:14:47.963823Z",
     "start_time": "2017-05-31T01:14:46.591991Z"
    },
    "collapsed": true
   },
   "outputs": [],
   "source": [
    "dataRatings"
   ]
  },
  {
   "cell_type": "code",
   "execution_count": null,
   "metadata": {
    "ExecuteTime": {
     "end_time": "2017-06-01T13:43:06.112202Z",
     "start_time": "2017-06-01T13:43:06.039818Z"
    },
    "collapsed": true
   },
   "outputs": [],
   "source": [
    "df_RU"
   ]
  },
  {
   "cell_type": "code",
   "execution_count": null,
   "metadata": {
    "ExecuteTime": {
     "end_time": "2017-05-28T01:12:27.579807Z",
     "start_time": "2017-05-28T01:12:27.546886Z"
    },
    "collapsed": true
   },
   "outputs": [],
   "source": []
  },
  {
   "cell_type": "code",
   "execution_count": null,
   "metadata": {
    "collapsed": true
   },
   "outputs": [],
   "source": [
    "item_user={k: g[\"reviewerID\"].tolist() for k,g in df.groupby(\"asin\")}\n",
    "item_user"
   ]
  },
  {
   "cell_type": "code",
   "execution_count": null,
   "metadata": {
    "ExecuteTime": {
     "end_time": "2017-05-29T22:21:05.290536Z",
     "start_time": "2017-05-29T22:21:05.271429Z"
    },
    "collapsed": true
   },
   "outputs": [],
   "source": [
    "item_user"
   ]
  },
  {
   "cell_type": "code",
   "execution_count": null,
   "metadata": {
    "ExecuteTime": {
     "end_time": "2017-06-07T13:55:24.947793Z",
     "start_time": "2017-06-07T13:39:28.799126Z"
    },
    "collapsed": true
   },
   "outputs": [],
   "source": []
  },
  {
   "cell_type": "code",
   "execution_count": null,
   "metadata": {
    "collapsed": true
   },
   "outputs": [],
   "source": []
  },
  {
   "cell_type": "code",
   "execution_count": null,
   "metadata": {
    "collapsed": true
   },
   "outputs": [],
   "source": []
  },
  {
   "cell_type": "code",
   "execution_count": null,
   "metadata": {
    "collapsed": true
   },
   "outputs": [],
   "source": []
  },
  {
   "cell_type": "code",
   "execution_count": null,
   "metadata": {
    "collapsed": true
   },
   "outputs": [],
   "source": []
  },
  {
   "cell_type": "code",
   "execution_count": null,
   "metadata": {
    "collapsed": true
   },
   "outputs": [],
   "source": [
    "def data_report(df=None):\n",
    "    # print various information, num users, items, density, etc...\n",
    "    \n",
    "    df.groupby('reviewerID').agg(['mean', 'count']).hist()\n",
    "    return"
   ]
  }
 ],
 "metadata": {
  "kernelspec": {
   "display_name": "Python 3",
   "language": "python",
   "name": "python3"
  },
  "language_info": {
   "codemirror_mode": {
    "name": "ipython",
    "version": 3
   },
   "file_extension": ".py",
   "mimetype": "text/x-python",
   "name": "python",
   "nbconvert_exporter": "python",
   "pygments_lexer": "ipython3",
   "version": "3.6.1"
  },
  "toc": {
   "colors": {
    "hover_highlight": "#DAA520",
    "navigate_num": "#000000",
    "navigate_text": "#333333",
    "running_highlight": "#FF0000",
    "selected_highlight": "#FFD700",
    "sidebar_border": "#EEEEEE",
    "wrapper_background": "#FFFFFF"
   },
   "moveMenuLeft": true,
   "nav_menu": {
    "height": "274px",
    "width": "346px"
   },
   "navigate_menu": true,
   "number_sections": true,
   "sideBar": true,
   "threshold": 4,
   "toc_cell": false,
   "toc_position": {
    "height": "881px",
    "left": "0px",
    "right": "1324px",
    "top": "106px",
    "width": "173px"
   },
   "toc_section_display": "block",
   "toc_window_display": true,
   "widenNotebook": false
  }
 },
 "nbformat": 4,
 "nbformat_minor": 2
}
